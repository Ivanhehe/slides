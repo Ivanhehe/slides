{
 "cells": [
  {
   "cell_type": "markdown",
   "metadata": {
    "slideshow": {
     "slide_type": "skip"
    }
   },
   "source": [
    "`jupyter nbconvert scipy_intro.ipynb --to slides --post serve`"
   ]
  },
  {
   "cell_type": "markdown",
   "metadata": {
    "slideshow": {
     "slide_type": "slide"
    }
   },
   "source": [
    "<center>\n",
    "  <header>\n",
    "    <h1>Python for Mathematics, Science and Engineering</h1>\n",
    "    <h3>An Introduction to Python's Scientific Stack</h3>\n",
    "  </header>\n",
    "\n",
    "<br>\n",
    "<br>\n",
    "claus.aichinger@gmail.com - https://github.com/caichinger/slides\n",
    "<br>\n",
    "Linuxwochen Wien, 2016.04.29\n",
    "</center>"
   ]
  },
  {
   "cell_type": "markdown",
   "metadata": {
    "slideshow": {
     "slide_type": "slide"
    }
   },
   "source": [
    "#### Claus Aichinger\n",
    "- Scientific Computing mit Python\n",
    "    - (Statistische) Modellierung\n",
    "    - Numerische Verfahren\n",
    "    - Datenanalyse &  Visualisierung\n",
    "- [Austrian Institute of Technology](http://www.ait.ac.at/)"
   ]
  },
  {
   "cell_type": "markdown",
   "metadata": {
    "slideshow": {
     "slide_type": "fragment"
    }
   },
   "source": [
    "#### Dieser Vortrag\n",
    "- richtet sich an (Neu)EinsteigerInnen\n",
    "- gibt einen Überblick zum Scientific Stack in Python"
   ]
  },
  {
   "cell_type": "markdown",
   "metadata": {
    "slideshow": {
     "slide_type": "slide"
    }
   },
   "source": [
    "#### SciPy - Scientific Python - Python's Scientific Stack...\n"
   ]
  },
  {
   "cell_type": "markdown",
   "metadata": {
    "slideshow": {
     "slide_type": "fragment"
    }
   },
   "source": [
    "- Warum verwenden?"
   ]
  },
  {
   "cell_type": "markdown",
   "metadata": {
    "slideshow": {
     "slide_type": "fragment"
    }
   },
   "source": [
    "- Was ist das überhaupt?"
   ]
  },
  {
   "cell_type": "markdown",
   "metadata": {
    "slideshow": {
     "slide_type": "fragment"
    }
   },
   "source": [
    "- Was kann ich damit machen?"
   ]
  },
  {
   "cell_type": "markdown",
   "metadata": {
    "slideshow": {
     "slide_type": "fragment"
    }
   },
   "source": [
    "- Wer sonst verwendet das?"
   ]
  },
  {
   "cell_type": "markdown",
   "metadata": {
    "slideshow": {
     "slide_type": "fragment"
    }
   },
   "source": [
    "- Ein paar Beispiele bitte! ;)"
   ]
  },
  {
   "cell_type": "markdown",
   "metadata": {
    "slideshow": {
     "slide_type": "slide"
    }
   },
   "source": [
    "#### Warum SciPy?"
   ]
  },
  {
   "cell_type": "markdown",
   "metadata": {
    "slideshow": {
     "slide_type": "fragment"
    }
   },
   "source": [
    "- Open Source, Cross-Platform"
   ]
  },
  {
   "cell_type": "markdown",
   "metadata": {
    "slideshow": {
     "slide_type": "fragment"
    }
   },
   "source": [
    "- Ausgereifte und umfassende Bibliotheken für viele Anwendungsfälle"
   ]
  },
  {
   "cell_type": "markdown",
   "metadata": {
    "slideshow": {
     "slide_type": "fragment"
    }
   },
   "source": [
    "- Rapid Prototyping, Scripting"
   ]
  },
  {
   "cell_type": "markdown",
   "metadata": {
    "slideshow": {
     "slide_type": "fragment"
    }
   },
   "source": [
    "- Tools/Konventionen die Softwareentwicklung erleichtern (pep8, pylint, pytest, tox, sphinx, ...)"
   ]
  },
  {
   "cell_type": "markdown",
   "metadata": {
    "slideshow": {
     "slide_type": "fragment"
    }
   },
   "source": [
    "---\n",
    "\n",
    "> ***\"the right tool for the job\"***"
   ]
  },
  {
   "cell_type": "markdown",
   "metadata": {
    "slideshow": {
     "slide_type": "fragment"
    }
   },
   "source": [
    "- Mögliche Alternative zu [MATLAB](https://de.mathworks.com/products/matlab/) oder [R](http://www.r-project.org/)"
   ]
  },
  {
   "cell_type": "markdown",
   "metadata": {
    "slideshow": {
     "slide_type": "slide"
    }
   },
   "source": [
    "#### Was ist SciPy?\n",
    "\n",
    "> *SciPy (pronounced “Sigh Pie”) is a Python-based ecosystem of open-source software for mathematics, science, and engineering.*"
   ]
  },
  {
   "cell_type": "markdown",
   "metadata": {
    "slideshow": {
     "slide_type": "fragment"
    }
   },
   "source": [
    "<img src=\"images/0_NumPy.png\" alt=\"0_NumPy\" align=\"middle\" width=\"700\">"
   ]
  },
  {
   "cell_type": "markdown",
   "metadata": {
    "slideshow": {
     "slide_type": "fragment"
    }
   },
   "source": [
    "<img src=\"images/1_SciPy_matplotlib.png\" alt=\"2_SciPy_matplotlib\" align=\"middle\" width=\"700\">"
   ]
  },
  {
   "cell_type": "markdown",
   "metadata": {
    "slideshow": {
     "slide_type": "fragment"
    }
   },
   "source": [
    "<img src=\"images/2_pandas_SymPy_IPython.png\" alt=\"2_pandas_SymPy_IPython\" align=\"middle\" width=\"700\">"
   ]
  },
  {
   "cell_type": "markdown",
   "metadata": {
    "slideshow": {
     "slide_type": "slide"
    }
   },
   "source": [
    "#### Und dann gibt es noch scikits und andere Packages..."
   ]
  },
  {
   "cell_type": "markdown",
   "metadata": {
    "slideshow": {
     "slide_type": "fragment"
    }
   },
   "source": [
    "<img src=\"images/statsmodels_hybi_banner.png\" alt=\"StatsModels-logo\" align=\"right\" width=\"280\">"
   ]
  },
  {
   "cell_type": "markdown",
   "metadata": {
    "slideshow": {
     "slide_type": "fragment"
    }
   },
   "source": [
    "<img src=\"images/scikit-learn-logo-small.png\" alt=\"scikit-learn-logo\" align=\"left\" width=\"230\">"
   ]
  },
  {
   "cell_type": "markdown",
   "metadata": {
    "slideshow": {
     "slide_type": "fragment"
    }
   },
   "source": [
    "<img src=\"images/scikit_image.png\" alt=\"scikit-image-logo\" align=\"right\" width=\"280\">"
   ]
  },
  {
   "cell_type": "markdown",
   "metadata": {
    "slideshow": {
     "slide_type": "fragment"
    }
   },
   "source": [
    "<h2>Natural Language Toolkit</h2>"
   ]
  },
  {
   "cell_type": "markdown",
   "metadata": {
    "slideshow": {
     "slide_type": "fragment"
    }
   },
   "source": [
    "<div align=\"right\">\n",
    "  <h4>... und viele mehr!</h4>\n",
    "</div>"
   ]
  },
  {
   "cell_type": "markdown",
   "metadata": {
    "slideshow": {
     "slide_type": "slide"
    }
   },
   "source": [
    "#### Und wie mache ich das jetzt?"
   ]
  },
  {
   "cell_type": "markdown",
   "metadata": {
    "slideshow": {
     "slide_type": "fragment"
    }
   },
   "source": [
    "Am einfachsten mit einer Scientific Distribution:\n",
    "<div>\n",
    "  <img src=\"images/logo-anaconda.svg\" alt=\"anaconda-logo\" style=\"float:left;\" width=\"150\">\n",
    "  <img src=\"images/winpython_title.png\" alt=\"winpython-logo\" style=\"float:left;\" width=\"150\">\n",
    "</div>"
   ]
  },
  {
   "cell_type": "markdown",
   "metadata": {
    "slideshow": {
     "slide_type": "fragment"
    }
   },
   "source": [
    "Diese bieten:\n",
    "- umfangreiche Paketsammlungen (alles, was man zu Beginn braucht)\n",
    "- Paket (und Environment) Management\n",
    "- [IPython](http://ipython.org/), [Spyder](http://pythonhosted.org/spyder/)\n",
    "\n",
    "> run Python, Spyder with SciPy and friends out of the box "
   ]
  },
  {
   "cell_type": "markdown",
   "metadata": {
    "slideshow": {
     "slide_type": "slide"
    }
   },
   "source": [
    "#### Wer sonst verwendet SciPy?"
   ]
  },
  {
   "cell_type": "markdown",
   "metadata": {
    "slideshow": {
     "slide_type": "fragment"
    }
   },
   "source": [
    "<img src=\"images/who.png\" alt=\"who\" align=\"middle\" width=\"700\">"
   ]
  },
  {
   "cell_type": "markdown",
   "metadata": {
    "collapsed": true,
    "slideshow": {
     "slide_type": "slide"
    }
   },
   "source": [
    "#### Gleich gibt es zwei Beispiele...\n",
    "\n",
    "- Wir lösen [Lotka-Volterra](https://en.wikipedia.org/wiki/Lotka%E2%80%93Volterra_equation) Gleichung mit\n",
    "    - [NumPy](http://numpy.org/)\n",
    "    - [SciPy](http://scipy.org/scipylib/index.html)\n",
    "    - [matplotlib](http://matplotlib.org/)"
   ]
  },
  {
   "cell_type": "markdown",
   "metadata": {
    "collapsed": true,
    "slideshow": {
     "slide_type": "fragment"
    }
   },
   "source": [
    "- Untersuchen einen Datensatz mit\n",
    "    - [pandas](http://pandas.pydata.org/)\n",
    "    - [seaborn](http://stanford.edu/~mwaskom/software/seaborn/)\n",
    "    \n",
    "In beiden Fällen verwendent wir ein [IPython](http://ipython.org/)/[Jupyter](http://jupyter.org/) Notebook."
   ]
  },
  {
   "cell_type": "markdown",
   "metadata": {
    "slideshow": {
     "slide_type": "slide"
    }
   },
   "source": [
    "#### Wo gibt's (Sci)Py?\n",
    "\n",
    "- [Python User Group Austria](https://pyug.at/)\n",
    "\n",
    "- [Vienna Kaggle](http://www.meetup.com/de-DE/Vienna-Kaggle/)\n",
    "\n",
    "- [LWW: Python 3 Workshop](https://cfp.linuxwochen.at/de/LWW16/public/events/438) (morgen 14:00)\n",
    "  \n",
    "- [Meetup...](http://www.meetup.com/)\n"
   ]
  }
 ],
 "metadata": {
  "celltoolbar": "Slideshow",
  "kernelspec": {
   "display_name": "Python 3",
   "language": "python",
   "name": "python3"
  },
  "language_info": {
   "codemirror_mode": {
    "name": "ipython",
    "version": 3
   },
   "file_extension": ".py",
   "mimetype": "text/x-python",
   "name": "python",
   "nbconvert_exporter": "python",
   "pygments_lexer": "ipython3",
   "version": "3.5.1"
  }
 },
 "nbformat": 4,
 "nbformat_minor": 0
}
