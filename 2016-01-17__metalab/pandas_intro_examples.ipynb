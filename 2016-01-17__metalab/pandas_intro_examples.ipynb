{
 "cells": [
  {
   "cell_type": "code",
   "execution_count": 38,
   "metadata": {
    "collapsed": true,
    "slideshow": {
     "slide_type": "skip"
    }
   },
   "outputs": [],
   "source": [
    "%matplotlib inline\n",
    "import pandas as pd\n",
    "import numpy as np\n",
    "import matplotlib.pyplot as plt\n",
    "import seaborn as sns\n",
    "import warnings\n",
    "warnings.filterwarnings('ignore')\n",
    "pd.options.display.max_rows = 6"
   ]
  },
  {
   "cell_type": "markdown",
   "metadata": {},
   "source": [
    "### Explore wage data set\n",
    "Data borrowed from [ISLR package](https://cran.r-project.org/web/packages/ISLR/)"
   ]
  },
  {
   "cell_type": "code",
   "execution_count": 39,
   "metadata": {
    "collapsed": false,
    "slideshow": {
     "slide_type": "skip"
    }
   },
   "outputs": [
    {
     "data": {
      "text/html": [
       "<div>\n",
       "<table border=\"1\" class=\"dataframe\">\n",
       "  <thead>\n",
       "    <tr style=\"text-align: right;\">\n",
       "      <th></th>\n",
       "      <th>year</th>\n",
       "      <th>age</th>\n",
       "      <th>sex</th>\n",
       "      <th>maritl</th>\n",
       "      <th>race</th>\n",
       "      <th>education</th>\n",
       "      <th>region</th>\n",
       "      <th>jobclass</th>\n",
       "      <th>health</th>\n",
       "      <th>health_ins</th>\n",
       "      <th>logwage</th>\n",
       "      <th>wage</th>\n",
       "    </tr>\n",
       "  </thead>\n",
       "  <tbody>\n",
       "    <tr>\n",
       "      <th>231655</th>\n",
       "      <td>2006</td>\n",
       "      <td>18</td>\n",
       "      <td>1. Male</td>\n",
       "      <td>1. Never Married</td>\n",
       "      <td>1. White</td>\n",
       "      <td>1. &lt; HS Grad</td>\n",
       "      <td>2. Middle Atlantic</td>\n",
       "      <td>1. Industrial</td>\n",
       "      <td>1. &lt;=Good</td>\n",
       "      <td>2. No</td>\n",
       "      <td>4.318063</td>\n",
       "      <td>75.043154</td>\n",
       "    </tr>\n",
       "    <tr>\n",
       "      <th>86582</th>\n",
       "      <td>2004</td>\n",
       "      <td>24</td>\n",
       "      <td>1. Male</td>\n",
       "      <td>1. Never Married</td>\n",
       "      <td>1. White</td>\n",
       "      <td>4. College Grad</td>\n",
       "      <td>2. Middle Atlantic</td>\n",
       "      <td>2. Information</td>\n",
       "      <td>2. &gt;=Very Good</td>\n",
       "      <td>2. No</td>\n",
       "      <td>4.255273</td>\n",
       "      <td>70.476020</td>\n",
       "    </tr>\n",
       "    <tr>\n",
       "      <th>161300</th>\n",
       "      <td>2003</td>\n",
       "      <td>45</td>\n",
       "      <td>1. Male</td>\n",
       "      <td>2. Married</td>\n",
       "      <td>1. White</td>\n",
       "      <td>3. Some College</td>\n",
       "      <td>2. Middle Atlantic</td>\n",
       "      <td>1. Industrial</td>\n",
       "      <td>1. &lt;=Good</td>\n",
       "      <td>1. Yes</td>\n",
       "      <td>4.875061</td>\n",
       "      <td>130.982177</td>\n",
       "    </tr>\n",
       "    <tr>\n",
       "      <th>...</th>\n",
       "      <td>...</td>\n",
       "      <td>...</td>\n",
       "      <td>...</td>\n",
       "      <td>...</td>\n",
       "      <td>...</td>\n",
       "      <td>...</td>\n",
       "      <td>...</td>\n",
       "      <td>...</td>\n",
       "      <td>...</td>\n",
       "      <td>...</td>\n",
       "      <td>...</td>\n",
       "      <td>...</td>\n",
       "    </tr>\n",
       "    <tr>\n",
       "      <th>10033</th>\n",
       "      <td>2005</td>\n",
       "      <td>27</td>\n",
       "      <td>1. Male</td>\n",
       "      <td>2. Married</td>\n",
       "      <td>2. Black</td>\n",
       "      <td>1. &lt; HS Grad</td>\n",
       "      <td>2. Middle Atlantic</td>\n",
       "      <td>1. Industrial</td>\n",
       "      <td>1. &lt;=Good</td>\n",
       "      <td>2. No</td>\n",
       "      <td>4.193125</td>\n",
       "      <td>66.229408</td>\n",
       "    </tr>\n",
       "    <tr>\n",
       "      <th>14375</th>\n",
       "      <td>2005</td>\n",
       "      <td>27</td>\n",
       "      <td>1. Male</td>\n",
       "      <td>1. Never Married</td>\n",
       "      <td>1. White</td>\n",
       "      <td>3. Some College</td>\n",
       "      <td>2. Middle Atlantic</td>\n",
       "      <td>1. Industrial</td>\n",
       "      <td>2. &gt;=Very Good</td>\n",
       "      <td>1. Yes</td>\n",
       "      <td>4.477121</td>\n",
       "      <td>87.981033</td>\n",
       "    </tr>\n",
       "    <tr>\n",
       "      <th>453557</th>\n",
       "      <td>2009</td>\n",
       "      <td>55</td>\n",
       "      <td>1. Male</td>\n",
       "      <td>5. Separated</td>\n",
       "      <td>1. White</td>\n",
       "      <td>2. HS Grad</td>\n",
       "      <td>2. Middle Atlantic</td>\n",
       "      <td>1. Industrial</td>\n",
       "      <td>1. &lt;=Good</td>\n",
       "      <td>1. Yes</td>\n",
       "      <td>4.505150</td>\n",
       "      <td>90.481913</td>\n",
       "    </tr>\n",
       "  </tbody>\n",
       "</table>\n",
       "<p>3000 rows × 12 columns</p>\n",
       "</div>"
      ],
      "text/plain": [
       "        year  age      sex            maritl      race        education  \\\n",
       "231655  2006   18  1. Male  1. Never Married  1. White     1. < HS Grad   \n",
       "86582   2004   24  1. Male  1. Never Married  1. White  4. College Grad   \n",
       "161300  2003   45  1. Male        2. Married  1. White  3. Some College   \n",
       "...      ...  ...      ...               ...       ...              ...   \n",
       "10033   2005   27  1. Male        2. Married  2. Black     1. < HS Grad   \n",
       "14375   2005   27  1. Male  1. Never Married  1. White  3. Some College   \n",
       "453557  2009   55  1. Male      5. Separated  1. White       2. HS Grad   \n",
       "\n",
       "                    region        jobclass          health health_ins  \\\n",
       "231655  2. Middle Atlantic   1. Industrial       1. <=Good      2. No   \n",
       "86582   2. Middle Atlantic  2. Information  2. >=Very Good      2. No   \n",
       "161300  2. Middle Atlantic   1. Industrial       1. <=Good     1. Yes   \n",
       "...                    ...             ...             ...        ...   \n",
       "10033   2. Middle Atlantic   1. Industrial       1. <=Good      2. No   \n",
       "14375   2. Middle Atlantic   1. Industrial  2. >=Very Good     1. Yes   \n",
       "453557  2. Middle Atlantic   1. Industrial       1. <=Good     1. Yes   \n",
       "\n",
       "         logwage        wage  \n",
       "231655  4.318063   75.043154  \n",
       "86582   4.255273   70.476020  \n",
       "161300  4.875061  130.982177  \n",
       "...          ...         ...  \n",
       "10033   4.193125   66.229408  \n",
       "14375   4.477121   87.981033  \n",
       "453557  4.505150   90.481913  \n",
       "\n",
       "[3000 rows x 12 columns]"
      ]
     },
     "execution_count": 39,
     "metadata": {},
     "output_type": "execute_result"
    }
   ],
   "source": [
    "# Wage dataset from https://cran.r-project.org/web/packages/ISLR/\n",
    "df = pd.read_csv('./data/wage_data.csv', index_col=0)\n",
    "df"
   ]
  },
  {
   "cell_type": "code",
   "execution_count": 40,
   "metadata": {
    "collapsed": false,
    "slideshow": {
     "slide_type": "skip"
    }
   },
   "outputs": [
    {
     "name": "stdout",
     "output_type": "stream",
     "text": [
      "              year          age      logwage         wage\n",
      "count  3000.000000  3000.000000  3000.000000  3000.000000\n",
      "mean   2005.791000    42.414667     4.653905   111.703608\n",
      "std       2.026167    11.542406     0.351753    41.728595\n",
      "min    2003.000000    18.000000     3.000000    20.085537\n",
      "25%    2004.000000    33.750000     4.447158    85.383940\n",
      "50%    2006.000000    42.000000     4.653213   104.921507\n",
      "75%    2008.000000    51.000000     4.857332   128.680488\n",
      "max    2009.000000    80.000000     5.763128   318.342430\n"
     ]
    }
   ],
   "source": [
    "pd.options.display.max_rows = 10\n",
    "print(df.describe())\n",
    "pd.options.display.max_rows = 6"
   ]
  },
  {
   "cell_type": "code",
   "execution_count": 41,
   "metadata": {
    "collapsed": false,
    "slideshow": {
     "slide_type": "skip"
    }
   },
   "outputs": [
    {
     "data": {
      "text/plain": [
       "Index(['year', 'age', 'sex', 'maritl', 'race', 'education', 'region',\n",
       "       'jobclass', 'health', 'health_ins', 'logwage', 'wage'],\n",
       "      dtype='object')"
      ]
     },
     "execution_count": 41,
     "metadata": {},
     "output_type": "execute_result"
    }
   ],
   "source": [
    "df.columns"
   ]
  },
  {
   "cell_type": "code",
   "execution_count": 42,
   "metadata": {
    "collapsed": false,
    "slideshow": {
     "slide_type": "skip"
    }
   },
   "outputs": [
    {
     "data": {
      "text/plain": [
       "array(['1. Male'], dtype=object)"
      ]
     },
     "execution_count": 42,
     "metadata": {},
     "output_type": "execute_result"
    }
   ],
   "source": [
    "df['sex'].unique()"
   ]
  },
  {
   "cell_type": "code",
   "execution_count": 43,
   "metadata": {
    "collapsed": false,
    "slideshow": {
     "slide_type": "skip"
    }
   },
   "outputs": [
    {
     "data": {
      "text/plain": [
       "array(['1. White', '3. Asian', '4. Other', '2. Black'], dtype=object)"
      ]
     },
     "execution_count": 43,
     "metadata": {},
     "output_type": "execute_result"
    }
   ],
   "source": [
    "df['race'].unique()"
   ]
  },
  {
   "cell_type": "code",
   "execution_count": 44,
   "metadata": {
    "collapsed": false,
    "slideshow": {
     "slide_type": "skip"
    }
   },
   "outputs": [
    {
     "data": {
      "text/plain": [
       "array(['White', 'Asian', 'Other', 'Black'], dtype=object)"
      ]
     },
     "execution_count": 44,
     "metadata": {},
     "output_type": "execute_result"
    }
   ],
   "source": [
    "df['race'] = df['race'].apply(lambda x: x.split('. ')[1])\n",
    "df['race'].unique()"
   ]
  },
  {
   "cell_type": "code",
   "execution_count": 45,
   "metadata": {
    "collapsed": false,
    "slideshow": {
     "slide_type": "skip"
    }
   },
   "outputs": [
    {
     "data": {
      "text/plain": [
       "array(['1. < HS Grad', '4. College Grad', '3. Some College', '2. HS Grad',\n",
       "       '5. Advanced Degree'], dtype=object)"
      ]
     },
     "execution_count": 45,
     "metadata": {},
     "output_type": "execute_result"
    }
   ],
   "source": [
    "df['education'].unique()"
   ]
  },
  {
   "cell_type": "code",
   "execution_count": 46,
   "metadata": {
    "collapsed": true,
    "slideshow": {
     "slide_type": "skip"
    }
   },
   "outputs": [],
   "source": [
    "df['education'] = df['education'].replace({'1. < HS Grad': 'Primary Education', \n",
    "                                           '2. HS Grad': 'Secondary Education', \n",
    "                                           '3. Some College': 'Postsecondary Education',\n",
    "                                           '4. College Grad': 'Postsecondary Education', \n",
    "                                           '5. Advanced Degree': 'Advanced Degree'})"
   ]
  },
  {
   "cell_type": "code",
   "execution_count": 47,
   "metadata": {
    "collapsed": false,
    "slideshow": {
     "slide_type": "skip"
    }
   },
   "outputs": [
    {
     "data": {
      "text/plain": [
       "array(['Primary Education', 'Postsecondary Education',\n",
       "       'Secondary Education', 'Advanced Degree'], dtype=object)"
      ]
     },
     "execution_count": 47,
     "metadata": {},
     "output_type": "execute_result"
    }
   ],
   "source": [
    "df['education'].unique()"
   ]
  },
  {
   "cell_type": "code",
   "execution_count": 48,
   "metadata": {
    "collapsed": false
   },
   "outputs": [
    {
     "data": {
      "text/plain": [
       "Counter({'Advanced Degree': 426,\n",
       "         'Postsecondary Education': 1335,\n",
       "         'Primary Education': 268,\n",
       "         'Secondary Education': 971})"
      ]
     },
     "execution_count": 48,
     "metadata": {},
     "output_type": "execute_result"
    }
   ],
   "source": [
    "from collections import Counter\n",
    "Counter(df.education)"
   ]
  },
  {
   "cell_type": "code",
   "execution_count": 49,
   "metadata": {
    "collapsed": false,
    "slideshow": {
     "slide_type": "skip"
    }
   },
   "outputs": [
    {
     "data": {
      "text/html": [
       "<div>\n",
       "<table border=\"1\" class=\"dataframe\">\n",
       "  <thead>\n",
       "    <tr style=\"text-align: right;\">\n",
       "      <th></th>\n",
       "      <th>year</th>\n",
       "      <th>age</th>\n",
       "      <th>sex</th>\n",
       "      <th>maritl</th>\n",
       "      <th>race</th>\n",
       "      <th>education</th>\n",
       "      <th>region</th>\n",
       "      <th>jobclass</th>\n",
       "      <th>health</th>\n",
       "      <th>health_ins</th>\n",
       "      <th>logwage</th>\n",
       "      <th>wage</th>\n",
       "      <th>age_class</th>\n",
       "    </tr>\n",
       "  </thead>\n",
       "  <tbody>\n",
       "    <tr>\n",
       "      <th>231655</th>\n",
       "      <td>2006</td>\n",
       "      <td>18</td>\n",
       "      <td>1. Male</td>\n",
       "      <td>1. Never Married</td>\n",
       "      <td>White</td>\n",
       "      <td>Primary Education</td>\n",
       "      <td>2. Middle Atlantic</td>\n",
       "      <td>1. Industrial</td>\n",
       "      <td>1. &lt;=Good</td>\n",
       "      <td>2. No</td>\n",
       "      <td>4.318063</td>\n",
       "      <td>75.043154</td>\n",
       "      <td>0-18</td>\n",
       "    </tr>\n",
       "    <tr>\n",
       "      <th>86582</th>\n",
       "      <td>2004</td>\n",
       "      <td>24</td>\n",
       "      <td>1. Male</td>\n",
       "      <td>1. Never Married</td>\n",
       "      <td>White</td>\n",
       "      <td>Postsecondary Education</td>\n",
       "      <td>2. Middle Atlantic</td>\n",
       "      <td>2. Information</td>\n",
       "      <td>2. &gt;=Very Good</td>\n",
       "      <td>2. No</td>\n",
       "      <td>4.255273</td>\n",
       "      <td>70.476020</td>\n",
       "      <td>19-35</td>\n",
       "    </tr>\n",
       "    <tr>\n",
       "      <th>161300</th>\n",
       "      <td>2003</td>\n",
       "      <td>45</td>\n",
       "      <td>1. Male</td>\n",
       "      <td>2. Married</td>\n",
       "      <td>White</td>\n",
       "      <td>Postsecondary Education</td>\n",
       "      <td>2. Middle Atlantic</td>\n",
       "      <td>1. Industrial</td>\n",
       "      <td>1. &lt;=Good</td>\n",
       "      <td>1. Yes</td>\n",
       "      <td>4.875061</td>\n",
       "      <td>130.982177</td>\n",
       "      <td>36-65</td>\n",
       "    </tr>\n",
       "    <tr>\n",
       "      <th>...</th>\n",
       "      <td>...</td>\n",
       "      <td>...</td>\n",
       "      <td>...</td>\n",
       "      <td>...</td>\n",
       "      <td>...</td>\n",
       "      <td>...</td>\n",
       "      <td>...</td>\n",
       "      <td>...</td>\n",
       "      <td>...</td>\n",
       "      <td>...</td>\n",
       "      <td>...</td>\n",
       "      <td>...</td>\n",
       "      <td>...</td>\n",
       "    </tr>\n",
       "    <tr>\n",
       "      <th>10033</th>\n",
       "      <td>2005</td>\n",
       "      <td>27</td>\n",
       "      <td>1. Male</td>\n",
       "      <td>2. Married</td>\n",
       "      <td>Black</td>\n",
       "      <td>Primary Education</td>\n",
       "      <td>2. Middle Atlantic</td>\n",
       "      <td>1. Industrial</td>\n",
       "      <td>1. &lt;=Good</td>\n",
       "      <td>2. No</td>\n",
       "      <td>4.193125</td>\n",
       "      <td>66.229408</td>\n",
       "      <td>19-35</td>\n",
       "    </tr>\n",
       "    <tr>\n",
       "      <th>14375</th>\n",
       "      <td>2005</td>\n",
       "      <td>27</td>\n",
       "      <td>1. Male</td>\n",
       "      <td>1. Never Married</td>\n",
       "      <td>White</td>\n",
       "      <td>Postsecondary Education</td>\n",
       "      <td>2. Middle Atlantic</td>\n",
       "      <td>1. Industrial</td>\n",
       "      <td>2. &gt;=Very Good</td>\n",
       "      <td>1. Yes</td>\n",
       "      <td>4.477121</td>\n",
       "      <td>87.981033</td>\n",
       "      <td>19-35</td>\n",
       "    </tr>\n",
       "    <tr>\n",
       "      <th>453557</th>\n",
       "      <td>2009</td>\n",
       "      <td>55</td>\n",
       "      <td>1. Male</td>\n",
       "      <td>5. Separated</td>\n",
       "      <td>White</td>\n",
       "      <td>Secondary Education</td>\n",
       "      <td>2. Middle Atlantic</td>\n",
       "      <td>1. Industrial</td>\n",
       "      <td>1. &lt;=Good</td>\n",
       "      <td>1. Yes</td>\n",
       "      <td>4.505150</td>\n",
       "      <td>90.481913</td>\n",
       "      <td>36-65</td>\n",
       "    </tr>\n",
       "  </tbody>\n",
       "</table>\n",
       "<p>3000 rows × 13 columns</p>\n",
       "</div>"
      ],
      "text/plain": [
       "        year  age      sex            maritl   race                education  \\\n",
       "231655  2006   18  1. Male  1. Never Married  White        Primary Education   \n",
       "86582   2004   24  1. Male  1. Never Married  White  Postsecondary Education   \n",
       "161300  2003   45  1. Male        2. Married  White  Postsecondary Education   \n",
       "...      ...  ...      ...               ...    ...                      ...   \n",
       "10033   2005   27  1. Male        2. Married  Black        Primary Education   \n",
       "14375   2005   27  1. Male  1. Never Married  White  Postsecondary Education   \n",
       "453557  2009   55  1. Male      5. Separated  White      Secondary Education   \n",
       "\n",
       "                    region        jobclass          health health_ins  \\\n",
       "231655  2. Middle Atlantic   1. Industrial       1. <=Good      2. No   \n",
       "86582   2. Middle Atlantic  2. Information  2. >=Very Good      2. No   \n",
       "161300  2. Middle Atlantic   1. Industrial       1. <=Good     1. Yes   \n",
       "...                    ...             ...             ...        ...   \n",
       "10033   2. Middle Atlantic   1. Industrial       1. <=Good      2. No   \n",
       "14375   2. Middle Atlantic   1. Industrial  2. >=Very Good     1. Yes   \n",
       "453557  2. Middle Atlantic   1. Industrial       1. <=Good     1. Yes   \n",
       "\n",
       "         logwage        wage age_class  \n",
       "231655  4.318063   75.043154      0-18  \n",
       "86582   4.255273   70.476020     19-35  \n",
       "161300  4.875061  130.982177     36-65  \n",
       "...          ...         ...       ...  \n",
       "10033   4.193125   66.229408     19-35  \n",
       "14375   4.477121   87.981033     19-35  \n",
       "453557  4.505150   90.481913     36-65  \n",
       "\n",
       "[3000 rows x 13 columns]"
      ]
     },
     "execution_count": 49,
     "metadata": {},
     "output_type": "execute_result"
    }
   ],
   "source": [
    "df['age_class'] = pd.cut(df['age'], [0, 18, 35, 65, np.Inf], labels=['0-18', '19-35', '36-65', '66+'])\n",
    "df"
   ]
  },
  {
   "cell_type": "code",
   "execution_count": 50,
   "metadata": {
    "collapsed": false,
    "slideshow": {
     "slide_type": "skip"
    }
   },
   "outputs": [
    {
     "data": {
      "text/html": [
       "<div>\n",
       "<table border=\"1\" class=\"dataframe\">\n",
       "  <thead>\n",
       "    <tr style=\"text-align: right;\">\n",
       "      <th></th>\n",
       "      <th>mean</th>\n",
       "      <th>std</th>\n",
       "    </tr>\n",
       "    <tr>\n",
       "      <th>age_class</th>\n",
       "      <th></th>\n",
       "      <th></th>\n",
       "    </tr>\n",
       "  </thead>\n",
       "  <tbody>\n",
       "    <tr>\n",
       "      <th>0-18</th>\n",
       "      <td>64.493063</td>\n",
       "      <td>11.471962</td>\n",
       "    </tr>\n",
       "    <tr>\n",
       "      <th>19-35</th>\n",
       "      <td>97.417444</td>\n",
       "      <td>32.976762</td>\n",
       "    </tr>\n",
       "    <tr>\n",
       "      <th>36-65</th>\n",
       "      <td>118.494559</td>\n",
       "      <td>43.578145</td>\n",
       "    </tr>\n",
       "    <tr>\n",
       "      <th>66+</th>\n",
       "      <td>102.553894</td>\n",
       "      <td>36.939896</td>\n",
       "    </tr>\n",
       "  </tbody>\n",
       "</table>\n",
       "</div>"
      ],
      "text/plain": [
       "                 mean        std\n",
       "age_class                       \n",
       "0-18        64.493063  11.471962\n",
       "19-35       97.417444  32.976762\n",
       "36-65      118.494559  43.578145\n",
       "66+        102.553894  36.939896"
      ]
     },
     "execution_count": 50,
     "metadata": {},
     "output_type": "execute_result"
    }
   ],
   "source": [
    "df.groupby('age_class')['wage'].agg([np.mean, np.std])"
   ]
  },
  {
   "cell_type": "code",
   "execution_count": 51,
   "metadata": {
    "collapsed": false,
    "slideshow": {
     "slide_type": "skip"
    }
   },
   "outputs": [
    {
     "data": {
      "text/html": [
       "<div>\n",
       "<table border=\"1\" class=\"dataframe\">\n",
       "  <thead>\n",
       "    <tr style=\"text-align: right;\">\n",
       "      <th></th>\n",
       "      <th>mean</th>\n",
       "      <th>std</th>\n",
       "    </tr>\n",
       "    <tr>\n",
       "      <th>race</th>\n",
       "      <th></th>\n",
       "      <th></th>\n",
       "    </tr>\n",
       "  </thead>\n",
       "  <tbody>\n",
       "    <tr>\n",
       "      <th>Asian</th>\n",
       "      <td>120.288288</td>\n",
       "      <td>46.422514</td>\n",
       "    </tr>\n",
       "    <tr>\n",
       "      <th>Black</th>\n",
       "      <td>101.601177</td>\n",
       "      <td>37.162486</td>\n",
       "    </tr>\n",
       "    <tr>\n",
       "      <th>Other</th>\n",
       "      <td>89.973326</td>\n",
       "      <td>29.153530</td>\n",
       "    </tr>\n",
       "    <tr>\n",
       "      <th>White</th>\n",
       "      <td>112.563666</td>\n",
       "      <td>41.733830</td>\n",
       "    </tr>\n",
       "  </tbody>\n",
       "</table>\n",
       "</div>"
      ],
      "text/plain": [
       "             mean        std\n",
       "race                        \n",
       "Asian  120.288288  46.422514\n",
       "Black  101.601177  37.162486\n",
       "Other   89.973326  29.153530\n",
       "White  112.563666  41.733830"
      ]
     },
     "execution_count": 51,
     "metadata": {},
     "output_type": "execute_result"
    }
   ],
   "source": [
    "df.groupby('race')['wage'].agg([np.mean, np.std])"
   ]
  },
  {
   "cell_type": "code",
   "execution_count": 52,
   "metadata": {
    "collapsed": false,
    "slideshow": {
     "slide_type": "skip"
    }
   },
   "outputs": [
    {
     "data": {
      "text/html": [
       "<div>\n",
       "<table border=\"1\" class=\"dataframe\">\n",
       "  <thead>\n",
       "    <tr style=\"text-align: right;\">\n",
       "      <th></th>\n",
       "      <th></th>\n",
       "      <th>mean</th>\n",
       "      <th>std</th>\n",
       "    </tr>\n",
       "    <tr>\n",
       "      <th>age_class</th>\n",
       "      <th>race</th>\n",
       "      <th></th>\n",
       "      <th></th>\n",
       "    </tr>\n",
       "  </thead>\n",
       "  <tbody>\n",
       "    <tr>\n",
       "      <th rowspan=\"2\" valign=\"top\">0-18</th>\n",
       "      <th>Black</th>\n",
       "      <td>70.476020</td>\n",
       "      <td>NaN</td>\n",
       "    </tr>\n",
       "    <tr>\n",
       "      <th>White</th>\n",
       "      <td>63.894767</td>\n",
       "      <td>11.910237</td>\n",
       "    </tr>\n",
       "    <tr>\n",
       "      <th rowspan=\"4\" valign=\"top\">19-35</th>\n",
       "      <th>Asian</th>\n",
       "      <td>112.971113</td>\n",
       "      <td>42.205021</td>\n",
       "    </tr>\n",
       "    <tr>\n",
       "      <th>Black</th>\n",
       "      <td>93.318806</td>\n",
       "      <td>32.915168</td>\n",
       "    </tr>\n",
       "    <tr>\n",
       "      <th>Other</th>\n",
       "      <td>78.895957</td>\n",
       "      <td>22.641586</td>\n",
       "    </tr>\n",
       "    <tr>\n",
       "      <th>White</th>\n",
       "      <td>96.949330</td>\n",
       "      <td>31.783729</td>\n",
       "    </tr>\n",
       "    <tr>\n",
       "      <th rowspan=\"4\" valign=\"top\">36-65</th>\n",
       "      <th>Asian</th>\n",
       "      <td>124.585997</td>\n",
       "      <td>48.510500</td>\n",
       "    </tr>\n",
       "    <tr>\n",
       "      <th>Black</th>\n",
       "      <td>105.550900</td>\n",
       "      <td>39.468244</td>\n",
       "    </tr>\n",
       "    <tr>\n",
       "      <th>Other</th>\n",
       "      <td>100.467677</td>\n",
       "      <td>31.252798</td>\n",
       "    </tr>\n",
       "    <tr>\n",
       "      <th>White</th>\n",
       "      <td>119.686426</td>\n",
       "      <td>43.496410</td>\n",
       "    </tr>\n",
       "    <tr>\n",
       "      <th rowspan=\"3\" valign=\"top\">66+</th>\n",
       "      <th>Asian</th>\n",
       "      <td>114.589507</td>\n",
       "      <td>44.560380</td>\n",
       "    </tr>\n",
       "    <tr>\n",
       "      <th>Black</th>\n",
       "      <td>102.328581</td>\n",
       "      <td>24.840629</td>\n",
       "    </tr>\n",
       "    <tr>\n",
       "      <th>White</th>\n",
       "      <td>101.185054</td>\n",
       "      <td>40.844991</td>\n",
       "    </tr>\n",
       "  </tbody>\n",
       "</table>\n",
       "</div>"
      ],
      "text/plain": [
       "                       mean        std\n",
       "age_class race                        \n",
       "0-18      Black   70.476020        NaN\n",
       "          White   63.894767  11.910237\n",
       "19-35     Asian  112.971113  42.205021\n",
       "          Black   93.318806  32.915168\n",
       "          Other   78.895957  22.641586\n",
       "          White   96.949330  31.783729\n",
       "36-65     Asian  124.585997  48.510500\n",
       "          Black  105.550900  39.468244\n",
       "          Other  100.467677  31.252798\n",
       "          White  119.686426  43.496410\n",
       "66+       Asian  114.589507  44.560380\n",
       "          Black  102.328581  24.840629\n",
       "          White  101.185054  40.844991"
      ]
     },
     "execution_count": 52,
     "metadata": {},
     "output_type": "execute_result"
    }
   ],
   "source": [
    "pd.options.display.max_rows = 100\n",
    "df.groupby(['age_class', 'race'])['wage'].agg([np.mean, np.std])"
   ]
  },
  {
   "cell_type": "code",
   "execution_count": 53,
   "metadata": {
    "collapsed": false,
    "slideshow": {
     "slide_type": "skip"
    }
   },
   "outputs": [
    {
     "data": {
      "text/plain": [
       "<matplotlib.axes._subplots.AxesSubplot at 0x7fcfaab93278>"
      ]
     },
     "execution_count": 53,
     "metadata": {},
     "output_type": "execute_result"
    },
    {
     "data": {
      "image/png": "[encoded data removed]",
      "text/plain": [
       "<matplotlib.figure.Figure at 0x7fcfaabd54e0>"
      ]
     },
     "metadata": {},
     "output_type": "display_data"
    }
   ],
   "source": [
    "fig, axs = plt.subplots(nrows=2)\n",
    "df['wage'].plot.hist(bins=50, ax=axs[0])\n",
    "df['logwage'].plot.hist(bins=50, ax=axs[1])"
   ]
  },
  {
   "cell_type": "code",
   "execution_count": 54,
   "metadata": {
    "collapsed": false,
    "slideshow": {
     "slide_type": "skip"
    }
   },
   "outputs": [
    {
     "data": {
      "text/plain": [
       "<matplotlib.legend.Legend at 0x7fcfaa4cc668>"
      ]
     },
     "execution_count": 54,
     "metadata": {},
     "output_type": "execute_result"
    },
    {
     "data": {
      "image/png": "[encoded data removed]",
      "text/plain": [
       "<matplotlib.figure.Figure at 0x7fcfb008cb00>"
      ]
     },
     "metadata": {},
     "output_type": "display_data"
    }
   ],
   "source": [
    "# %% scatter plot wage ~ age\n",
    "fig, ax = plt.subplots()\n",
    "df.plot.scatter(x='age', y='wage', title='wage ~ age', alpha=0.5, label='data', ax=ax)\n",
    "\n",
    "# compute median wage per age and plot\n",
    "df.groupby('age')['wage'].agg(np.median).plot.line(ax=ax, label='median', color='g')\n",
    "df.groupby('age')['wage'].agg(np.mean).plot.line(ax=ax, label='mean', color='r')\n",
    "ax.legend()"
   ]
  },
  {
   "cell_type": "code",
   "execution_count": 55,
   "metadata": {
    "collapsed": false,
    "slideshow": {
     "slide_type": "skip"
    }
   },
   "outputs": [
    {
     "data": {
      "text/plain": [
       "<matplotlib.axes._subplots.AxesSubplot at 0x7fcfaa50b7b8>"
      ]
     },
     "execution_count": 55,
     "metadata": {},
     "output_type": "execute_result"
    },
    {
     "data": {
      "image/png": "[encoded data removed]",
      "text/plain": [
       "<matplotlib.figure.Figure at 0x7fcfaabd5390>"
      ]
     },
     "metadata": {},
     "output_type": "display_data"
    }
   ],
   "source": [
    "df.boxplot(column='wage', by='education')"
   ]
  },
  {
   "cell_type": "markdown",
   "metadata": {},
   "source": [
    "### Explore air quality\n",
    "Data borrowed from [European Air Quality Database](http://www.eea.europa.eu/data-and-maps/data/airbase-the-european-air-quality-database-8). Also see Joris Van den Bossche's [2015-PyDataParis presentation](https://github.com/jorisvandenbossche/2015-PyDataParis)."
   ]
  },
  {
   "cell_type": "code",
   "execution_count": 56,
   "metadata": {
    "collapsed": false,
    "slideshow": {
     "slide_type": "skip"
    }
   },
   "outputs": [
    {
     "data": {
      "text/html": [
       "<div>\n",
       "<table border=\"1\" class=\"dataframe\">\n",
       "  <thead>\n",
       "    <tr style=\"text-align: right;\">\n",
       "      <th></th>\n",
       "      <th>date</th>\n",
       "      <th>00</th>\n",
       "      <th>flag</th>\n",
       "      <th>01</th>\n",
       "      <th>flag</th>\n",
       "      <th>02</th>\n",
       "      <th>flag</th>\n",
       "      <th>03</th>\n",
       "      <th>flag</th>\n",
       "      <th>04</th>\n",
       "      <th>...</th>\n",
       "      <th>19</th>\n",
       "      <th>flag</th>\n",
       "      <th>20</th>\n",
       "      <th>flag</th>\n",
       "      <th>21</th>\n",
       "      <th>flag</th>\n",
       "      <th>22</th>\n",
       "      <th>flag</th>\n",
       "      <th>23</th>\n",
       "      <th>flag</th>\n",
       "    </tr>\n",
       "  </thead>\n",
       "  <tbody>\n",
       "    <tr>\n",
       "      <th>0</th>\n",
       "      <td>1988-01-01</td>\n",
       "      <td>0.00</td>\n",
       "      <td>1</td>\n",
       "      <td>48.80</td>\n",
       "      <td>1</td>\n",
       "      <td>66.00</td>\n",
       "      <td>1</td>\n",
       "      <td>66.00</td>\n",
       "      <td>1</td>\n",
       "      <td>57.40</td>\n",
       "      <td>...</td>\n",
       "      <td>69.80</td>\n",
       "      <td>1</td>\n",
       "      <td>62.10</td>\n",
       "      <td>1</td>\n",
       "      <td>65.00</td>\n",
       "      <td>1</td>\n",
       "      <td>59.30</td>\n",
       "      <td>1</td>\n",
       "      <td>61.20</td>\n",
       "      <td>1</td>\n",
       "    </tr>\n",
       "    <tr>\n",
       "      <th>1</th>\n",
       "      <td>1988-01-02</td>\n",
       "      <td>70.80</td>\n",
       "      <td>1</td>\n",
       "      <td>61.20</td>\n",
       "      <td>1</td>\n",
       "      <td>53.50</td>\n",
       "      <td>1</td>\n",
       "      <td>53.50</td>\n",
       "      <td>1</td>\n",
       "      <td>46.90</td>\n",
       "      <td>...</td>\n",
       "      <td>62.10</td>\n",
       "      <td>1</td>\n",
       "      <td>57.40</td>\n",
       "      <td>1</td>\n",
       "      <td>59.30</td>\n",
       "      <td>1</td>\n",
       "      <td>58.30</td>\n",
       "      <td>1</td>\n",
       "      <td>59.30</td>\n",
       "      <td>1</td>\n",
       "    </tr>\n",
       "    <tr>\n",
       "      <th>2</th>\n",
       "      <td>1988-01-03</td>\n",
       "      <td>54.50</td>\n",
       "      <td>1</td>\n",
       "      <td>50.70</td>\n",
       "      <td>1</td>\n",
       "      <td>44.00</td>\n",
       "      <td>1</td>\n",
       "      <td>47.80</td>\n",
       "      <td>1</td>\n",
       "      <td>42.10</td>\n",
       "      <td>...</td>\n",
       "      <td>107.10</td>\n",
       "      <td>1</td>\n",
       "      <td>92.70</td>\n",
       "      <td>1</td>\n",
       "      <td>69.80</td>\n",
       "      <td>1</td>\n",
       "      <td>76.50</td>\n",
       "      <td>1</td>\n",
       "      <td>109.00</td>\n",
       "      <td>1</td>\n",
       "    </tr>\n",
       "    <tr>\n",
       "      <th>...</th>\n",
       "      <td>...</td>\n",
       "      <td>...</td>\n",
       "      <td>...</td>\n",
       "      <td>...</td>\n",
       "      <td>...</td>\n",
       "      <td>...</td>\n",
       "      <td>...</td>\n",
       "      <td>...</td>\n",
       "      <td>...</td>\n",
       "      <td>...</td>\n",
       "      <td>...</td>\n",
       "      <td>...</td>\n",
       "      <td>...</td>\n",
       "      <td>...</td>\n",
       "      <td>...</td>\n",
       "      <td>...</td>\n",
       "      <td>...</td>\n",
       "      <td>...</td>\n",
       "      <td>...</td>\n",
       "      <td>...</td>\n",
       "      <td>...</td>\n",
       "    </tr>\n",
       "    <tr>\n",
       "      <th>9129</th>\n",
       "      <td>2012-12-29</td>\n",
       "      <td>33.22</td>\n",
       "      <td>1</td>\n",
       "      <td>42.98</td>\n",
       "      <td>1</td>\n",
       "      <td>34.26</td>\n",
       "      <td>1</td>\n",
       "      <td>28.61</td>\n",
       "      <td>1</td>\n",
       "      <td>51.91</td>\n",
       "      <td>...</td>\n",
       "      <td>29.41</td>\n",
       "      <td>1</td>\n",
       "      <td>23.40</td>\n",
       "      <td>1</td>\n",
       "      <td>20.23</td>\n",
       "      <td>1</td>\n",
       "      <td>19.90</td>\n",
       "      <td>1</td>\n",
       "      <td>20.06</td>\n",
       "      <td>1</td>\n",
       "    </tr>\n",
       "    <tr>\n",
       "      <th>9130</th>\n",
       "      <td>2012-12-30</td>\n",
       "      <td>20.18</td>\n",
       "      <td>1</td>\n",
       "      <td>15.29</td>\n",
       "      <td>1</td>\n",
       "      <td>13.60</td>\n",
       "      <td>1</td>\n",
       "      <td>14.46</td>\n",
       "      <td>1</td>\n",
       "      <td>14.32</td>\n",
       "      <td>...</td>\n",
       "      <td>55.48</td>\n",
       "      <td>1</td>\n",
       "      <td>65.81</td>\n",
       "      <td>1</td>\n",
       "      <td>58.58</td>\n",
       "      <td>1</td>\n",
       "      <td>66.37</td>\n",
       "      <td>1</td>\n",
       "      <td>74.20</td>\n",
       "      <td>1</td>\n",
       "    </tr>\n",
       "    <tr>\n",
       "      <th>9131</th>\n",
       "      <td>2012-12-31</td>\n",
       "      <td>72.85</td>\n",
       "      <td>1</td>\n",
       "      <td>36.85</td>\n",
       "      <td>1</td>\n",
       "      <td>55.21</td>\n",
       "      <td>1</td>\n",
       "      <td>64.44</td>\n",
       "      <td>1</td>\n",
       "      <td>79.94</td>\n",
       "      <td>...</td>\n",
       "      <td>61.90</td>\n",
       "      <td>1</td>\n",
       "      <td>64.80</td>\n",
       "      <td>1</td>\n",
       "      <td>74.46</td>\n",
       "      <td>1</td>\n",
       "      <td>66.60</td>\n",
       "      <td>1</td>\n",
       "      <td>60.85</td>\n",
       "      <td>1</td>\n",
       "    </tr>\n",
       "  </tbody>\n",
       "</table>\n",
       "<p>9132 rows × 49 columns</p>\n",
       "</div>"
      ],
      "text/plain": [
       "            date     00  flag     01  flag     02  flag     03  flag     04  \\\n",
       "0     1988-01-01   0.00     1  48.80     1  66.00     1  66.00     1  57.40   \n",
       "1     1988-01-02  70.80     1  61.20     1  53.50     1  53.50     1  46.90   \n",
       "2     1988-01-03  54.50     1  50.70     1  44.00     1  47.80     1  42.10   \n",
       "...          ...    ...   ...    ...   ...    ...   ...    ...   ...    ...   \n",
       "9129  2012-12-29  33.22     1  42.98     1  34.26     1  28.61     1  51.91   \n",
       "9130  2012-12-30  20.18     1  15.29     1  13.60     1  14.46     1  14.32   \n",
       "9131  2012-12-31  72.85     1  36.85     1  55.21     1  64.44     1  79.94   \n",
       "\n",
       "      ...       19  flag     20  flag     21  flag     22  flag      23  flag  \n",
       "0     ...    69.80     1  62.10     1  65.00     1  59.30     1   61.20     1  \n",
       "1     ...    62.10     1  57.40     1  59.30     1  58.30     1   59.30     1  \n",
       "2     ...   107.10     1  92.70     1  69.80     1  76.50     1  109.00     1  \n",
       "...   ...      ...   ...    ...   ...    ...   ...    ...   ...     ...   ...  \n",
       "9129  ...    29.41     1  23.40     1  20.23     1  19.90     1   20.06     1  \n",
       "9130  ...    55.48     1  65.81     1  58.58     1  66.37     1   74.20     1  \n",
       "9131  ...    61.90     1  64.80     1  74.46     1  66.60     1   60.85     1  \n",
       "\n",
       "[9132 rows x 49 columns]"
      ]
     },
     "execution_count": 56,
     "metadata": {},
     "output_type": "execute_result"
    }
   ],
   "source": [
    "# read in data\n",
    "pd.options.display.max_rows = 7\n",
    "names = ','.join(['date'] + [\"{:02d},flag\".format(i) for i in range(24)]).split(',')\n",
    "df = pd.read_csv('./data/AT90AKC0000800100hour.1-1-1988.31-12-2012',  # measured at AKH-Wien\n",
    "                 sep='\\t', header=None, names=names)\n",
    "df"
   ]
  },
  {
   "cell_type": "code",
   "execution_count": 57,
   "metadata": {
    "collapsed": false,
    "slideshow": {
     "slide_type": "skip"
    }
   },
   "outputs": [
    {
     "data": {
      "text/html": [
       "<div>\n",
       "<table border=\"1\" class=\"dataframe\">\n",
       "  <thead>\n",
       "    <tr style=\"text-align: right;\">\n",
       "      <th></th>\n",
       "      <th>date</th>\n",
       "      <th>00</th>\n",
       "      <th>01</th>\n",
       "      <th>02</th>\n",
       "      <th>03</th>\n",
       "      <th>04</th>\n",
       "      <th>05</th>\n",
       "      <th>06</th>\n",
       "      <th>07</th>\n",
       "      <th>08</th>\n",
       "      <th>...</th>\n",
       "      <th>14</th>\n",
       "      <th>15</th>\n",
       "      <th>16</th>\n",
       "      <th>17</th>\n",
       "      <th>18</th>\n",
       "      <th>19</th>\n",
       "      <th>20</th>\n",
       "      <th>21</th>\n",
       "      <th>22</th>\n",
       "      <th>23</th>\n",
       "    </tr>\n",
       "  </thead>\n",
       "  <tbody>\n",
       "    <tr>\n",
       "      <th>0</th>\n",
       "      <td>1988-01-01</td>\n",
       "      <td>0.00</td>\n",
       "      <td>48.80</td>\n",
       "      <td>66.00</td>\n",
       "      <td>66.00</td>\n",
       "      <td>57.40</td>\n",
       "      <td>71.70</td>\n",
       "      <td>63.10</td>\n",
       "      <td>63.10</td>\n",
       "      <td>57.40</td>\n",
       "      <td>...</td>\n",
       "      <td>73.60</td>\n",
       "      <td>87.00</td>\n",
       "      <td>88.00</td>\n",
       "      <td>81.30</td>\n",
       "      <td>73.60</td>\n",
       "      <td>69.80</td>\n",
       "      <td>62.10</td>\n",
       "      <td>65.00</td>\n",
       "      <td>59.30</td>\n",
       "      <td>61.20</td>\n",
       "    </tr>\n",
       "    <tr>\n",
       "      <th>1</th>\n",
       "      <td>1988-01-02</td>\n",
       "      <td>70.80</td>\n",
       "      <td>61.20</td>\n",
       "      <td>53.50</td>\n",
       "      <td>53.50</td>\n",
       "      <td>46.90</td>\n",
       "      <td>47.80</td>\n",
       "      <td>44.00</td>\n",
       "      <td>44.90</td>\n",
       "      <td>49.70</td>\n",
       "      <td>...</td>\n",
       "      <td>73.60</td>\n",
       "      <td>68.80</td>\n",
       "      <td>65.00</td>\n",
       "      <td>64.10</td>\n",
       "      <td>64.10</td>\n",
       "      <td>62.10</td>\n",
       "      <td>57.40</td>\n",
       "      <td>59.30</td>\n",
       "      <td>58.30</td>\n",
       "      <td>59.30</td>\n",
       "    </tr>\n",
       "    <tr>\n",
       "      <th>2</th>\n",
       "      <td>1988-01-03</td>\n",
       "      <td>54.50</td>\n",
       "      <td>50.70</td>\n",
       "      <td>44.00</td>\n",
       "      <td>47.80</td>\n",
       "      <td>42.10</td>\n",
       "      <td>45.90</td>\n",
       "      <td>54.50</td>\n",
       "      <td>44.90</td>\n",
       "      <td>36.30</td>\n",
       "      <td>...</td>\n",
       "      <td>73.60</td>\n",
       "      <td>89.90</td>\n",
       "      <td>83.20</td>\n",
       "      <td>92.70</td>\n",
       "      <td>110.90</td>\n",
       "      <td>107.10</td>\n",
       "      <td>92.70</td>\n",
       "      <td>69.80</td>\n",
       "      <td>76.50</td>\n",
       "      <td>109.00</td>\n",
       "    </tr>\n",
       "    <tr>\n",
       "      <th>...</th>\n",
       "      <td>...</td>\n",
       "      <td>...</td>\n",
       "      <td>...</td>\n",
       "      <td>...</td>\n",
       "      <td>...</td>\n",
       "      <td>...</td>\n",
       "      <td>...</td>\n",
       "      <td>...</td>\n",
       "      <td>...</td>\n",
       "      <td>...</td>\n",
       "      <td>...</td>\n",
       "      <td>...</td>\n",
       "      <td>...</td>\n",
       "      <td>...</td>\n",
       "      <td>...</td>\n",
       "      <td>...</td>\n",
       "      <td>...</td>\n",
       "      <td>...</td>\n",
       "      <td>...</td>\n",
       "      <td>...</td>\n",
       "      <td>...</td>\n",
       "    </tr>\n",
       "    <tr>\n",
       "      <th>9129</th>\n",
       "      <td>2012-12-29</td>\n",
       "      <td>33.22</td>\n",
       "      <td>42.98</td>\n",
       "      <td>34.26</td>\n",
       "      <td>28.61</td>\n",
       "      <td>51.91</td>\n",
       "      <td>51.18</td>\n",
       "      <td>34.00</td>\n",
       "      <td>43.24</td>\n",
       "      <td>60.00</td>\n",
       "      <td>...</td>\n",
       "      <td>23.96</td>\n",
       "      <td>24.87</td>\n",
       "      <td>24.15</td>\n",
       "      <td>29.82</td>\n",
       "      <td>34.30</td>\n",
       "      <td>29.41</td>\n",
       "      <td>23.40</td>\n",
       "      <td>20.23</td>\n",
       "      <td>19.90</td>\n",
       "      <td>20.06</td>\n",
       "    </tr>\n",
       "    <tr>\n",
       "      <th>9130</th>\n",
       "      <td>2012-12-30</td>\n",
       "      <td>20.18</td>\n",
       "      <td>15.29</td>\n",
       "      <td>13.60</td>\n",
       "      <td>14.46</td>\n",
       "      <td>14.32</td>\n",
       "      <td>15.20</td>\n",
       "      <td>29.88</td>\n",
       "      <td>27.20</td>\n",
       "      <td>24.45</td>\n",
       "      <td>...</td>\n",
       "      <td>27.46</td>\n",
       "      <td>32.66</td>\n",
       "      <td>49.23</td>\n",
       "      <td>40.48</td>\n",
       "      <td>42.89</td>\n",
       "      <td>55.48</td>\n",
       "      <td>65.81</td>\n",
       "      <td>58.58</td>\n",
       "      <td>66.37</td>\n",
       "      <td>74.20</td>\n",
       "    </tr>\n",
       "    <tr>\n",
       "      <th>9131</th>\n",
       "      <td>2012-12-31</td>\n",
       "      <td>72.85</td>\n",
       "      <td>36.85</td>\n",
       "      <td>55.21</td>\n",
       "      <td>64.44</td>\n",
       "      <td>79.94</td>\n",
       "      <td>65.91</td>\n",
       "      <td>56.08</td>\n",
       "      <td>70.45</td>\n",
       "      <td>63.66</td>\n",
       "      <td>...</td>\n",
       "      <td>58.23</td>\n",
       "      <td>54.99</td>\n",
       "      <td>48.62</td>\n",
       "      <td>50.35</td>\n",
       "      <td>52.87</td>\n",
       "      <td>61.90</td>\n",
       "      <td>64.80</td>\n",
       "      <td>74.46</td>\n",
       "      <td>66.60</td>\n",
       "      <td>60.85</td>\n",
       "    </tr>\n",
       "  </tbody>\n",
       "</table>\n",
       "<p>9132 rows × 25 columns</p>\n",
       "</div>"
      ],
      "text/plain": [
       "            date     00     01     02     03     04     05     06     07  \\\n",
       "0     1988-01-01   0.00  48.80  66.00  66.00  57.40  71.70  63.10  63.10   \n",
       "1     1988-01-02  70.80  61.20  53.50  53.50  46.90  47.80  44.00  44.90   \n",
       "2     1988-01-03  54.50  50.70  44.00  47.80  42.10  45.90  54.50  44.90   \n",
       "...          ...    ...    ...    ...    ...    ...    ...    ...    ...   \n",
       "9129  2012-12-29  33.22  42.98  34.26  28.61  51.91  51.18  34.00  43.24   \n",
       "9130  2012-12-30  20.18  15.29  13.60  14.46  14.32  15.20  29.88  27.20   \n",
       "9131  2012-12-31  72.85  36.85  55.21  64.44  79.94  65.91  56.08  70.45   \n",
       "\n",
       "         08   ...       14     15     16     17      18      19     20     21  \\\n",
       "0     57.40   ...    73.60  87.00  88.00  81.30   73.60   69.80  62.10  65.00   \n",
       "1     49.70   ...    73.60  68.80  65.00  64.10   64.10   62.10  57.40  59.30   \n",
       "2     36.30   ...    73.60  89.90  83.20  92.70  110.90  107.10  92.70  69.80   \n",
       "...     ...   ...      ...    ...    ...    ...     ...     ...    ...    ...   \n",
       "9129  60.00   ...    23.96  24.87  24.15  29.82   34.30   29.41  23.40  20.23   \n",
       "9130  24.45   ...    27.46  32.66  49.23  40.48   42.89   55.48  65.81  58.58   \n",
       "9131  63.66   ...    58.23  54.99  48.62  50.35   52.87   61.90  64.80  74.46   \n",
       "\n",
       "         22      23  \n",
       "0     59.30   61.20  \n",
       "1     58.30   59.30  \n",
       "2     76.50  109.00  \n",
       "...     ...     ...  \n",
       "9129  19.90   20.06  \n",
       "9130  66.37   74.20  \n",
       "9131  66.60   60.85  \n",
       "\n",
       "[9132 rows x 25 columns]"
      ]
     },
     "execution_count": 57,
     "metadata": {},
     "output_type": "execute_result"
    }
   ],
   "source": [
    "df = df.drop('flag', axis=1)\n",
    "df"
   ]
  },
  {
   "cell_type": "code",
   "execution_count": 58,
   "metadata": {
    "collapsed": false,
    "slideshow": {
     "slide_type": "skip"
    }
   },
   "outputs": [
    {
     "data": {
      "text/html": [
       "<div>\n",
       "<table border=\"1\" class=\"dataframe\">\n",
       "  <thead>\n",
       "    <tr style=\"text-align: right;\">\n",
       "      <th></th>\n",
       "      <th>00</th>\n",
       "      <th>01</th>\n",
       "      <th>02</th>\n",
       "      <th>03</th>\n",
       "      <th>04</th>\n",
       "      <th>05</th>\n",
       "      <th>06</th>\n",
       "      <th>07</th>\n",
       "      <th>08</th>\n",
       "      <th>09</th>\n",
       "      <th>...</th>\n",
       "      <th>14</th>\n",
       "      <th>15</th>\n",
       "      <th>16</th>\n",
       "      <th>17</th>\n",
       "      <th>18</th>\n",
       "      <th>19</th>\n",
       "      <th>20</th>\n",
       "      <th>21</th>\n",
       "      <th>22</th>\n",
       "      <th>23</th>\n",
       "    </tr>\n",
       "    <tr>\n",
       "      <th>date</th>\n",
       "      <th></th>\n",
       "      <th></th>\n",
       "      <th></th>\n",
       "      <th></th>\n",
       "      <th></th>\n",
       "      <th></th>\n",
       "      <th></th>\n",
       "      <th></th>\n",
       "      <th></th>\n",
       "      <th></th>\n",
       "      <th></th>\n",
       "      <th></th>\n",
       "      <th></th>\n",
       "      <th></th>\n",
       "      <th></th>\n",
       "      <th></th>\n",
       "      <th></th>\n",
       "      <th></th>\n",
       "      <th></th>\n",
       "      <th></th>\n",
       "      <th></th>\n",
       "    </tr>\n",
       "  </thead>\n",
       "  <tbody>\n",
       "    <tr>\n",
       "      <th>1988-01-01</th>\n",
       "      <td>0.00</td>\n",
       "      <td>48.80</td>\n",
       "      <td>66.00</td>\n",
       "      <td>66.00</td>\n",
       "      <td>57.40</td>\n",
       "      <td>71.70</td>\n",
       "      <td>63.10</td>\n",
       "      <td>63.10</td>\n",
       "      <td>57.40</td>\n",
       "      <td>59.30</td>\n",
       "      <td>...</td>\n",
       "      <td>73.60</td>\n",
       "      <td>87.00</td>\n",
       "      <td>88.00</td>\n",
       "      <td>81.30</td>\n",
       "      <td>73.60</td>\n",
       "      <td>69.80</td>\n",
       "      <td>62.10</td>\n",
       "      <td>65.00</td>\n",
       "      <td>59.30</td>\n",
       "      <td>61.20</td>\n",
       "    </tr>\n",
       "    <tr>\n",
       "      <th>1988-01-02</th>\n",
       "      <td>70.80</td>\n",
       "      <td>61.20</td>\n",
       "      <td>53.50</td>\n",
       "      <td>53.50</td>\n",
       "      <td>46.90</td>\n",
       "      <td>47.80</td>\n",
       "      <td>44.00</td>\n",
       "      <td>44.90</td>\n",
       "      <td>49.70</td>\n",
       "      <td>55.50</td>\n",
       "      <td>...</td>\n",
       "      <td>73.60</td>\n",
       "      <td>68.80</td>\n",
       "      <td>65.00</td>\n",
       "      <td>64.10</td>\n",
       "      <td>64.10</td>\n",
       "      <td>62.10</td>\n",
       "      <td>57.40</td>\n",
       "      <td>59.30</td>\n",
       "      <td>58.30</td>\n",
       "      <td>59.30</td>\n",
       "    </tr>\n",
       "    <tr>\n",
       "      <th>1988-01-03</th>\n",
       "      <td>54.50</td>\n",
       "      <td>50.70</td>\n",
       "      <td>44.00</td>\n",
       "      <td>47.80</td>\n",
       "      <td>42.10</td>\n",
       "      <td>45.90</td>\n",
       "      <td>54.50</td>\n",
       "      <td>44.90</td>\n",
       "      <td>36.30</td>\n",
       "      <td>66.00</td>\n",
       "      <td>...</td>\n",
       "      <td>73.60</td>\n",
       "      <td>89.90</td>\n",
       "      <td>83.20</td>\n",
       "      <td>92.70</td>\n",
       "      <td>110.90</td>\n",
       "      <td>107.10</td>\n",
       "      <td>92.70</td>\n",
       "      <td>69.80</td>\n",
       "      <td>76.50</td>\n",
       "      <td>109.00</td>\n",
       "    </tr>\n",
       "    <tr>\n",
       "      <th>...</th>\n",
       "      <td>...</td>\n",
       "      <td>...</td>\n",
       "      <td>...</td>\n",
       "      <td>...</td>\n",
       "      <td>...</td>\n",
       "      <td>...</td>\n",
       "      <td>...</td>\n",
       "      <td>...</td>\n",
       "      <td>...</td>\n",
       "      <td>...</td>\n",
       "      <td>...</td>\n",
       "      <td>...</td>\n",
       "      <td>...</td>\n",
       "      <td>...</td>\n",
       "      <td>...</td>\n",
       "      <td>...</td>\n",
       "      <td>...</td>\n",
       "      <td>...</td>\n",
       "      <td>...</td>\n",
       "      <td>...</td>\n",
       "      <td>...</td>\n",
       "    </tr>\n",
       "    <tr>\n",
       "      <th>2012-12-29</th>\n",
       "      <td>33.22</td>\n",
       "      <td>42.98</td>\n",
       "      <td>34.26</td>\n",
       "      <td>28.61</td>\n",
       "      <td>51.91</td>\n",
       "      <td>51.18</td>\n",
       "      <td>34.00</td>\n",
       "      <td>43.24</td>\n",
       "      <td>60.00</td>\n",
       "      <td>61.15</td>\n",
       "      <td>...</td>\n",
       "      <td>23.96</td>\n",
       "      <td>24.87</td>\n",
       "      <td>24.15</td>\n",
       "      <td>29.82</td>\n",
       "      <td>34.30</td>\n",
       "      <td>29.41</td>\n",
       "      <td>23.40</td>\n",
       "      <td>20.23</td>\n",
       "      <td>19.90</td>\n",
       "      <td>20.06</td>\n",
       "    </tr>\n",
       "    <tr>\n",
       "      <th>2012-12-30</th>\n",
       "      <td>20.18</td>\n",
       "      <td>15.29</td>\n",
       "      <td>13.60</td>\n",
       "      <td>14.46</td>\n",
       "      <td>14.32</td>\n",
       "      <td>15.20</td>\n",
       "      <td>29.88</td>\n",
       "      <td>27.20</td>\n",
       "      <td>24.45</td>\n",
       "      <td>23.51</td>\n",
       "      <td>...</td>\n",
       "      <td>27.46</td>\n",
       "      <td>32.66</td>\n",
       "      <td>49.23</td>\n",
       "      <td>40.48</td>\n",
       "      <td>42.89</td>\n",
       "      <td>55.48</td>\n",
       "      <td>65.81</td>\n",
       "      <td>58.58</td>\n",
       "      <td>66.37</td>\n",
       "      <td>74.20</td>\n",
       "    </tr>\n",
       "    <tr>\n",
       "      <th>2012-12-31</th>\n",
       "      <td>72.85</td>\n",
       "      <td>36.85</td>\n",
       "      <td>55.21</td>\n",
       "      <td>64.44</td>\n",
       "      <td>79.94</td>\n",
       "      <td>65.91</td>\n",
       "      <td>56.08</td>\n",
       "      <td>70.45</td>\n",
       "      <td>63.66</td>\n",
       "      <td>76.37</td>\n",
       "      <td>...</td>\n",
       "      <td>58.23</td>\n",
       "      <td>54.99</td>\n",
       "      <td>48.62</td>\n",
       "      <td>50.35</td>\n",
       "      <td>52.87</td>\n",
       "      <td>61.90</td>\n",
       "      <td>64.80</td>\n",
       "      <td>74.46</td>\n",
       "      <td>66.60</td>\n",
       "      <td>60.85</td>\n",
       "    </tr>\n",
       "  </tbody>\n",
       "</table>\n",
       "<p>9132 rows × 24 columns</p>\n",
       "</div>"
      ],
      "text/plain": [
       "               00     01     02     03     04     05     06     07     08  \\\n",
       "date                                                                        \n",
       "1988-01-01   0.00  48.80  66.00  66.00  57.40  71.70  63.10  63.10  57.40   \n",
       "1988-01-02  70.80  61.20  53.50  53.50  46.90  47.80  44.00  44.90  49.70   \n",
       "1988-01-03  54.50  50.70  44.00  47.80  42.10  45.90  54.50  44.90  36.30   \n",
       "...           ...    ...    ...    ...    ...    ...    ...    ...    ...   \n",
       "2012-12-29  33.22  42.98  34.26  28.61  51.91  51.18  34.00  43.24  60.00   \n",
       "2012-12-30  20.18  15.29  13.60  14.46  14.32  15.20  29.88  27.20  24.45   \n",
       "2012-12-31  72.85  36.85  55.21  64.44  79.94  65.91  56.08  70.45  63.66   \n",
       "\n",
       "               09   ...       14     15     16     17      18      19     20  \\\n",
       "date                ...                                                        \n",
       "1988-01-01  59.30   ...    73.60  87.00  88.00  81.30   73.60   69.80  62.10   \n",
       "1988-01-02  55.50   ...    73.60  68.80  65.00  64.10   64.10   62.10  57.40   \n",
       "1988-01-03  66.00   ...    73.60  89.90  83.20  92.70  110.90  107.10  92.70   \n",
       "...           ...   ...      ...    ...    ...    ...     ...     ...    ...   \n",
       "2012-12-29  61.15   ...    23.96  24.87  24.15  29.82   34.30   29.41  23.40   \n",
       "2012-12-30  23.51   ...    27.46  32.66  49.23  40.48   42.89   55.48  65.81   \n",
       "2012-12-31  76.37   ...    58.23  54.99  48.62  50.35   52.87   61.90  64.80   \n",
       "\n",
       "               21     22      23  \n",
       "date                              \n",
       "1988-01-01  65.00  59.30   61.20  \n",
       "1988-01-02  59.30  58.30   59.30  \n",
       "1988-01-03  69.80  76.50  109.00  \n",
       "...           ...    ...     ...  \n",
       "2012-12-29  20.23  19.90   20.06  \n",
       "2012-12-30  58.58  66.37   74.20  \n",
       "2012-12-31  74.46  66.60   60.85  \n",
       "\n",
       "[9132 rows x 24 columns]"
      ]
     },
     "execution_count": 58,
     "metadata": {},
     "output_type": "execute_result"
    }
   ],
   "source": [
    "df = df.set_index('date')\n",
    "df"
   ]
  },
  {
   "cell_type": "code",
   "execution_count": 59,
   "metadata": {
    "collapsed": false,
    "slideshow": {
     "slide_type": "skip"
    }
   },
   "outputs": [
    {
     "data": {
      "text/plain": [
       "date          \n",
       "1988-01-01  00     0.00\n",
       "            01    48.80\n",
       "            02    66.00\n",
       "                  ...  \n",
       "2012-12-31  21    74.46\n",
       "            22    66.60\n",
       "            23    60.85\n",
       "dtype: float64"
      ]
     },
     "execution_count": 59,
     "metadata": {},
     "output_type": "execute_result"
    }
   ],
   "source": [
    "# data is not in the right shape, want index to be time and then have only one column\n",
    "df_stacked = df.stack()\n",
    "df_stacked"
   ]
  },
  {
   "cell_type": "code",
   "execution_count": 60,
   "metadata": {
    "collapsed": false,
    "slideshow": {
     "slide_type": "skip"
    }
   },
   "outputs": [
    {
     "data": {
      "text/html": [
       "<div>\n",
       "<table border=\"1\" class=\"dataframe\">\n",
       "  <thead>\n",
       "    <tr style=\"text-align: right;\">\n",
       "      <th></th>\n",
       "      <th>date</th>\n",
       "      <th>level_1</th>\n",
       "      <th>no2</th>\n",
       "    </tr>\n",
       "  </thead>\n",
       "  <tbody>\n",
       "    <tr>\n",
       "      <th>0</th>\n",
       "      <td>1988-01-01</td>\n",
       "      <td>00</td>\n",
       "      <td>0.00</td>\n",
       "    </tr>\n",
       "    <tr>\n",
       "      <th>1</th>\n",
       "      <td>1988-01-01</td>\n",
       "      <td>01</td>\n",
       "      <td>48.80</td>\n",
       "    </tr>\n",
       "    <tr>\n",
       "      <th>2</th>\n",
       "      <td>1988-01-01</td>\n",
       "      <td>02</td>\n",
       "      <td>66.00</td>\n",
       "    </tr>\n",
       "    <tr>\n",
       "      <th>...</th>\n",
       "      <td>...</td>\n",
       "      <td>...</td>\n",
       "      <td>...</td>\n",
       "    </tr>\n",
       "    <tr>\n",
       "      <th>219165</th>\n",
       "      <td>2012-12-31</td>\n",
       "      <td>21</td>\n",
       "      <td>74.46</td>\n",
       "    </tr>\n",
       "    <tr>\n",
       "      <th>219166</th>\n",
       "      <td>2012-12-31</td>\n",
       "      <td>22</td>\n",
       "      <td>66.60</td>\n",
       "    </tr>\n",
       "    <tr>\n",
       "      <th>219167</th>\n",
       "      <td>2012-12-31</td>\n",
       "      <td>23</td>\n",
       "      <td>60.85</td>\n",
       "    </tr>\n",
       "  </tbody>\n",
       "</table>\n",
       "<p>219168 rows × 3 columns</p>\n",
       "</div>"
      ],
      "text/plain": [
       "              date level_1    no2\n",
       "0       1988-01-01      00   0.00\n",
       "1       1988-01-01      01  48.80\n",
       "2       1988-01-01      02  66.00\n",
       "...            ...     ...    ...\n",
       "219165  2012-12-31      21  74.46\n",
       "219166  2012-12-31      22  66.60\n",
       "219167  2012-12-31      23  60.85\n",
       "\n",
       "[219168 rows x 3 columns]"
      ]
     },
     "execution_count": 60,
     "metadata": {},
     "output_type": "execute_result"
    }
   ],
   "source": [
    "df_stacked = df_stacked.reset_index(name='no2')\n",
    "df_stacked"
   ]
  },
  {
   "cell_type": "code",
   "execution_count": 61,
   "metadata": {
    "collapsed": false,
    "slideshow": {
     "slide_type": "skip"
    }
   },
   "outputs": [
    {
     "data": {
      "text/html": [
       "<div>\n",
       "<table border=\"1\" class=\"dataframe\">\n",
       "  <thead>\n",
       "    <tr style=\"text-align: right;\">\n",
       "      <th></th>\n",
       "      <th>no2</th>\n",
       "    </tr>\n",
       "  </thead>\n",
       "  <tbody>\n",
       "    <tr>\n",
       "      <th>1988-01-01 00:00:00</th>\n",
       "      <td>0.00</td>\n",
       "    </tr>\n",
       "    <tr>\n",
       "      <th>1988-01-01 01:00:00</th>\n",
       "      <td>48.80</td>\n",
       "    </tr>\n",
       "    <tr>\n",
       "      <th>1988-01-01 02:00:00</th>\n",
       "      <td>66.00</td>\n",
       "    </tr>\n",
       "    <tr>\n",
       "      <th>...</th>\n",
       "      <td>...</td>\n",
       "    </tr>\n",
       "    <tr>\n",
       "      <th>2012-12-31 21:00:00</th>\n",
       "      <td>74.46</td>\n",
       "    </tr>\n",
       "    <tr>\n",
       "      <th>2012-12-31 22:00:00</th>\n",
       "      <td>66.60</td>\n",
       "    </tr>\n",
       "    <tr>\n",
       "      <th>2012-12-31 23:00:00</th>\n",
       "      <td>60.85</td>\n",
       "    </tr>\n",
       "  </tbody>\n",
       "</table>\n",
       "<p>219168 rows × 1 columns</p>\n",
       "</div>"
      ],
      "text/plain": [
       "                       no2\n",
       "1988-01-01 00:00:00   0.00\n",
       "1988-01-01 01:00:00  48.80\n",
       "1988-01-01 02:00:00  66.00\n",
       "...                    ...\n",
       "2012-12-31 21:00:00  74.46\n",
       "2012-12-31 22:00:00  66.60\n",
       "2012-12-31 23:00:00  60.85\n",
       "\n",
       "[219168 rows x 1 columns]"
      ]
     },
     "execution_count": 61,
     "metadata": {},
     "output_type": "execute_result"
    }
   ],
   "source": [
    "df_stacked.index = pd.to_datetime(df_stacked['date'] + df_stacked['level_1'], format=\"%Y-%m-%d%H\")\n",
    "df_stacked = df_stacked.drop(['date', 'level_1'], axis=1)\n",
    "\n",
    "df_stacked"
   ]
  },
  {
   "cell_type": "code",
   "execution_count": 62,
   "metadata": {
    "collapsed": false,
    "slideshow": {
     "slide_type": "skip"
    }
   },
   "outputs": [
    {
     "name": "stdout",
     "output_type": "stream",
     "text": [
      "<class 'pandas.core.frame.DataFrame'>\n",
      "DatetimeIndex: 219168 entries, 1988-01-01 00:00:00 to 2012-12-31 23:00:00\n",
      "Data columns (total 1 columns):\n",
      "no2    219168 non-null float64\n",
      "dtypes: float64(1)\n",
      "memory usage: 3.3 MB\n"
     ]
    }
   ],
   "source": [
    "df_stacked.info()"
   ]
  },
  {
   "cell_type": "code",
   "execution_count": 63,
   "metadata": {
    "collapsed": false,
    "slideshow": {
     "slide_type": "skip"
    }
   },
   "outputs": [
    {
     "data": {
      "text/plain": [
       "<matplotlib.axes._subplots.AxesSubplot at 0x7fcfaa3b6d68>"
      ]
     },
     "execution_count": 63,
     "metadata": {},
     "output_type": "execute_result"
    },
    {
     "data": {
      "image/png": "[encoded data removed]",
      "text/plain": [
       "<matplotlib.figure.Figure at 0x7fcfaa353668>"
      ]
     },
     "metadata": {},
     "output_type": "display_data"
    }
   ],
   "source": [
    "# partial string indexing\n",
    "df_stacked['2012-01':'2012-02'].plot()"
   ]
  },
  {
   "cell_type": "code",
   "execution_count": 64,
   "metadata": {
    "collapsed": false,
    "slideshow": {
     "slide_type": "skip"
    }
   },
   "outputs": [
    {
     "data": {
      "text/html": [
       "<div>\n",
       "<table border=\"1\" class=\"dataframe\">\n",
       "  <thead>\n",
       "    <tr style=\"text-align: right;\">\n",
       "      <th></th>\n",
       "      <th>no2</th>\n",
       "    </tr>\n",
       "  </thead>\n",
       "  <tbody>\n",
       "    <tr>\n",
       "      <th>1988-01-01</th>\n",
       "      <td>63.670833</td>\n",
       "    </tr>\n",
       "    <tr>\n",
       "      <th>1988-01-02</th>\n",
       "      <td>60.595833</td>\n",
       "    </tr>\n",
       "    <tr>\n",
       "      <th>1988-01-03</th>\n",
       "      <td>69.795833</td>\n",
       "    </tr>\n",
       "    <tr>\n",
       "      <th>1988-01-04</th>\n",
       "      <td>102.741667</td>\n",
       "    </tr>\n",
       "    <tr>\n",
       "      <th>1988-01-05</th>\n",
       "      <td>95.062500</td>\n",
       "    </tr>\n",
       "  </tbody>\n",
       "</table>\n",
       "</div>"
      ],
      "text/plain": [
       "                   no2\n",
       "1988-01-01   63.670833\n",
       "1988-01-02   60.595833\n",
       "1988-01-03   69.795833\n",
       "1988-01-04  102.741667\n",
       "1988-01-05   95.062500"
      ]
     },
     "execution_count": 64,
     "metadata": {},
     "output_type": "execute_result"
    }
   ],
   "source": [
    "# pandas power - resampling\n",
    "df_stacked.resample('D').head()"
   ]
  },
  {
   "cell_type": "code",
   "execution_count": 65,
   "metadata": {
    "collapsed": false,
    "slideshow": {
     "slide_type": "skip"
    }
   },
   "outputs": [
    {
     "data": {
      "text/plain": [
       "<matplotlib.axes._subplots.AxesSubplot at 0x7fcfaa2cc748>"
      ]
     },
     "execution_count": 65,
     "metadata": {},
     "output_type": "execute_result"
    },
    {
     "data": {
      "image/png": "[encoded data removed]",
      "text/plain": [
       "<matplotlib.figure.Figure at 0x7fcfaa44ca90>"
      ]
     },
     "metadata": {},
     "output_type": "display_data"
    }
   ],
   "source": [
    "df_stacked.resample('D')['no2']['2005':'2006'].plot.line()"
   ]
  },
  {
   "cell_type": "code",
   "execution_count": 66,
   "metadata": {
    "collapsed": false,
    "slideshow": {
     "slide_type": "skip"
    }
   },
   "outputs": [
    {
     "data": {
      "text/plain": [
       "array([4, 4, 4, ..., 0, 0, 0], dtype=int32)"
      ]
     },
     "execution_count": 66,
     "metadata": {},
     "output_type": "execute_result"
    }
   ],
   "source": [
    "# a datetimeindex knows about weekdays\n",
    "df_stacked.index.weekday"
   ]
  },
  {
   "cell_type": "code",
   "execution_count": 67,
   "metadata": {
    "collapsed": false,
    "slideshow": {
     "slide_type": "skip"
    }
   },
   "outputs": [
    {
     "data": {
      "text/html": [
       "<div>\n",
       "<table border=\"1\" class=\"dataframe\">\n",
       "  <thead>\n",
       "    <tr style=\"text-align: right;\">\n",
       "      <th></th>\n",
       "      <th>no2</th>\n",
       "      <th>weekday</th>\n",
       "      <th>hour</th>\n",
       "    </tr>\n",
       "  </thead>\n",
       "  <tbody>\n",
       "    <tr>\n",
       "      <th>1988-01-01 00:00:00</th>\n",
       "      <td>0.00</td>\n",
       "      <td>4</td>\n",
       "      <td>0</td>\n",
       "    </tr>\n",
       "    <tr>\n",
       "      <th>1988-01-01 01:00:00</th>\n",
       "      <td>48.80</td>\n",
       "      <td>4</td>\n",
       "      <td>1</td>\n",
       "    </tr>\n",
       "    <tr>\n",
       "      <th>1988-01-01 02:00:00</th>\n",
       "      <td>66.00</td>\n",
       "      <td>4</td>\n",
       "      <td>2</td>\n",
       "    </tr>\n",
       "    <tr>\n",
       "      <th>...</th>\n",
       "      <td>...</td>\n",
       "      <td>...</td>\n",
       "      <td>...</td>\n",
       "    </tr>\n",
       "    <tr>\n",
       "      <th>2012-12-31 21:00:00</th>\n",
       "      <td>74.46</td>\n",
       "      <td>0</td>\n",
       "      <td>21</td>\n",
       "    </tr>\n",
       "    <tr>\n",
       "      <th>2012-12-31 22:00:00</th>\n",
       "      <td>66.60</td>\n",
       "      <td>0</td>\n",
       "      <td>22</td>\n",
       "    </tr>\n",
       "    <tr>\n",
       "      <th>2012-12-31 23:00:00</th>\n",
       "      <td>60.85</td>\n",
       "      <td>0</td>\n",
       "      <td>23</td>\n",
       "    </tr>\n",
       "  </tbody>\n",
       "</table>\n",
       "<p>219168 rows × 3 columns</p>\n",
       "</div>"
      ],
      "text/plain": [
       "                       no2  weekday  hour\n",
       "1988-01-01 00:00:00   0.00        4     0\n",
       "1988-01-01 01:00:00  48.80        4     1\n",
       "1988-01-01 02:00:00  66.00        4     2\n",
       "...                    ...      ...   ...\n",
       "2012-12-31 21:00:00  74.46        0    21\n",
       "2012-12-31 22:00:00  66.60        0    22\n",
       "2012-12-31 23:00:00  60.85        0    23\n",
       "\n",
       "[219168 rows x 3 columns]"
      ]
     },
     "execution_count": 67,
     "metadata": {},
     "output_type": "execute_result"
    }
   ],
   "source": [
    "df_stacked['weekday'] = df_stacked.index.weekday\n",
    "df_stacked['hour'] = df_stacked.index.hour\n",
    "df_stacked"
   ]
  },
  {
   "cell_type": "code",
   "execution_count": 68,
   "metadata": {
    "collapsed": false,
    "slideshow": {
     "slide_type": "skip"
    }
   },
   "outputs": [
    {
     "data": {
      "text/html": [
       "<div>\n",
       "<table border=\"1\" class=\"dataframe\">\n",
       "  <thead>\n",
       "    <tr style=\"text-align: right;\">\n",
       "      <th></th>\n",
       "      <th>no2</th>\n",
       "      <th>weekday</th>\n",
       "      <th>hour</th>\n",
       "      <th>is_weekend</th>\n",
       "    </tr>\n",
       "  </thead>\n",
       "  <tbody>\n",
       "    <tr>\n",
       "      <th>1988-01-01 00:00:00</th>\n",
       "      <td>0.00</td>\n",
       "      <td>4</td>\n",
       "      <td>0</td>\n",
       "      <td>False</td>\n",
       "    </tr>\n",
       "    <tr>\n",
       "      <th>1988-01-01 01:00:00</th>\n",
       "      <td>48.80</td>\n",
       "      <td>4</td>\n",
       "      <td>1</td>\n",
       "      <td>False</td>\n",
       "    </tr>\n",
       "    <tr>\n",
       "      <th>1988-01-01 02:00:00</th>\n",
       "      <td>66.00</td>\n",
       "      <td>4</td>\n",
       "      <td>2</td>\n",
       "      <td>False</td>\n",
       "    </tr>\n",
       "    <tr>\n",
       "      <th>...</th>\n",
       "      <td>...</td>\n",
       "      <td>...</td>\n",
       "      <td>...</td>\n",
       "      <td>...</td>\n",
       "    </tr>\n",
       "    <tr>\n",
       "      <th>2012-12-31 21:00:00</th>\n",
       "      <td>74.46</td>\n",
       "      <td>0</td>\n",
       "      <td>21</td>\n",
       "      <td>False</td>\n",
       "    </tr>\n",
       "    <tr>\n",
       "      <th>2012-12-31 22:00:00</th>\n",
       "      <td>66.60</td>\n",
       "      <td>0</td>\n",
       "      <td>22</td>\n",
       "      <td>False</td>\n",
       "    </tr>\n",
       "    <tr>\n",
       "      <th>2012-12-31 23:00:00</th>\n",
       "      <td>60.85</td>\n",
       "      <td>0</td>\n",
       "      <td>23</td>\n",
       "      <td>False</td>\n",
       "    </tr>\n",
       "  </tbody>\n",
       "</table>\n",
       "<p>219168 rows × 4 columns</p>\n",
       "</div>"
      ],
      "text/plain": [
       "                       no2  weekday  hour is_weekend\n",
       "1988-01-01 00:00:00   0.00        4     0      False\n",
       "1988-01-01 01:00:00  48.80        4     1      False\n",
       "1988-01-01 02:00:00  66.00        4     2      False\n",
       "...                    ...      ...   ...        ...\n",
       "2012-12-31 21:00:00  74.46        0    21      False\n",
       "2012-12-31 22:00:00  66.60        0    22      False\n",
       "2012-12-31 23:00:00  60.85        0    23      False\n",
       "\n",
       "[219168 rows x 4 columns]"
      ]
     },
     "execution_count": 68,
     "metadata": {},
     "output_type": "execute_result"
    }
   ],
   "source": [
    "# introduce new variable to compare emissions on weekends\n",
    "df_stacked['is_weekend'] = df_stacked['weekday'].isin([5, 6])\n",
    "df_stacked"
   ]
  },
  {
   "cell_type": "code",
   "execution_count": 69,
   "metadata": {
    "collapsed": false,
    "slideshow": {
     "slide_type": "skip"
    }
   },
   "outputs": [
    {
     "data": {
      "text/html": [
       "<div>\n",
       "<table border=\"1\" class=\"dataframe\">\n",
       "  <thead>\n",
       "    <tr style=\"text-align: right;\">\n",
       "      <th></th>\n",
       "      <th>is_weekend</th>\n",
       "      <th>hour</th>\n",
       "      <th>no2</th>\n",
       "      <th>weekday</th>\n",
       "    </tr>\n",
       "  </thead>\n",
       "  <tbody>\n",
       "    <tr>\n",
       "      <th>0</th>\n",
       "      <td>False</td>\n",
       "      <td>0</td>\n",
       "      <td>26.43</td>\n",
       "      <td>2.0</td>\n",
       "    </tr>\n",
       "    <tr>\n",
       "      <th>1</th>\n",
       "      <td>False</td>\n",
       "      <td>1</td>\n",
       "      <td>23.00</td>\n",
       "      <td>2.0</td>\n",
       "    </tr>\n",
       "    <tr>\n",
       "      <th>2</th>\n",
       "      <td>False</td>\n",
       "      <td>2</td>\n",
       "      <td>20.00</td>\n",
       "      <td>2.0</td>\n",
       "    </tr>\n",
       "    <tr>\n",
       "      <th>...</th>\n",
       "      <td>...</td>\n",
       "      <td>...</td>\n",
       "      <td>...</td>\n",
       "      <td>...</td>\n",
       "    </tr>\n",
       "    <tr>\n",
       "      <th>45</th>\n",
       "      <td>True</td>\n",
       "      <td>21</td>\n",
       "      <td>32.00</td>\n",
       "      <td>5.5</td>\n",
       "    </tr>\n",
       "    <tr>\n",
       "      <th>46</th>\n",
       "      <td>True</td>\n",
       "      <td>22</td>\n",
       "      <td>31.00</td>\n",
       "      <td>5.5</td>\n",
       "    </tr>\n",
       "    <tr>\n",
       "      <th>47</th>\n",
       "      <td>True</td>\n",
       "      <td>23</td>\n",
       "      <td>29.00</td>\n",
       "      <td>5.5</td>\n",
       "    </tr>\n",
       "  </tbody>\n",
       "</table>\n",
       "<p>48 rows × 4 columns</p>\n",
       "</div>"
      ],
      "text/plain": [
       "   is_weekend  hour    no2  weekday\n",
       "0       False     0  26.43      2.0\n",
       "1       False     1  23.00      2.0\n",
       "2       False     2  20.00      2.0\n",
       "..        ...   ...    ...      ...\n",
       "45       True    21  32.00      5.5\n",
       "46       True    22  31.00      5.5\n",
       "47       True    23  29.00      5.5\n",
       "\n",
       "[48 rows x 4 columns]"
      ]
     },
     "execution_count": 69,
     "metadata": {},
     "output_type": "execute_result"
    }
   ],
   "source": [
    "df_agg = df_stacked.groupby(['is_weekend', 'hour'], as_index=False).agg(np.median)\n",
    "df_agg"
   ]
  },
  {
   "cell_type": "code",
   "execution_count": 70,
   "metadata": {
    "collapsed": false,
    "slideshow": {
     "slide_type": "skip"
    }
   },
   "outputs": [
    {
     "data": {
      "text/plain": [
       "<matplotlib.axes._subplots.AxesSubplot at 0x7fcfa99e0588>"
      ]
     },
     "execution_count": 70,
     "metadata": {},
     "output_type": "execute_result"
    },
    {
     "data": {
      "image/png": "[encoded data removed]",
      "text/plain": [
       "<matplotlib.figure.Figure at 0x7fcfa99b6668>"
      ]
     },
     "metadata": {},
     "output_type": "display_data"
    }
   ],
   "source": [
    "fig, ax = plt.subplots()\n",
    "df_agg[df_agg['is_weekend'] == True].plot.line(x='hour', y='no2', ax=ax, label='weekend')\n",
    "df_agg[df_agg['is_weekend'] == False].plot.line(x='hour', y='no2', ax=ax, label='not weekend')"
   ]
  }
 ],
 "metadata": {
  "kernelspec": {
   "display_name": "Python 3",
   "language": "python",
   "name": "python3"
  },
  "language_info": {
   "codemirror_mode": {
    "name": "ipython",
    "version": 3
   },
   "file_extension": ".py",
   "mimetype": "text/x-python",
   "name": "python",
   "nbconvert_exporter": "python",
   "pygments_lexer": "ipython3",
   "version": "3.5.1"
  }
 },
 "nbformat": 4,
 "nbformat_minor": 0
}
