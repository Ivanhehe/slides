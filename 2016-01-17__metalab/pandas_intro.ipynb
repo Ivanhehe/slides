{
 "cells": [
  {
   "cell_type": "markdown",
   "metadata": {
    "slideshow": {
     "slide_type": "skip"
    }
   },
   "source": [
    "`ipython nbconvert intro__pandas.ipynb --to slides --post serve`"
   ]
  },
  {
   "cell_type": "markdown",
   "metadata": {
    "slideshow": {
     "slide_type": "slide"
    }
   },
   "source": [
    "<center>\n",
    "  <img src=\"./images/pandas_logo.png\" width=\"50%\">\n",
    "  <header>\n",
    "    <h3>Data Analysis Library - an Introduction</h3>\n",
    "  </header>\n",
    "\n",
    "<br>\n",
    "<br>\n",
    "claus.aichinger@gmail.com\n",
    "<br>\n",
    "[metalab](https://metalab.at/)/[pyug.at](/http://pyug.at/), 2016-01-17\n",
    "</center>"
   ]
  },
  {
   "cell_type": "markdown",
   "metadata": {
    "slideshow": {
     "slide_type": "slide"
    }
   },
   "source": [
    "## What is pandas?\n",
    "\n",
    "**Python Data Analysis Library**\n",
    "\n",
    "- https://github.com/pydata/pandas/\n",
    "\n",
    "- Open source (BSD-licensed)\n",
    "\n",
    "- Provides high-performance, easy-to-use data structures and data analysis tools\n",
    "\n",
    "- Core package in [SciPy stack](http://scipy.org/about.html#core-packages)\n",
    "\n",
    "- Pandas is a sponsored project of [NUMFocus organization](http://numfocus.org/news/2015/10/09/numfocus-announces-new-fiscally-sponsored-project-pandas/)"
   ]
  },
  {
   "cell_type": "markdown",
   "metadata": {
    "slideshow": {
     "slide_type": "slide"
    }
   },
   "source": [
    "## What is this talk about?\n",
    "\n",
    "- Motivation - what is pandas and why use it?\n",
    "\n",
    "- Basic data structures\n",
    "\n",
    "- Examples on how to use pandas\n",
    "\n",
    "- *This is not an in-depth introduction.*\n",
    "\n",
    "- *This talk reflects my personal opinion and experience.*"
   ]
  },
  {
   "cell_type": "markdown",
   "metadata": {
    "slideshow": {
     "slide_type": "slide"
    }
   },
   "source": [
    "## What is pandas and why use it?\n",
    "\n",
    "#### Short answer:\n",
    "\n",
    "    Pandas is awesome for working with tabular or structured data (*panel data*).\n"
   ]
  },
  {
   "cell_type": "markdown",
   "metadata": {
    "slideshow": {
     "slide_type": "fragment"
    }
   },
   "source": [
    "#### Longer answer:\n",
    "\n",
    "Pandas provides powerful facilities to\n",
    "\n",
    "- import and export data,\n",
    "\n",
    "- clean up and prepare (messy) data,\n",
    "\n",
    "- explore, aggregate, analyse data."
   ]
  },
  {
   "cell_type": "markdown",
   "metadata": {
    "slideshow": {
     "slide_type": "subslide"
    }
   },
   "source": [
    "#### Even longer answer:\n",
    "### [Main Features](https://raw.githubusercontent.com/pydata/pandas/master/README.md)\n",
    "\n",
    "Here are just a few of the things that pandas does well:\n",
    "\n",
    "  - Easy handling of [**missing data**][missing-data] (represented as\n",
    "    `NaN`) in floating point as well as non-floating point data\n",
    "  - Size mutability: columns can be [**inserted and\n",
    "    deleted**][insertion-deletion] from DataFrame and higher dimensional\n",
    "    objects\n",
    "  - Automatic and explicit [**data alignment**][alignment]: objects can\n",
    "    be explicitly aligned to a set of labels, or the user can simply\n",
    "    ignore the labels and let `Series`, `DataFrame`, etc. automatically\n",
    "    align the data for you in computations\n",
    "  - Powerful, flexible [**group by**][groupby] functionality to perform\n",
    "    split-apply-combine operations on data sets, for both aggregating\n",
    "    and transforming data\n",
    "  - Make it [**easy to convert**][conversion] ragged,\n",
    "    differently-indexed data in other Python and NumPy data structures\n",
    "    into DataFrame objects\n",
    "  - Intelligent label-based [**slicing**][slicing], [**fancy\n",
    "    indexing**][fancy-indexing], and [**subsetting**][subsetting] of\n",
    "    large data sets\n",
    "  - Intuitive [**merging**][merging] and [**joining**][joining] data\n",
    "    sets\n",
    "  - Flexible [**reshaping**][reshape] and [**pivoting**][pivot-table] of\n",
    "    data sets\n",
    "  - [**Hierarchical**][mi] labeling of axes (possible to have multiple\n",
    "    labels per tick)\n",
    "  - Robust IO tools for loading data from [**flat files**][flat-files]\n",
    "    (CSV and delimited), [**Excel files**][excel], [**databases**][db],\n",
    "    and saving/loading data from the ultrafast [**HDF5 format**][hdfstore]\n",
    "  - [**Time series**][timeseries]-specific functionality: date range\n",
    "    generation and frequency conversion, moving window statistics,\n",
    "    moving window linear regressions, date shifting and lagging, etc.\n",
    "\n",
    "\n",
    "   [missing-data]: http://pandas.pydata.org/pandas-docs/stable/missing_data.html#working-with-missing-data\n",
    "   [insertion-deletion]: http://pandas.pydata.org/pandas-docs/stable/dsintro.html#column-selection-addition-deletion\n",
    "   [alignment]: http://pandas.pydata.org/pandas-docs/stable/dsintro.html?highlight=alignment#intro-to-data-structures\n",
    "   [groupby]: http://pandas.pydata.org/pandas-docs/stable/groupby.html#group-by-split-apply-combine\n",
    "   [conversion]: http://pandas.pydata.org/pandas-docs/stable/dsintro.html#dataframe\n",
    "   [slicing]: http://pandas.pydata.org/pandas-docs/stable/indexing.html#slicing-ranges\n",
    "   [fancy-indexing]: http://pandas.pydata.org/pandas-docs/stable/indexing.html#advanced-indexing-with-ix\n",
    "   [subsetting]: http://pandas.pydata.org/pandas-docs/stable/indexing.html#boolean-indexing\n",
    "   [merging]: http://pandas.pydata.org/pandas-docs/stable/merging.html#database-style-dataframe-joining-merging\n",
    "   [joining]: http://pandas.pydata.org/pandas-docs/stable/merging.html#joining-on-index\n",
    "   [reshape]: http://pandas.pydata.org/pandas-docs/stable/reshaping.html#reshaping-and-pivot-tables\n",
    "   [pivot-table]: http://pandas.pydata.org/pandas-docs/stable/reshaping.html#pivot-tables-and-cross-tabulations\n",
    "   [mi]: http://pandas.pydata.org/pandas-docs/stable/indexing.html#hierarchical-indexing-multiindex\n",
    "   [flat-files]: http://pandas.pydata.org/pandas-docs/stable/io.html#csv-text-files\n",
    "   [excel]: http://pandas.pydata.org/pandas-docs/stable/io.html#excel-files\n",
    "   [db]: http://pandas.pydata.org/pandas-docs/stable/io.html#sql-queries\n",
    "   [hdfstore]: http://pandas.pydata.org/pandas-docs/stable/io.html#hdf5-pytables\n",
    "   [timeseries]: http://pandas.pydata.org/pandas-docs/stable/timeseries.html#time-series-date-functionality"
   ]
  },
  {
   "cell_type": "markdown",
   "metadata": {
    "slideshow": {
     "slide_type": "subslide"
    }
   },
   "source": [
    "#### *Super long answer:*"
   ]
  },
  {
   "cell_type": "markdown",
   "metadata": {
    "slideshow": {
     "slide_type": "fragment"
    }
   },
   "source": [
    "..."
   ]
  },
  {
   "cell_type": "markdown",
   "metadata": {
    "slideshow": {
     "slide_type": "slide"
    }
   },
   "source": [
    "## Basic data structures\n",
    "\n",
    "Core data structures: \n",
    "\n",
    "- **`pandas.Series`** (1D labeled data)\n",
    "- **`pandas.DataFrame`** (2D labeled data, i..e tabular data)\n",
    "\n",
    "Notes:\n",
    "- build on `numpy.ndarray`\n",
    "- provide labels for `columns` and `index`\n",
    "- support heterogenos data types\n",
    "- offer a lot of functionality (see later)\n",
    "- `pandas.DataFrame` inspired by `R`'s `data.frame` "
   ]
  },
  {
   "cell_type": "code",
   "execution_count": 1,
   "metadata": {
    "collapsed": true,
    "slideshow": {
     "slide_type": "skip"
    }
   },
   "outputs": [],
   "source": [
    "%matplotlib inline\n",
    "import pandas as pd\n",
    "import numpy as np\n",
    "import matplotlib.pyplot as plt\n",
    "import seaborn as sns\n",
    "\n",
    "pd.options.display.max_rows = 6"
   ]
  },
  {
   "cell_type": "markdown",
   "metadata": {
    "slideshow": {
     "slide_type": "slide"
    }
   },
   "source": [
    "### `pandas.Series`"
   ]
  },
  {
   "cell_type": "code",
   "execution_count": 2,
   "metadata": {
    "collapsed": false,
    "slideshow": {
     "slide_type": "fragment"
    }
   },
   "outputs": [
    {
     "data": {
      "text/plain": [
       "0    0.1\n",
       "1    0.2\n",
       "2    0.3\n",
       "dtype: float64"
      ]
     },
     "execution_count": 2,
     "metadata": {},
     "output_type": "execute_result"
    }
   ],
   "source": [
    "# Create a `Series` like a list\n",
    "s = pd.Series([0.1, 0.2, 0.3])\n",
    "s"
   ]
  },
  {
   "cell_type": "code",
   "execution_count": 3,
   "metadata": {
    "collapsed": false,
    "slideshow": {
     "slide_type": "fragment"
    }
   },
   "outputs": [
    {
     "data": {
      "text/plain": [
       "Int64Index([0, 1, 2], dtype='int64')"
      ]
     },
     "execution_count": 3,
     "metadata": {},
     "output_type": "execute_result"
    }
   ],
   "source": [
    "# Index attribute\n",
    "s.index"
   ]
  },
  {
   "cell_type": "code",
   "execution_count": 4,
   "metadata": {
    "collapsed": false,
    "slideshow": {
     "slide_type": "fragment"
    }
   },
   "outputs": [
    {
     "data": {
      "text/plain": [
       "array([ 0.1,  0.2,  0.3])"
      ]
     },
     "execution_count": 4,
     "metadata": {},
     "output_type": "execute_result"
    }
   ],
   "source": [
    "# Values attribute\n",
    "s.values"
   ]
  },
  {
   "cell_type": "code",
   "execution_count": 5,
   "metadata": {
    "collapsed": false,
    "slideshow": {
     "slide_type": "fragment"
    }
   },
   "outputs": [
    {
     "data": {
      "text/plain": [
       "0.10000000000000001"
      ]
     },
     "execution_count": 5,
     "metadata": {},
     "output_type": "execute_result"
    }
   ],
   "source": [
    "# Access elements via indices\n",
    "s[0]"
   ]
  },
  {
   "cell_type": "code",
   "execution_count": 6,
   "metadata": {
    "collapsed": false,
    "slideshow": {
     "slide_type": "fragment"
    }
   },
   "outputs": [
    {
     "data": {
      "text/plain": [
       "1    0.2\n",
       "2    0.3\n",
       "dtype: float64"
      ]
     },
     "execution_count": 6,
     "metadata": {},
     "output_type": "execute_result"
    }
   ],
   "source": [
    "# like in with lists or NumPy arrays\n",
    "s[1:3]"
   ]
  },
  {
   "cell_type": "code",
   "execution_count": 7,
   "metadata": {
    "collapsed": false,
    "slideshow": {
     "slide_type": "slide"
    }
   },
   "outputs": [
    {
     "data": {
      "text/plain": [
       "a    0.1\n",
       "b    0.2\n",
       "c    0.3\n",
       "dtype: float64"
      ]
     },
     "execution_count": 7,
     "metadata": {},
     "output_type": "execute_result"
    }
   ],
   "source": [
    "# However, `Series` are labeled, so you can also supply an index explicitly\n",
    "s = pd.Series([0.1, 0.2, 0.3], index=['a', 'b', 'c'])\n",
    "s"
   ]
  },
  {
   "cell_type": "code",
   "execution_count": 8,
   "metadata": {
    "collapsed": false,
    "slideshow": {
     "slide_type": "fragment"
    }
   },
   "outputs": [
    {
     "data": {
      "text/plain": [
       "0.29999999999999999"
      ]
     },
     "execution_count": 8,
     "metadata": {},
     "output_type": "execute_result"
    }
   ],
   "source": [
    "# and access elements via their respective label\n",
    "s['c']"
   ]
  },
  {
   "cell_type": "code",
   "execution_count": 9,
   "metadata": {
    "collapsed": false,
    "slideshow": {
     "slide_type": "fragment"
    }
   },
   "outputs": [
    {
     "data": {
      "text/plain": [
       "a    0.1\n",
       "b    0.2\n",
       "dtype: float64"
      ]
     },
     "execution_count": 9,
     "metadata": {},
     "output_type": "execute_result"
    }
   ],
   "source": [
    "# or even slice\n",
    "s['a':'b']"
   ]
  },
  {
   "cell_type": "code",
   "execution_count": 10,
   "metadata": {
    "collapsed": false,
    "slideshow": {
     "slide_type": "slide"
    }
   },
   "outputs": [
    {
     "data": {
      "text/plain": [
       "{'a': 0.10000000000000001, 'b': 0.20000000000000001, 'c': 0.29999999999999999}"
      ]
     },
     "execution_count": 10,
     "metadata": {},
     "output_type": "execute_result"
    }
   ],
   "source": [
    "# Think of a `Series` as an ordered dictionary that behaves like a NumPy array.\n",
    "s.to_dict()"
   ]
  },
  {
   "cell_type": "code",
   "execution_count": 11,
   "metadata": {
    "collapsed": false,
    "slideshow": {
     "slide_type": "fragment"
    }
   },
   "outputs": [
    {
     "data": {
      "text/plain": [
       "a    1\n",
       "b    2\n",
       "c    3\n",
       "dtype: float64"
      ]
     },
     "execution_count": 11,
     "metadata": {},
     "output_type": "execute_result"
    }
   ],
   "source": [
    "# You can multiply by a number if you feel like it\n",
    "s * 10"
   ]
  },
  {
   "cell_type": "code",
   "execution_count": 12,
   "metadata": {
    "collapsed": false,
    "slideshow": {
     "slide_type": "fragment"
    }
   },
   "outputs": [
    {
     "data": {
      "text/plain": [
       "b    0.2\n",
       "c    0.3\n",
       "dtype: float64"
      ]
     },
     "execution_count": 12,
     "metadata": {},
     "output_type": "execute_result"
    }
   ],
   "source": [
    "# Select using a boolean index\n",
    "s[s >= 0.2]"
   ]
  },
  {
   "cell_type": "code",
   "execution_count": 13,
   "metadata": {
    "collapsed": false,
    "slideshow": {
     "slide_type": "fragment"
    }
   },
   "outputs": [
    {
     "data": {
      "text/plain": [
       "0.20000000000000004"
      ]
     },
     "execution_count": 13,
     "metadata": {},
     "output_type": "execute_result"
    }
   ],
   "source": [
    "# Compute mean\n",
    "s.mean()"
   ]
  },
  {
   "cell_type": "code",
   "execution_count": 14,
   "metadata": {
    "collapsed": false,
    "slideshow": {
     "slide_type": "slide"
    }
   },
   "outputs": [
    {
     "name": "stdout",
     "output_type": "stream",
     "text": [
      "a    0.1\n",
      "b    0.2\n",
      "c    0.3\n",
      "dtype: float64\n",
      "b    0.2\n",
      "c    0.3\n",
      "d    0.4\n",
      "dtype: float64\n"
     ]
    }
   ],
   "source": [
    "# Pay attention to alignment (on index)!\n",
    "t = pd.Series(dict(b=0.2, c=0.3, d=0.4))\n",
    "print(s)\n",
    "print(t)"
   ]
  },
  {
   "cell_type": "code",
   "execution_count": 15,
   "metadata": {
    "collapsed": false,
    "slideshow": {
     "slide_type": "fragment"
    }
   },
   "outputs": [
    {
     "data": {
      "text/plain": [
       "a    NaN\n",
       "b    0.4\n",
       "c    0.6\n",
       "d    NaN\n",
       "dtype: float64"
      ]
     },
     "execution_count": 15,
     "metadata": {},
     "output_type": "execute_result"
    }
   ],
   "source": [
    "s + t"
   ]
  },
  {
   "cell_type": "markdown",
   "metadata": {
    "slideshow": {
     "slide_type": "slide"
    }
   },
   "source": [
    "### `pandas.DataFrame`"
   ]
  },
  {
   "cell_type": "code",
   "execution_count": 16,
   "metadata": {
    "collapsed": false,
    "slideshow": {
     "slide_type": "fragment"
    }
   },
   "outputs": [
    {
     "data": {
      "text/html": [
       "<div>\n",
       "<table border=\"1\" class=\"dataframe\">\n",
       "  <thead>\n",
       "    <tr style=\"text-align: right;\">\n",
       "      <th></th>\n",
       "      <th>age</th>\n",
       "      <th>race</th>\n",
       "      <th>sex</th>\n",
       "      <th>wage</th>\n",
       "      <th>year</th>\n",
       "    </tr>\n",
       "  </thead>\n",
       "  <tbody>\n",
       "    <tr>\n",
       "      <th>0</th>\n",
       "      <td>18</td>\n",
       "      <td>white</td>\n",
       "      <td>male</td>\n",
       "      <td>75.043154</td>\n",
       "      <td>2006</td>\n",
       "    </tr>\n",
       "    <tr>\n",
       "      <th>1</th>\n",
       "      <td>24</td>\n",
       "      <td>white</td>\n",
       "      <td>male</td>\n",
       "      <td>70.476020</td>\n",
       "      <td>2004</td>\n",
       "    </tr>\n",
       "    <tr>\n",
       "      <th>2</th>\n",
       "      <td>45</td>\n",
       "      <td>white</td>\n",
       "      <td>male</td>\n",
       "      <td>130.982177</td>\n",
       "      <td>2003</td>\n",
       "    </tr>\n",
       "    <tr>\n",
       "      <th>3</th>\n",
       "      <td>43</td>\n",
       "      <td>asian</td>\n",
       "      <td>male</td>\n",
       "      <td>154.685293</td>\n",
       "      <td>2003</td>\n",
       "    </tr>\n",
       "  </tbody>\n",
       "</table>\n",
       "</div>"
      ],
      "text/plain": [
       "   age   race   sex        wage  year\n",
       "0   18  white  male   75.043154  2006\n",
       "1   24  white  male   70.476020  2004\n",
       "2   45  white  male  130.982177  2003\n",
       "3   43  asian  male  154.685293  2003"
      ]
     },
     "execution_count": 16,
     "metadata": {},
     "output_type": "execute_result"
    }
   ],
   "source": [
    "# Create a `DataFrame` for example by passing several `Series`.\n",
    "# You can also create one using a NumPy array of course.\n",
    "df = pd.DataFrame({'year': [2006, 2004, 2003, 2003], \n",
    "                   'age': [18, 24, 45, 43], \n",
    "                   'sex': ['male', 'male', 'male', 'male'], \n",
    "                   'race': ['white', 'white', 'white', 'asian'], \n",
    "                   'wage': [75.04315402, 70.47601965, 130.98217738, 154.685293]})\n",
    "df"
   ]
  },
  {
   "cell_type": "code",
   "execution_count": 17,
   "metadata": {
    "collapsed": false,
    "slideshow": {
     "slide_type": "fragment"
    }
   },
   "outputs": [
    {
     "data": {
      "text/plain": [
       "Int64Index([0, 1, 2, 3], dtype='int64')"
      ]
     },
     "execution_count": 17,
     "metadata": {},
     "output_type": "execute_result"
    }
   ],
   "source": [
    "# Useful attributes are\n",
    "df.index"
   ]
  },
  {
   "cell_type": "code",
   "execution_count": 18,
   "metadata": {
    "collapsed": false,
    "slideshow": {
     "slide_type": "fragment"
    }
   },
   "outputs": [
    {
     "data": {
      "text/plain": [
       "Index(['age', 'race', 'sex', 'wage', 'year'], dtype='object')"
      ]
     },
     "execution_count": 18,
     "metadata": {},
     "output_type": "execute_result"
    }
   ],
   "source": [
    "df.columns"
   ]
  },
  {
   "cell_type": "code",
   "execution_count": 19,
   "metadata": {
    "collapsed": false,
    "slideshow": {
     "slide_type": "fragment"
    }
   },
   "outputs": [
    {
     "data": {
      "text/plain": [
       "age       int64\n",
       "race     object\n",
       "sex      object\n",
       "wage    float64\n",
       "year      int64\n",
       "dtype: object"
      ]
     },
     "execution_count": 19,
     "metadata": {},
     "output_type": "execute_result"
    }
   ],
   "source": [
    "df.dtypes"
   ]
  },
  {
   "cell_type": "code",
   "execution_count": 20,
   "metadata": {
    "collapsed": false,
    "slideshow": {
     "slide_type": "fragment"
    }
   },
   "outputs": [
    {
     "data": {
      "text/plain": [
       "(4, 5)"
      ]
     },
     "execution_count": 20,
     "metadata": {},
     "output_type": "execute_result"
    }
   ],
   "source": [
    "df.shape"
   ]
  },
  {
   "cell_type": "code",
   "execution_count": 21,
   "metadata": {
    "collapsed": false,
    "slideshow": {
     "slide_type": "slide"
    }
   },
   "outputs": [
    {
     "data": {
      "text/html": [
       "<div>\n",
       "<table border=\"1\" class=\"dataframe\">\n",
       "  <thead>\n",
       "    <tr style=\"text-align: right;\">\n",
       "      <th></th>\n",
       "      <th>age</th>\n",
       "      <th>race</th>\n",
       "      <th>sex</th>\n",
       "      <th>wage</th>\n",
       "      <th>year</th>\n",
       "    </tr>\n",
       "  </thead>\n",
       "  <tbody>\n",
       "    <tr>\n",
       "      <th>2</th>\n",
       "      <td>45</td>\n",
       "      <td>white</td>\n",
       "      <td>male</td>\n",
       "      <td>130.982177</td>\n",
       "      <td>2003</td>\n",
       "    </tr>\n",
       "    <tr>\n",
       "      <th>3</th>\n",
       "      <td>43</td>\n",
       "      <td>asian</td>\n",
       "      <td>male</td>\n",
       "      <td>154.685293</td>\n",
       "      <td>2003</td>\n",
       "    </tr>\n",
       "  </tbody>\n",
       "</table>\n",
       "</div>"
      ],
      "text/plain": [
       "   age   race   sex        wage  year\n",
       "2   45  white  male  130.982177  2003\n",
       "3   43  asian  male  154.685293  2003"
      ]
     },
     "execution_count": 21,
     "metadata": {},
     "output_type": "execute_result"
    }
   ],
   "source": [
    "# `DataFrame`s are handy to work with\n",
    "# Select rows where *age* is greater than 40\n",
    "df[df.age > 40]"
   ]
  },
  {
   "cell_type": "code",
   "execution_count": 22,
   "metadata": {
    "collapsed": false,
    "slideshow": {
     "slide_type": "fragment"
    }
   },
   "outputs": [
    {
     "data": {
      "text/html": [
       "<div>\n",
       "<table border=\"1\" class=\"dataframe\">\n",
       "  <thead>\n",
       "    <tr style=\"text-align: right;\">\n",
       "      <th></th>\n",
       "      <th>wage</th>\n",
       "      <th>age</th>\n",
       "    </tr>\n",
       "  </thead>\n",
       "  <tbody>\n",
       "    <tr>\n",
       "      <th>2</th>\n",
       "      <td>130.982177</td>\n",
       "      <td>45</td>\n",
       "    </tr>\n",
       "    <tr>\n",
       "      <th>3</th>\n",
       "      <td>154.685293</td>\n",
       "      <td>43</td>\n",
       "    </tr>\n",
       "  </tbody>\n",
       "</table>\n",
       "</div>"
      ],
      "text/plain": [
       "         wage  age\n",
       "2  130.982177   45\n",
       "3  154.685293   43"
      ]
     },
     "execution_count": 22,
     "metadata": {},
     "output_type": "execute_result"
    }
   ],
   "source": [
    "# but only columns *wage* and *age\n",
    "df[df.age > 40][['wage', 'age']]"
   ]
  },
  {
   "cell_type": "code",
   "execution_count": 23,
   "metadata": {
    "collapsed": false,
    "slideshow": {
     "slide_type": "slide"
    }
   },
   "outputs": [
    {
     "data": {
      "text/html": [
       "<div>\n",
       "<table border=\"1\" class=\"dataframe\">\n",
       "  <thead>\n",
       "    <tr style=\"text-align: right;\">\n",
       "      <th></th>\n",
       "      <th>age</th>\n",
       "      <th>race</th>\n",
       "      <th>sex</th>\n",
       "      <th>wage</th>\n",
       "      <th>year</th>\n",
       "      <th>year_birth</th>\n",
       "      <th>age_now</th>\n",
       "    </tr>\n",
       "  </thead>\n",
       "  <tbody>\n",
       "    <tr>\n",
       "      <th>0</th>\n",
       "      <td>18</td>\n",
       "      <td>white</td>\n",
       "      <td>male</td>\n",
       "      <td>75.043154</td>\n",
       "      <td>2006</td>\n",
       "      <td>1988</td>\n",
       "      <td>28</td>\n",
       "    </tr>\n",
       "    <tr>\n",
       "      <th>1</th>\n",
       "      <td>24</td>\n",
       "      <td>white</td>\n",
       "      <td>male</td>\n",
       "      <td>70.476020</td>\n",
       "      <td>2004</td>\n",
       "      <td>1980</td>\n",
       "      <td>36</td>\n",
       "    </tr>\n",
       "    <tr>\n",
       "      <th>2</th>\n",
       "      <td>45</td>\n",
       "      <td>white</td>\n",
       "      <td>male</td>\n",
       "      <td>130.982177</td>\n",
       "      <td>2003</td>\n",
       "      <td>1958</td>\n",
       "      <td>58</td>\n",
       "    </tr>\n",
       "    <tr>\n",
       "      <th>3</th>\n",
       "      <td>43</td>\n",
       "      <td>asian</td>\n",
       "      <td>male</td>\n",
       "      <td>154.685293</td>\n",
       "      <td>2003</td>\n",
       "      <td>1960</td>\n",
       "      <td>56</td>\n",
       "    </tr>\n",
       "  </tbody>\n",
       "</table>\n",
       "</div>"
      ],
      "text/plain": [
       "   age   race   sex        wage  year  year_birth  age_now\n",
       "0   18  white  male   75.043154  2006        1988       28\n",
       "1   24  white  male   70.476020  2004        1980       36\n",
       "2   45  white  male  130.982177  2003        1958       58\n",
       "3   43  asian  male  154.685293  2003        1960       56"
      ]
     },
     "execution_count": 23,
     "metadata": {},
     "output_type": "execute_result"
    }
   ],
   "source": [
    "# add new columns by assignment\n",
    "df['year_birth'] = df['year'] - df['age']\n",
    "df['age_now'] = 2016 - df['year_birth']\n",
    "df"
   ]
  },
  {
   "cell_type": "code",
   "execution_count": 24,
   "metadata": {
    "collapsed": false,
    "slideshow": {
     "slide_type": "fragment"
    }
   },
   "outputs": [
    {
     "data": {
      "text/html": [
       "<div>\n",
       "<table border=\"1\" class=\"dataframe\">\n",
       "  <thead>\n",
       "    <tr style=\"text-align: right;\">\n",
       "      <th></th>\n",
       "      <th>age</th>\n",
       "      <th>race</th>\n",
       "      <th>sex</th>\n",
       "      <th>wage</th>\n",
       "      <th>year</th>\n",
       "      <th>year_birth</th>\n",
       "      <th>age_now</th>\n",
       "      <th>logwage</th>\n",
       "    </tr>\n",
       "  </thead>\n",
       "  <tbody>\n",
       "    <tr>\n",
       "      <th>0</th>\n",
       "      <td>18</td>\n",
       "      <td>white</td>\n",
       "      <td>male</td>\n",
       "      <td>75.043154</td>\n",
       "      <td>2006</td>\n",
       "      <td>1988</td>\n",
       "      <td>28</td>\n",
       "      <td>4.318063</td>\n",
       "    </tr>\n",
       "    <tr>\n",
       "      <th>1</th>\n",
       "      <td>24</td>\n",
       "      <td>white</td>\n",
       "      <td>male</td>\n",
       "      <td>70.476020</td>\n",
       "      <td>2004</td>\n",
       "      <td>1980</td>\n",
       "      <td>36</td>\n",
       "      <td>4.255273</td>\n",
       "    </tr>\n",
       "    <tr>\n",
       "      <th>2</th>\n",
       "      <td>45</td>\n",
       "      <td>white</td>\n",
       "      <td>male</td>\n",
       "      <td>130.982177</td>\n",
       "      <td>2003</td>\n",
       "      <td>1958</td>\n",
       "      <td>58</td>\n",
       "      <td>4.875061</td>\n",
       "    </tr>\n",
       "    <tr>\n",
       "      <th>3</th>\n",
       "      <td>43</td>\n",
       "      <td>asian</td>\n",
       "      <td>male</td>\n",
       "      <td>154.685293</td>\n",
       "      <td>2003</td>\n",
       "      <td>1960</td>\n",
       "      <td>56</td>\n",
       "      <td>5.041393</td>\n",
       "    </tr>\n",
       "  </tbody>\n",
       "</table>\n",
       "</div>"
      ],
      "text/plain": [
       "   age   race   sex        wage  year  year_birth  age_now   logwage\n",
       "0   18  white  male   75.043154  2006        1988       28  4.318063\n",
       "1   24  white  male   70.476020  2004        1980       36  4.255273\n",
       "2   45  white  male  130.982177  2003        1958       58  4.875061\n",
       "3   43  asian  male  154.685293  2003        1960       56  5.041393"
      ]
     },
     "execution_count": 24,
     "metadata": {},
     "output_type": "execute_result"
    }
   ],
   "source": [
    "# and exploit the underlying numpy datastructure\n",
    "df['logwage'] = np.log(df['wage'])\n",
    "df"
   ]
  },
  {
   "cell_type": "markdown",
   "metadata": {
    "slideshow": {
     "slide_type": "slide"
    }
   },
   "source": [
    "## Examples follow shortly\n",
    "\n",
    "\n",
    "Any questions so far?"
   ]
  },
  {
   "cell_type": "markdown",
   "metadata": {
    "slideshow": {
     "slide_type": "fragment"
    }
   },
   "source": [
    "### Further reading and credits\n",
    "\n",
    "- [10 Minutes to pandas](http://pandas-docs.github.io/pandas-docs-travis/10min.html)\n",
    "- [docs](http://pandas.pydata.org/pandas-docs/stable/)\n",
    "- Wes McKinney's book \"Python for Data Analysis\"\n",
    "- lots of tutorials on the internet, eg http://github.com/jvns/pandas-cookbook\n",
    "- The wage data set is taken from [ISLR package](https://cran.r-project.org/web/packages/ISLR/)\n",
    "- Thanks to Joris Van den Bossche for the air quality example in his [2015-PyDataParis presentation](https://github.com/jorisvandenbossche/2015-PyDataParis)"
   ]
  },
  {
   "cell_type": "code",
   "execution_count": 25,
   "metadata": {
    "collapsed": false,
    "slideshow": {
     "slide_type": "skip"
    }
   },
   "outputs": [
    {
     "data": {
      "text/html": [
       "<div>\n",
       "<table border=\"1\" class=\"dataframe\">\n",
       "  <thead>\n",
       "    <tr style=\"text-align: right;\">\n",
       "      <th></th>\n",
       "      <th>year</th>\n",
       "      <th>age</th>\n",
       "      <th>sex</th>\n",
       "      <th>maritl</th>\n",
       "      <th>race</th>\n",
       "      <th>education</th>\n",
       "      <th>region</th>\n",
       "      <th>jobclass</th>\n",
       "      <th>health</th>\n",
       "      <th>health_ins</th>\n",
       "      <th>logwage</th>\n",
       "      <th>wage</th>\n",
       "    </tr>\n",
       "  </thead>\n",
       "  <tbody>\n",
       "    <tr>\n",
       "      <th>231655</th>\n",
       "      <td>2006</td>\n",
       "      <td>18</td>\n",
       "      <td>1. Male</td>\n",
       "      <td>1. Never Married</td>\n",
       "      <td>1. White</td>\n",
       "      <td>1. &lt; HS Grad</td>\n",
       "      <td>2. Middle Atlantic</td>\n",
       "      <td>1. Industrial</td>\n",
       "      <td>1. &lt;=Good</td>\n",
       "      <td>2. No</td>\n",
       "      <td>4.318063</td>\n",
       "      <td>75.043154</td>\n",
       "    </tr>\n",
       "    <tr>\n",
       "      <th>86582</th>\n",
       "      <td>2004</td>\n",
       "      <td>24</td>\n",
       "      <td>1. Male</td>\n",
       "      <td>1. Never Married</td>\n",
       "      <td>1. White</td>\n",
       "      <td>4. College Grad</td>\n",
       "      <td>2. Middle Atlantic</td>\n",
       "      <td>2. Information</td>\n",
       "      <td>2. &gt;=Very Good</td>\n",
       "      <td>2. No</td>\n",
       "      <td>4.255273</td>\n",
       "      <td>70.476020</td>\n",
       "    </tr>\n",
       "    <tr>\n",
       "      <th>161300</th>\n",
       "      <td>2003</td>\n",
       "      <td>45</td>\n",
       "      <td>1. Male</td>\n",
       "      <td>2. Married</td>\n",
       "      <td>1. White</td>\n",
       "      <td>3. Some College</td>\n",
       "      <td>2. Middle Atlantic</td>\n",
       "      <td>1. Industrial</td>\n",
       "      <td>1. &lt;=Good</td>\n",
       "      <td>1. Yes</td>\n",
       "      <td>4.875061</td>\n",
       "      <td>130.982177</td>\n",
       "    </tr>\n",
       "    <tr>\n",
       "      <th>...</th>\n",
       "      <td>...</td>\n",
       "      <td>...</td>\n",
       "      <td>...</td>\n",
       "      <td>...</td>\n",
       "      <td>...</td>\n",
       "      <td>...</td>\n",
       "      <td>...</td>\n",
       "      <td>...</td>\n",
       "      <td>...</td>\n",
       "      <td>...</td>\n",
       "      <td>...</td>\n",
       "      <td>...</td>\n",
       "    </tr>\n",
       "    <tr>\n",
       "      <th>10033</th>\n",
       "      <td>2005</td>\n",
       "      <td>27</td>\n",
       "      <td>1. Male</td>\n",
       "      <td>2. Married</td>\n",
       "      <td>2. Black</td>\n",
       "      <td>1. &lt; HS Grad</td>\n",
       "      <td>2. Middle Atlantic</td>\n",
       "      <td>1. Industrial</td>\n",
       "      <td>1. &lt;=Good</td>\n",
       "      <td>2. No</td>\n",
       "      <td>4.193125</td>\n",
       "      <td>66.229408</td>\n",
       "    </tr>\n",
       "    <tr>\n",
       "      <th>14375</th>\n",
       "      <td>2005</td>\n",
       "      <td>27</td>\n",
       "      <td>1. Male</td>\n",
       "      <td>1. Never Married</td>\n",
       "      <td>1. White</td>\n",
       "      <td>3. Some College</td>\n",
       "      <td>2. Middle Atlantic</td>\n",
       "      <td>1. Industrial</td>\n",
       "      <td>2. &gt;=Very Good</td>\n",
       "      <td>1. Yes</td>\n",
       "      <td>4.477121</td>\n",
       "      <td>87.981033</td>\n",
       "    </tr>\n",
       "    <tr>\n",
       "      <th>453557</th>\n",
       "      <td>2009</td>\n",
       "      <td>55</td>\n",
       "      <td>1. Male</td>\n",
       "      <td>5. Separated</td>\n",
       "      <td>1. White</td>\n",
       "      <td>2. HS Grad</td>\n",
       "      <td>2. Middle Atlantic</td>\n",
       "      <td>1. Industrial</td>\n",
       "      <td>1. &lt;=Good</td>\n",
       "      <td>1. Yes</td>\n",
       "      <td>4.505150</td>\n",
       "      <td>90.481913</td>\n",
       "    </tr>\n",
       "  </tbody>\n",
       "</table>\n",
       "<p>3000 rows × 12 columns</p>\n",
       "</div>"
      ],
      "text/plain": [
       "        year  age      sex            maritl      race        education  \\\n",
       "231655  2006   18  1. Male  1. Never Married  1. White     1. < HS Grad   \n",
       "86582   2004   24  1. Male  1. Never Married  1. White  4. College Grad   \n",
       "161300  2003   45  1. Male        2. Married  1. White  3. Some College   \n",
       "...      ...  ...      ...               ...       ...              ...   \n",
       "10033   2005   27  1. Male        2. Married  2. Black     1. < HS Grad   \n",
       "14375   2005   27  1. Male  1. Never Married  1. White  3. Some College   \n",
       "453557  2009   55  1. Male      5. Separated  1. White       2. HS Grad   \n",
       "\n",
       "                    region        jobclass          health health_ins  \\\n",
       "231655  2. Middle Atlantic   1. Industrial       1. <=Good      2. No   \n",
       "86582   2. Middle Atlantic  2. Information  2. >=Very Good      2. No   \n",
       "161300  2. Middle Atlantic   1. Industrial       1. <=Good     1. Yes   \n",
       "...                    ...             ...             ...        ...   \n",
       "10033   2. Middle Atlantic   1. Industrial       1. <=Good      2. No   \n",
       "14375   2. Middle Atlantic   1. Industrial  2. >=Very Good     1. Yes   \n",
       "453557  2. Middle Atlantic   1. Industrial       1. <=Good     1. Yes   \n",
       "\n",
       "         logwage        wage  \n",
       "231655  4.318063   75.043154  \n",
       "86582   4.255273   70.476020  \n",
       "161300  4.875061  130.982177  \n",
       "...          ...         ...  \n",
       "10033   4.193125   66.229408  \n",
       "14375   4.477121   87.981033  \n",
       "453557  4.505150   90.481913  \n",
       "\n",
       "[3000 rows x 12 columns]"
      ]
     },
     "execution_count": 25,
     "metadata": {},
     "output_type": "execute_result"
    }
   ],
   "source": [
    "# Wage dataset from https://cran.r-project.org/web/packages/ISLR/\n",
    "df = pd.read_csv('./data/wage_data.csv', index_col=0)\n",
    "df"
   ]
  },
  {
   "cell_type": "code",
   "execution_count": 26,
   "metadata": {
    "collapsed": false,
    "slideshow": {
     "slide_type": "skip"
    }
   },
   "outputs": [
    {
     "name": "stdout",
     "output_type": "stream",
     "text": [
      "              year          age      logwage         wage\n",
      "count  3000.000000  3000.000000  3000.000000  3000.000000\n",
      "mean   2005.791000    42.414667     4.653905   111.703608\n",
      "std       2.026167    11.542406     0.351753    41.728595\n",
      "min    2003.000000    18.000000     3.000000    20.085537\n",
      "25%    2004.000000    33.750000     4.447158    85.383940\n",
      "50%    2006.000000    42.000000     4.653213   104.921507\n",
      "75%    2008.000000    51.000000     4.857332   128.680488\n",
      "max    2009.000000    80.000000     5.763128   318.342430\n"
     ]
    }
   ],
   "source": [
    "pd.options.display.max_rows = 10\n",
    "print(df.describe())\n",
    "pd.options.display.max_rows = 6"
   ]
  },
  {
   "cell_type": "code",
   "execution_count": 27,
   "metadata": {
    "collapsed": false,
    "slideshow": {
     "slide_type": "skip"
    }
   },
   "outputs": [
    {
     "data": {
      "text/plain": [
       "Index(['year', 'age', 'sex', 'maritl', 'race', 'education', 'region',\n",
       "       'jobclass', 'health', 'health_ins', 'logwage', 'wage'],\n",
       "      dtype='object')"
      ]
     },
     "execution_count": 27,
     "metadata": {},
     "output_type": "execute_result"
    }
   ],
   "source": [
    "df.columns"
   ]
  },
  {
   "cell_type": "code",
   "execution_count": 28,
   "metadata": {
    "collapsed": false,
    "slideshow": {
     "slide_type": "skip"
    }
   },
   "outputs": [
    {
     "data": {
      "text/plain": [
       "array(['1. Male'], dtype=object)"
      ]
     },
     "execution_count": 28,
     "metadata": {},
     "output_type": "execute_result"
    }
   ],
   "source": [
    "df['sex'].unique()"
   ]
  },
  {
   "cell_type": "code",
   "execution_count": 29,
   "metadata": {
    "collapsed": false,
    "slideshow": {
     "slide_type": "skip"
    }
   },
   "outputs": [
    {
     "data": {
      "text/plain": [
       "array(['1. White', '3. Asian', '4. Other', '2. Black'], dtype=object)"
      ]
     },
     "execution_count": 29,
     "metadata": {},
     "output_type": "execute_result"
    }
   ],
   "source": [
    "df['race'].unique()"
   ]
  },
  {
   "cell_type": "code",
   "execution_count": 30,
   "metadata": {
    "collapsed": false,
    "slideshow": {
     "slide_type": "skip"
    }
   },
   "outputs": [
    {
     "data": {
      "text/plain": [
       "array(['White', 'Asian', 'Other', 'Black'], dtype=object)"
      ]
     },
     "execution_count": 30,
     "metadata": {},
     "output_type": "execute_result"
    }
   ],
   "source": [
    "df['race'] = df['race'].apply(lambda x: x.split('. ')[1])\n",
    "df['race'].unique()"
   ]
  },
  {
   "cell_type": "code",
   "execution_count": 31,
   "metadata": {
    "collapsed": false,
    "slideshow": {
     "slide_type": "skip"
    }
   },
   "outputs": [
    {
     "data": {
      "text/plain": [
       "array(['1. < HS Grad', '4. College Grad', '3. Some College', '2. HS Grad',\n",
       "       '5. Advanced Degree'], dtype=object)"
      ]
     },
     "execution_count": 31,
     "metadata": {},
     "output_type": "execute_result"
    }
   ],
   "source": [
    "df['education'].unique()"
   ]
  },
  {
   "cell_type": "code",
   "execution_count": 32,
   "metadata": {
    "collapsed": true,
    "slideshow": {
     "slide_type": "skip"
    }
   },
   "outputs": [],
   "source": [
    "df['education'] = df['education'].replace({'1. < HS Grad': 'Primary Education', \n",
    "                                           '2. HS Grad': 'Secondary Education', \n",
    "                                           '3. Some College': 'Postsecondary Education',\n",
    "                                           '4. College Grad': 'Postsecondary Education', \n",
    "                                           '5. Advanced Degree': 'Advanced Degree'})"
   ]
  },
  {
   "cell_type": "code",
   "execution_count": 33,
   "metadata": {
    "collapsed": false,
    "slideshow": {
     "slide_type": "skip"
    }
   },
   "outputs": [
    {
     "data": {
      "text/plain": [
       "array(['Primary Education', 'Postsecondary Education',\n",
       "       'Secondary Education', 'Advanced Degree'], dtype=object)"
      ]
     },
     "execution_count": 33,
     "metadata": {},
     "output_type": "execute_result"
    }
   ],
   "source": [
    "df['education'].unique()"
   ]
  },
  {
   "cell_type": "code",
   "execution_count": null,
   "metadata": {
    "collapsed": true
   },
   "outputs": [],
   "source": [
    "from collections import Counter\n",
    "Counter(df.education)"
   ]
  },
  {
   "cell_type": "code",
   "execution_count": 34,
   "metadata": {
    "collapsed": false,
    "slideshow": {
     "slide_type": "skip"
    }
   },
   "outputs": [
    {
     "data": {
      "text/html": [
       "<div>\n",
       "<table border=\"1\" class=\"dataframe\">\n",
       "  <thead>\n",
       "    <tr style=\"text-align: right;\">\n",
       "      <th></th>\n",
       "      <th>year</th>\n",
       "      <th>age</th>\n",
       "      <th>sex</th>\n",
       "      <th>maritl</th>\n",
       "      <th>race</th>\n",
       "      <th>education</th>\n",
       "      <th>region</th>\n",
       "      <th>jobclass</th>\n",
       "      <th>health</th>\n",
       "      <th>health_ins</th>\n",
       "      <th>logwage</th>\n",
       "      <th>wage</th>\n",
       "      <th>age_class</th>\n",
       "    </tr>\n",
       "  </thead>\n",
       "  <tbody>\n",
       "    <tr>\n",
       "      <th>231655</th>\n",
       "      <td>2006</td>\n",
       "      <td>18</td>\n",
       "      <td>1. Male</td>\n",
       "      <td>1. Never Married</td>\n",
       "      <td>White</td>\n",
       "      <td>Primary Education</td>\n",
       "      <td>2. Middle Atlantic</td>\n",
       "      <td>1. Industrial</td>\n",
       "      <td>1. &lt;=Good</td>\n",
       "      <td>2. No</td>\n",
       "      <td>4.318063</td>\n",
       "      <td>75.043154</td>\n",
       "      <td>0-18</td>\n",
       "    </tr>\n",
       "    <tr>\n",
       "      <th>86582</th>\n",
       "      <td>2004</td>\n",
       "      <td>24</td>\n",
       "      <td>1. Male</td>\n",
       "      <td>1. Never Married</td>\n",
       "      <td>White</td>\n",
       "      <td>Postsecondary Education</td>\n",
       "      <td>2. Middle Atlantic</td>\n",
       "      <td>2. Information</td>\n",
       "      <td>2. &gt;=Very Good</td>\n",
       "      <td>2. No</td>\n",
       "      <td>4.255273</td>\n",
       "      <td>70.476020</td>\n",
       "      <td>19-35</td>\n",
       "    </tr>\n",
       "    <tr>\n",
       "      <th>161300</th>\n",
       "      <td>2003</td>\n",
       "      <td>45</td>\n",
       "      <td>1. Male</td>\n",
       "      <td>2. Married</td>\n",
       "      <td>White</td>\n",
       "      <td>Postsecondary Education</td>\n",
       "      <td>2. Middle Atlantic</td>\n",
       "      <td>1. Industrial</td>\n",
       "      <td>1. &lt;=Good</td>\n",
       "      <td>1. Yes</td>\n",
       "      <td>4.875061</td>\n",
       "      <td>130.982177</td>\n",
       "      <td>36-65</td>\n",
       "    </tr>\n",
       "    <tr>\n",
       "      <th>...</th>\n",
       "      <td>...</td>\n",
       "      <td>...</td>\n",
       "      <td>...</td>\n",
       "      <td>...</td>\n",
       "      <td>...</td>\n",
       "      <td>...</td>\n",
       "      <td>...</td>\n",
       "      <td>...</td>\n",
       "      <td>...</td>\n",
       "      <td>...</td>\n",
       "      <td>...</td>\n",
       "      <td>...</td>\n",
       "      <td>...</td>\n",
       "    </tr>\n",
       "    <tr>\n",
       "      <th>10033</th>\n",
       "      <td>2005</td>\n",
       "      <td>27</td>\n",
       "      <td>1. Male</td>\n",
       "      <td>2. Married</td>\n",
       "      <td>Black</td>\n",
       "      <td>Primary Education</td>\n",
       "      <td>2. Middle Atlantic</td>\n",
       "      <td>1. Industrial</td>\n",
       "      <td>1. &lt;=Good</td>\n",
       "      <td>2. No</td>\n",
       "      <td>4.193125</td>\n",
       "      <td>66.229408</td>\n",
       "      <td>19-35</td>\n",
       "    </tr>\n",
       "    <tr>\n",
       "      <th>14375</th>\n",
       "      <td>2005</td>\n",
       "      <td>27</td>\n",
       "      <td>1. Male</td>\n",
       "      <td>1. Never Married</td>\n",
       "      <td>White</td>\n",
       "      <td>Postsecondary Education</td>\n",
       "      <td>2. Middle Atlantic</td>\n",
       "      <td>1. Industrial</td>\n",
       "      <td>2. &gt;=Very Good</td>\n",
       "      <td>1. Yes</td>\n",
       "      <td>4.477121</td>\n",
       "      <td>87.981033</td>\n",
       "      <td>19-35</td>\n",
       "    </tr>\n",
       "    <tr>\n",
       "      <th>453557</th>\n",
       "      <td>2009</td>\n",
       "      <td>55</td>\n",
       "      <td>1. Male</td>\n",
       "      <td>5. Separated</td>\n",
       "      <td>White</td>\n",
       "      <td>Secondary Education</td>\n",
       "      <td>2. Middle Atlantic</td>\n",
       "      <td>1. Industrial</td>\n",
       "      <td>1. &lt;=Good</td>\n",
       "      <td>1. Yes</td>\n",
       "      <td>4.505150</td>\n",
       "      <td>90.481913</td>\n",
       "      <td>36-65</td>\n",
       "    </tr>\n",
       "  </tbody>\n",
       "</table>\n",
       "<p>3000 rows × 13 columns</p>\n",
       "</div>"
      ],
      "text/plain": [
       "        year  age      sex            maritl   race                education  \\\n",
       "231655  2006   18  1. Male  1. Never Married  White        Primary Education   \n",
       "86582   2004   24  1. Male  1. Never Married  White  Postsecondary Education   \n",
       "161300  2003   45  1. Male        2. Married  White  Postsecondary Education   \n",
       "...      ...  ...      ...               ...    ...                      ...   \n",
       "10033   2005   27  1. Male        2. Married  Black        Primary Education   \n",
       "14375   2005   27  1. Male  1. Never Married  White  Postsecondary Education   \n",
       "453557  2009   55  1. Male      5. Separated  White      Secondary Education   \n",
       "\n",
       "                    region        jobclass          health health_ins  \\\n",
       "231655  2. Middle Atlantic   1. Industrial       1. <=Good      2. No   \n",
       "86582   2. Middle Atlantic  2. Information  2. >=Very Good      2. No   \n",
       "161300  2. Middle Atlantic   1. Industrial       1. <=Good     1. Yes   \n",
       "...                    ...             ...             ...        ...   \n",
       "10033   2. Middle Atlantic   1. Industrial       1. <=Good      2. No   \n",
       "14375   2. Middle Atlantic   1. Industrial  2. >=Very Good     1. Yes   \n",
       "453557  2. Middle Atlantic   1. Industrial       1. <=Good     1. Yes   \n",
       "\n",
       "         logwage        wage age_class  \n",
       "231655  4.318063   75.043154      0-18  \n",
       "86582   4.255273   70.476020     19-35  \n",
       "161300  4.875061  130.982177     36-65  \n",
       "...          ...         ...       ...  \n",
       "10033   4.193125   66.229408     19-35  \n",
       "14375   4.477121   87.981033     19-35  \n",
       "453557  4.505150   90.481913     36-65  \n",
       "\n",
       "[3000 rows x 13 columns]"
      ]
     },
     "execution_count": 34,
     "metadata": {},
     "output_type": "execute_result"
    }
   ],
   "source": [
    "df['age_class'] = pd.cut(df['age'], [0, 18, 35, 65, np.Inf], labels=['0-18', '19-35', '36-65', '66+'])\n",
    "df"
   ]
  },
  {
   "cell_type": "code",
   "execution_count": null,
   "metadata": {
    "collapsed": false,
    "slideshow": {
     "slide_type": "skip"
    }
   },
   "outputs": [],
   "source": []
  },
  {
   "cell_type": "code",
   "execution_count": 35,
   "metadata": {
    "collapsed": false,
    "slideshow": {
     "slide_type": "skip"
    }
   },
   "outputs": [
    {
     "data": {
      "text/plain": [
       "<matplotlib.axes._subplots.AxesSubplot at 0x7f289f2fe358>"
      ]
     },
     "execution_count": 35,
     "metadata": {},
     "output_type": "execute_result"
    },
    {
     "data": {
      "image/png": "[encoded data removed]",
      "text/plain": [
       "<matplotlib.figure.Figure at 0x7f289f320588>"
      ]
     },
     "metadata": {},
     "output_type": "display_data"
    }
   ],
   "source": [
    "fig, axs = plt.subplots(nrows=2)\n",
    "df['wage'].plot.hist(bins=50, ax=axs[0])\n",
    "df['logwage'].plot.hist(bins=50, ax=axs[1])"
   ]
  },
  {
   "cell_type": "code",
   "execution_count": 36,
   "metadata": {
    "collapsed": false,
    "slideshow": {
     "slide_type": "skip"
    }
   },
   "outputs": [
    {
     "data": {
      "text/html": [
       "<div>\n",
       "<table border=\"1\" class=\"dataframe\">\n",
       "  <thead>\n",
       "    <tr style=\"text-align: right;\">\n",
       "      <th></th>\n",
       "      <th>mean</th>\n",
       "      <th>std</th>\n",
       "    </tr>\n",
       "    <tr>\n",
       "      <th>age_class</th>\n",
       "      <th></th>\n",
       "      <th></th>\n",
       "    </tr>\n",
       "  </thead>\n",
       "  <tbody>\n",
       "    <tr>\n",
       "      <th>0-18</th>\n",
       "      <td>64.493063</td>\n",
       "      <td>11.471962</td>\n",
       "    </tr>\n",
       "    <tr>\n",
       "      <th>19-35</th>\n",
       "      <td>97.417444</td>\n",
       "      <td>32.976762</td>\n",
       "    </tr>\n",
       "    <tr>\n",
       "      <th>36-65</th>\n",
       "      <td>118.494559</td>\n",
       "      <td>43.578145</td>\n",
       "    </tr>\n",
       "    <tr>\n",
       "      <th>66+</th>\n",
       "      <td>102.553894</td>\n",
       "      <td>36.939896</td>\n",
       "    </tr>\n",
       "  </tbody>\n",
       "</table>\n",
       "</div>"
      ],
      "text/plain": [
       "                 mean        std\n",
       "age_class                       \n",
       "0-18        64.493063  11.471962\n",
       "19-35       97.417444  32.976762\n",
       "36-65      118.494559  43.578145\n",
       "66+        102.553894  36.939896"
      ]
     },
     "execution_count": 36,
     "metadata": {},
     "output_type": "execute_result"
    }
   ],
   "source": [
    "df.groupby('age_class')['wage'].agg([np.mean, np.std])"
   ]
  },
  {
   "cell_type": "code",
   "execution_count": 37,
   "metadata": {
    "collapsed": false,
    "slideshow": {
     "slide_type": "skip"
    }
   },
   "outputs": [
    {
     "data": {
      "text/html": [
       "<div>\n",
       "<table border=\"1\" class=\"dataframe\">\n",
       "  <thead>\n",
       "    <tr style=\"text-align: right;\">\n",
       "      <th></th>\n",
       "      <th>mean</th>\n",
       "      <th>std</th>\n",
       "    </tr>\n",
       "    <tr>\n",
       "      <th>race</th>\n",
       "      <th></th>\n",
       "      <th></th>\n",
       "    </tr>\n",
       "  </thead>\n",
       "  <tbody>\n",
       "    <tr>\n",
       "      <th>Asian</th>\n",
       "      <td>120.288288</td>\n",
       "      <td>46.422514</td>\n",
       "    </tr>\n",
       "    <tr>\n",
       "      <th>Black</th>\n",
       "      <td>101.601177</td>\n",
       "      <td>37.162486</td>\n",
       "    </tr>\n",
       "    <tr>\n",
       "      <th>Other</th>\n",
       "      <td>89.973326</td>\n",
       "      <td>29.153530</td>\n",
       "    </tr>\n",
       "    <tr>\n",
       "      <th>White</th>\n",
       "      <td>112.563666</td>\n",
       "      <td>41.733830</td>\n",
       "    </tr>\n",
       "  </tbody>\n",
       "</table>\n",
       "</div>"
      ],
      "text/plain": [
       "             mean        std\n",
       "race                        \n",
       "Asian  120.288288  46.422514\n",
       "Black  101.601177  37.162486\n",
       "Other   89.973326  29.153530\n",
       "White  112.563666  41.733830"
      ]
     },
     "execution_count": 37,
     "metadata": {},
     "output_type": "execute_result"
    }
   ],
   "source": [
    "\n",
    "df.groupby('race')['wage'].agg([np.mean, np.std])"
   ]
  },
  {
   "cell_type": "code",
   "execution_count": 38,
   "metadata": {
    "collapsed": false,
    "slideshow": {
     "slide_type": "skip"
    }
   },
   "outputs": [
    {
     "data": {
      "text/html": [
       "<div>\n",
       "<table border=\"1\" class=\"dataframe\">\n",
       "  <thead>\n",
       "    <tr style=\"text-align: right;\">\n",
       "      <th></th>\n",
       "      <th></th>\n",
       "      <th>mean</th>\n",
       "      <th>std</th>\n",
       "    </tr>\n",
       "    <tr>\n",
       "      <th>age_class</th>\n",
       "      <th>race</th>\n",
       "      <th></th>\n",
       "      <th></th>\n",
       "    </tr>\n",
       "  </thead>\n",
       "  <tbody>\n",
       "    <tr>\n",
       "      <th rowspan=\"2\" valign=\"top\">0-18</th>\n",
       "      <th>Black</th>\n",
       "      <td>70.476020</td>\n",
       "      <td>NaN</td>\n",
       "    </tr>\n",
       "    <tr>\n",
       "      <th>White</th>\n",
       "      <td>63.894767</td>\n",
       "      <td>11.910237</td>\n",
       "    </tr>\n",
       "    <tr>\n",
       "      <th rowspan=\"4\" valign=\"top\">19-35</th>\n",
       "      <th>Asian</th>\n",
       "      <td>112.971113</td>\n",
       "      <td>42.205021</td>\n",
       "    </tr>\n",
       "    <tr>\n",
       "      <th>Black</th>\n",
       "      <td>93.318806</td>\n",
       "      <td>32.915168</td>\n",
       "    </tr>\n",
       "    <tr>\n",
       "      <th>Other</th>\n",
       "      <td>78.895957</td>\n",
       "      <td>22.641586</td>\n",
       "    </tr>\n",
       "    <tr>\n",
       "      <th>White</th>\n",
       "      <td>96.949330</td>\n",
       "      <td>31.783729</td>\n",
       "    </tr>\n",
       "    <tr>\n",
       "      <th rowspan=\"4\" valign=\"top\">36-65</th>\n",
       "      <th>Asian</th>\n",
       "      <td>124.585997</td>\n",
       "      <td>48.510500</td>\n",
       "    </tr>\n",
       "    <tr>\n",
       "      <th>Black</th>\n",
       "      <td>105.550900</td>\n",
       "      <td>39.468244</td>\n",
       "    </tr>\n",
       "    <tr>\n",
       "      <th>Other</th>\n",
       "      <td>100.467677</td>\n",
       "      <td>31.252798</td>\n",
       "    </tr>\n",
       "    <tr>\n",
       "      <th>White</th>\n",
       "      <td>119.686426</td>\n",
       "      <td>43.496410</td>\n",
       "    </tr>\n",
       "    <tr>\n",
       "      <th rowspan=\"3\" valign=\"top\">66+</th>\n",
       "      <th>Asian</th>\n",
       "      <td>114.589507</td>\n",
       "      <td>44.560380</td>\n",
       "    </tr>\n",
       "    <tr>\n",
       "      <th>Black</th>\n",
       "      <td>102.328581</td>\n",
       "      <td>24.840629</td>\n",
       "    </tr>\n",
       "    <tr>\n",
       "      <th>White</th>\n",
       "      <td>101.185054</td>\n",
       "      <td>40.844991</td>\n",
       "    </tr>\n",
       "  </tbody>\n",
       "</table>\n",
       "</div>"
      ],
      "text/plain": [
       "                       mean        std\n",
       "age_class race                        \n",
       "0-18      Black   70.476020        NaN\n",
       "          White   63.894767  11.910237\n",
       "19-35     Asian  112.971113  42.205021\n",
       "          Black   93.318806  32.915168\n",
       "          Other   78.895957  22.641586\n",
       "          White   96.949330  31.783729\n",
       "36-65     Asian  124.585997  48.510500\n",
       "          Black  105.550900  39.468244\n",
       "          Other  100.467677  31.252798\n",
       "          White  119.686426  43.496410\n",
       "66+       Asian  114.589507  44.560380\n",
       "          Black  102.328581  24.840629\n",
       "          White  101.185054  40.844991"
      ]
     },
     "execution_count": 38,
     "metadata": {},
     "output_type": "execute_result"
    }
   ],
   "source": [
    "pd.options.display.max_rows = 100\n",
    "df.groupby(['age_class', 'race'])['wage'].agg([np.mean, np.std])\n"
   ]
  },
  {
   "cell_type": "code",
   "execution_count": 39,
   "metadata": {
    "collapsed": false,
    "slideshow": {
     "slide_type": "skip"
    }
   },
   "outputs": [
    {
     "data": {
      "text/plain": [
       "<matplotlib.legend.Legend at 0x7f289b8792b0>"
      ]
     },
     "execution_count": 39,
     "metadata": {},
     "output_type": "execute_result"
    },
    {
     "name": "stderr",
     "output_type": "stream",
     "text": [
      "/home/claus/anaconda3/lib/python3.5/site-packages/matplotlib/collections.py:590: FutureWarning: elementwise comparison failed; returning scalar instead, but in the future will perform elementwise comparison\n",
      "  if self._edgecolors == str('face'):\n"
     ]
    },
    {
     "data": {
      "image/png": "[encoded data removed]",
      "text/plain": [
       "<matplotlib.figure.Figure at 0x7f289f223f60>"
      ]
     },
     "metadata": {},
     "output_type": "display_data"
    }
   ],
   "source": [
    "# %% scatter plot wage ~ age\n",
    "fig, ax = plt.subplots()\n",
    "df.plot.scatter(x='age', y='wage', title='wage ~ age', alpha=0.5, label='data', ax=ax)\n",
    "\n",
    "# compute median wage per age and plot\n",
    "df.groupby('age')['wage'].agg(np.median).plot.line(ax=ax, label='median', color='g')\n",
    "df.groupby('age')['wage'].agg(np.mean).plot.line(ax=ax, label='mean', color='r')\n",
    "ax.legend()"
   ]
  },
  {
   "cell_type": "code",
   "execution_count": 40,
   "metadata": {
    "collapsed": false,
    "slideshow": {
     "slide_type": "skip"
    }
   },
   "outputs": [
    {
     "data": {
      "text/plain": [
       "<matplotlib.axes._subplots.AxesSubplot at 0x7f289f344400>"
      ]
     },
     "execution_count": 40,
     "metadata": {},
     "output_type": "execute_result"
    },
    {
     "data": {
      "image/png": "[encoded data removed]",
      "text/plain": [
       "<matplotlib.figure.Figure at 0x7f289f250c50>"
      ]
     },
     "metadata": {},
     "output_type": "display_data"
    }
   ],
   "source": [
    "df.boxplot(column='wage', by='education')"
   ]
  },
  {
   "cell_type": "code",
   "execution_count": 50,
   "metadata": {
    "collapsed": false,
    "slideshow": {
     "slide_type": "skip"
    }
   },
   "outputs": [
    {
     "data": {
      "text/html": [
       "<div>\n",
       "<table border=\"1\" class=\"dataframe\">\n",
       "  <thead>\n",
       "    <tr style=\"text-align: right;\">\n",
       "      <th></th>\n",
       "      <th>date</th>\n",
       "      <th>00</th>\n",
       "      <th>flag</th>\n",
       "      <th>01</th>\n",
       "      <th>flag</th>\n",
       "      <th>02</th>\n",
       "      <th>flag</th>\n",
       "      <th>03</th>\n",
       "      <th>flag</th>\n",
       "      <th>04</th>\n",
       "      <th>...</th>\n",
       "      <th>19</th>\n",
       "      <th>flag</th>\n",
       "      <th>20</th>\n",
       "      <th>flag</th>\n",
       "      <th>21</th>\n",
       "      <th>flag</th>\n",
       "      <th>22</th>\n",
       "      <th>flag</th>\n",
       "      <th>23</th>\n",
       "      <th>flag</th>\n",
       "    </tr>\n",
       "  </thead>\n",
       "  <tbody>\n",
       "    <tr>\n",
       "      <th>0</th>\n",
       "      <td>1988-01-01</td>\n",
       "      <td>0.00</td>\n",
       "      <td>1</td>\n",
       "      <td>48.80</td>\n",
       "      <td>1</td>\n",
       "      <td>66.00</td>\n",
       "      <td>1</td>\n",
       "      <td>66.00</td>\n",
       "      <td>1</td>\n",
       "      <td>57.40</td>\n",
       "      <td>...</td>\n",
       "      <td>69.80</td>\n",
       "      <td>1</td>\n",
       "      <td>62.10</td>\n",
       "      <td>1</td>\n",
       "      <td>65.00</td>\n",
       "      <td>1</td>\n",
       "      <td>59.30</td>\n",
       "      <td>1</td>\n",
       "      <td>61.20</td>\n",
       "      <td>1</td>\n",
       "    </tr>\n",
       "    <tr>\n",
       "      <th>1</th>\n",
       "      <td>1988-01-02</td>\n",
       "      <td>70.80</td>\n",
       "      <td>1</td>\n",
       "      <td>61.20</td>\n",
       "      <td>1</td>\n",
       "      <td>53.50</td>\n",
       "      <td>1</td>\n",
       "      <td>53.50</td>\n",
       "      <td>1</td>\n",
       "      <td>46.90</td>\n",
       "      <td>...</td>\n",
       "      <td>62.10</td>\n",
       "      <td>1</td>\n",
       "      <td>57.40</td>\n",
       "      <td>1</td>\n",
       "      <td>59.30</td>\n",
       "      <td>1</td>\n",
       "      <td>58.30</td>\n",
       "      <td>1</td>\n",
       "      <td>59.30</td>\n",
       "      <td>1</td>\n",
       "    </tr>\n",
       "    <tr>\n",
       "      <th>2</th>\n",
       "      <td>1988-01-03</td>\n",
       "      <td>54.50</td>\n",
       "      <td>1</td>\n",
       "      <td>50.70</td>\n",
       "      <td>1</td>\n",
       "      <td>44.00</td>\n",
       "      <td>1</td>\n",
       "      <td>47.80</td>\n",
       "      <td>1</td>\n",
       "      <td>42.10</td>\n",
       "      <td>...</td>\n",
       "      <td>107.10</td>\n",
       "      <td>1</td>\n",
       "      <td>92.70</td>\n",
       "      <td>1</td>\n",
       "      <td>69.80</td>\n",
       "      <td>1</td>\n",
       "      <td>76.50</td>\n",
       "      <td>1</td>\n",
       "      <td>109.00</td>\n",
       "      <td>1</td>\n",
       "    </tr>\n",
       "    <tr>\n",
       "      <th>...</th>\n",
       "      <td>...</td>\n",
       "      <td>...</td>\n",
       "      <td>...</td>\n",
       "      <td>...</td>\n",
       "      <td>...</td>\n",
       "      <td>...</td>\n",
       "      <td>...</td>\n",
       "      <td>...</td>\n",
       "      <td>...</td>\n",
       "      <td>...</td>\n",
       "      <td>...</td>\n",
       "      <td>...</td>\n",
       "      <td>...</td>\n",
       "      <td>...</td>\n",
       "      <td>...</td>\n",
       "      <td>...</td>\n",
       "      <td>...</td>\n",
       "      <td>...</td>\n",
       "      <td>...</td>\n",
       "      <td>...</td>\n",
       "      <td>...</td>\n",
       "    </tr>\n",
       "    <tr>\n",
       "      <th>9129</th>\n",
       "      <td>2012-12-29</td>\n",
       "      <td>33.22</td>\n",
       "      <td>1</td>\n",
       "      <td>42.98</td>\n",
       "      <td>1</td>\n",
       "      <td>34.26</td>\n",
       "      <td>1</td>\n",
       "      <td>28.61</td>\n",
       "      <td>1</td>\n",
       "      <td>51.91</td>\n",
       "      <td>...</td>\n",
       "      <td>29.41</td>\n",
       "      <td>1</td>\n",
       "      <td>23.40</td>\n",
       "      <td>1</td>\n",
       "      <td>20.23</td>\n",
       "      <td>1</td>\n",
       "      <td>19.90</td>\n",
       "      <td>1</td>\n",
       "      <td>20.06</td>\n",
       "      <td>1</td>\n",
       "    </tr>\n",
       "    <tr>\n",
       "      <th>9130</th>\n",
       "      <td>2012-12-30</td>\n",
       "      <td>20.18</td>\n",
       "      <td>1</td>\n",
       "      <td>15.29</td>\n",
       "      <td>1</td>\n",
       "      <td>13.60</td>\n",
       "      <td>1</td>\n",
       "      <td>14.46</td>\n",
       "      <td>1</td>\n",
       "      <td>14.32</td>\n",
       "      <td>...</td>\n",
       "      <td>55.48</td>\n",
       "      <td>1</td>\n",
       "      <td>65.81</td>\n",
       "      <td>1</td>\n",
       "      <td>58.58</td>\n",
       "      <td>1</td>\n",
       "      <td>66.37</td>\n",
       "      <td>1</td>\n",
       "      <td>74.20</td>\n",
       "      <td>1</td>\n",
       "    </tr>\n",
       "    <tr>\n",
       "      <th>9131</th>\n",
       "      <td>2012-12-31</td>\n",
       "      <td>72.85</td>\n",
       "      <td>1</td>\n",
       "      <td>36.85</td>\n",
       "      <td>1</td>\n",
       "      <td>55.21</td>\n",
       "      <td>1</td>\n",
       "      <td>64.44</td>\n",
       "      <td>1</td>\n",
       "      <td>79.94</td>\n",
       "      <td>...</td>\n",
       "      <td>61.90</td>\n",
       "      <td>1</td>\n",
       "      <td>64.80</td>\n",
       "      <td>1</td>\n",
       "      <td>74.46</td>\n",
       "      <td>1</td>\n",
       "      <td>66.60</td>\n",
       "      <td>1</td>\n",
       "      <td>60.85</td>\n",
       "      <td>1</td>\n",
       "    </tr>\n",
       "  </tbody>\n",
       "</table>\n",
       "<p>9132 rows × 49 columns</p>\n",
       "</div>"
      ],
      "text/plain": [
       "            date     00  flag     01  flag     02  flag     03  flag     04  \\\n",
       "0     1988-01-01   0.00     1  48.80     1  66.00     1  66.00     1  57.40   \n",
       "1     1988-01-02  70.80     1  61.20     1  53.50     1  53.50     1  46.90   \n",
       "2     1988-01-03  54.50     1  50.70     1  44.00     1  47.80     1  42.10   \n",
       "...          ...    ...   ...    ...   ...    ...   ...    ...   ...    ...   \n",
       "9129  2012-12-29  33.22     1  42.98     1  34.26     1  28.61     1  51.91   \n",
       "9130  2012-12-30  20.18     1  15.29     1  13.60     1  14.46     1  14.32   \n",
       "9131  2012-12-31  72.85     1  36.85     1  55.21     1  64.44     1  79.94   \n",
       "\n",
       "      ...       19  flag     20  flag     21  flag     22  flag      23  flag  \n",
       "0     ...    69.80     1  62.10     1  65.00     1  59.30     1   61.20     1  \n",
       "1     ...    62.10     1  57.40     1  59.30     1  58.30     1   59.30     1  \n",
       "2     ...   107.10     1  92.70     1  69.80     1  76.50     1  109.00     1  \n",
       "...   ...      ...   ...    ...   ...    ...   ...    ...   ...     ...   ...  \n",
       "9129  ...    29.41     1  23.40     1  20.23     1  19.90     1   20.06     1  \n",
       "9130  ...    55.48     1  65.81     1  58.58     1  66.37     1   74.20     1  \n",
       "9131  ...    61.90     1  64.80     1  74.46     1  66.60     1   60.85     1  \n",
       "\n",
       "[9132 rows x 49 columns]"
      ]
     },
     "execution_count": 50,
     "metadata": {},
     "output_type": "execute_result"
    }
   ],
   "source": [
    "pd.options.display.max_rows = 7\n",
    "names = ','.join(['date'] + [\"{:02d},flag\".format(i) for i in range(24)]).split(',')\n",
    "df = pd.read_csv('./data/AT90AKC0000800100hour.1-1-1988.31-12-2012',\n",
    "                 sep='\\t', header=None, names=names)\n",
    "df"
   ]
  },
  {
   "cell_type": "code",
   "execution_count": 51,
   "metadata": {
    "collapsed": false,
    "slideshow": {
     "slide_type": "skip"
    }
   },
   "outputs": [
    {
     "data": {
      "text/html": [
       "<div>\n",
       "<table border=\"1\" class=\"dataframe\">\n",
       "  <thead>\n",
       "    <tr style=\"text-align: right;\">\n",
       "      <th></th>\n",
       "      <th>date</th>\n",
       "      <th>00</th>\n",
       "      <th>01</th>\n",
       "      <th>02</th>\n",
       "      <th>03</th>\n",
       "      <th>04</th>\n",
       "      <th>05</th>\n",
       "      <th>06</th>\n",
       "      <th>07</th>\n",
       "      <th>08</th>\n",
       "      <th>...</th>\n",
       "      <th>14</th>\n",
       "      <th>15</th>\n",
       "      <th>16</th>\n",
       "      <th>17</th>\n",
       "      <th>18</th>\n",
       "      <th>19</th>\n",
       "      <th>20</th>\n",
       "      <th>21</th>\n",
       "      <th>22</th>\n",
       "      <th>23</th>\n",
       "    </tr>\n",
       "  </thead>\n",
       "  <tbody>\n",
       "    <tr>\n",
       "      <th>0</th>\n",
       "      <td>1988-01-01</td>\n",
       "      <td>0.00</td>\n",
       "      <td>48.80</td>\n",
       "      <td>66.00</td>\n",
       "      <td>66.00</td>\n",
       "      <td>57.40</td>\n",
       "      <td>71.70</td>\n",
       "      <td>63.10</td>\n",
       "      <td>63.10</td>\n",
       "      <td>57.40</td>\n",
       "      <td>...</td>\n",
       "      <td>73.60</td>\n",
       "      <td>87.00</td>\n",
       "      <td>88.00</td>\n",
       "      <td>81.30</td>\n",
       "      <td>73.60</td>\n",
       "      <td>69.80</td>\n",
       "      <td>62.10</td>\n",
       "      <td>65.00</td>\n",
       "      <td>59.30</td>\n",
       "      <td>61.20</td>\n",
       "    </tr>\n",
       "    <tr>\n",
       "      <th>1</th>\n",
       "      <td>1988-01-02</td>\n",
       "      <td>70.80</td>\n",
       "      <td>61.20</td>\n",
       "      <td>53.50</td>\n",
       "      <td>53.50</td>\n",
       "      <td>46.90</td>\n",
       "      <td>47.80</td>\n",
       "      <td>44.00</td>\n",
       "      <td>44.90</td>\n",
       "      <td>49.70</td>\n",
       "      <td>...</td>\n",
       "      <td>73.60</td>\n",
       "      <td>68.80</td>\n",
       "      <td>65.00</td>\n",
       "      <td>64.10</td>\n",
       "      <td>64.10</td>\n",
       "      <td>62.10</td>\n",
       "      <td>57.40</td>\n",
       "      <td>59.30</td>\n",
       "      <td>58.30</td>\n",
       "      <td>59.30</td>\n",
       "    </tr>\n",
       "    <tr>\n",
       "      <th>2</th>\n",
       "      <td>1988-01-03</td>\n",
       "      <td>54.50</td>\n",
       "      <td>50.70</td>\n",
       "      <td>44.00</td>\n",
       "      <td>47.80</td>\n",
       "      <td>42.10</td>\n",
       "      <td>45.90</td>\n",
       "      <td>54.50</td>\n",
       "      <td>44.90</td>\n",
       "      <td>36.30</td>\n",
       "      <td>...</td>\n",
       "      <td>73.60</td>\n",
       "      <td>89.90</td>\n",
       "      <td>83.20</td>\n",
       "      <td>92.70</td>\n",
       "      <td>110.90</td>\n",
       "      <td>107.10</td>\n",
       "      <td>92.70</td>\n",
       "      <td>69.80</td>\n",
       "      <td>76.50</td>\n",
       "      <td>109.00</td>\n",
       "    </tr>\n",
       "    <tr>\n",
       "      <th>...</th>\n",
       "      <td>...</td>\n",
       "      <td>...</td>\n",
       "      <td>...</td>\n",
       "      <td>...</td>\n",
       "      <td>...</td>\n",
       "      <td>...</td>\n",
       "      <td>...</td>\n",
       "      <td>...</td>\n",
       "      <td>...</td>\n",
       "      <td>...</td>\n",
       "      <td>...</td>\n",
       "      <td>...</td>\n",
       "      <td>...</td>\n",
       "      <td>...</td>\n",
       "      <td>...</td>\n",
       "      <td>...</td>\n",
       "      <td>...</td>\n",
       "      <td>...</td>\n",
       "      <td>...</td>\n",
       "      <td>...</td>\n",
       "      <td>...</td>\n",
       "    </tr>\n",
       "    <tr>\n",
       "      <th>9129</th>\n",
       "      <td>2012-12-29</td>\n",
       "      <td>33.22</td>\n",
       "      <td>42.98</td>\n",
       "      <td>34.26</td>\n",
       "      <td>28.61</td>\n",
       "      <td>51.91</td>\n",
       "      <td>51.18</td>\n",
       "      <td>34.00</td>\n",
       "      <td>43.24</td>\n",
       "      <td>60.00</td>\n",
       "      <td>...</td>\n",
       "      <td>23.96</td>\n",
       "      <td>24.87</td>\n",
       "      <td>24.15</td>\n",
       "      <td>29.82</td>\n",
       "      <td>34.30</td>\n",
       "      <td>29.41</td>\n",
       "      <td>23.40</td>\n",
       "      <td>20.23</td>\n",
       "      <td>19.90</td>\n",
       "      <td>20.06</td>\n",
       "    </tr>\n",
       "    <tr>\n",
       "      <th>9130</th>\n",
       "      <td>2012-12-30</td>\n",
       "      <td>20.18</td>\n",
       "      <td>15.29</td>\n",
       "      <td>13.60</td>\n",
       "      <td>14.46</td>\n",
       "      <td>14.32</td>\n",
       "      <td>15.20</td>\n",
       "      <td>29.88</td>\n",
       "      <td>27.20</td>\n",
       "      <td>24.45</td>\n",
       "      <td>...</td>\n",
       "      <td>27.46</td>\n",
       "      <td>32.66</td>\n",
       "      <td>49.23</td>\n",
       "      <td>40.48</td>\n",
       "      <td>42.89</td>\n",
       "      <td>55.48</td>\n",
       "      <td>65.81</td>\n",
       "      <td>58.58</td>\n",
       "      <td>66.37</td>\n",
       "      <td>74.20</td>\n",
       "    </tr>\n",
       "    <tr>\n",
       "      <th>9131</th>\n",
       "      <td>2012-12-31</td>\n",
       "      <td>72.85</td>\n",
       "      <td>36.85</td>\n",
       "      <td>55.21</td>\n",
       "      <td>64.44</td>\n",
       "      <td>79.94</td>\n",
       "      <td>65.91</td>\n",
       "      <td>56.08</td>\n",
       "      <td>70.45</td>\n",
       "      <td>63.66</td>\n",
       "      <td>...</td>\n",
       "      <td>58.23</td>\n",
       "      <td>54.99</td>\n",
       "      <td>48.62</td>\n",
       "      <td>50.35</td>\n",
       "      <td>52.87</td>\n",
       "      <td>61.90</td>\n",
       "      <td>64.80</td>\n",
       "      <td>74.46</td>\n",
       "      <td>66.60</td>\n",
       "      <td>60.85</td>\n",
       "    </tr>\n",
       "  </tbody>\n",
       "</table>\n",
       "<p>9132 rows × 25 columns</p>\n",
       "</div>"
      ],
      "text/plain": [
       "            date     00     01     02     03     04     05     06     07  \\\n",
       "0     1988-01-01   0.00  48.80  66.00  66.00  57.40  71.70  63.10  63.10   \n",
       "1     1988-01-02  70.80  61.20  53.50  53.50  46.90  47.80  44.00  44.90   \n",
       "2     1988-01-03  54.50  50.70  44.00  47.80  42.10  45.90  54.50  44.90   \n",
       "...          ...    ...    ...    ...    ...    ...    ...    ...    ...   \n",
       "9129  2012-12-29  33.22  42.98  34.26  28.61  51.91  51.18  34.00  43.24   \n",
       "9130  2012-12-30  20.18  15.29  13.60  14.46  14.32  15.20  29.88  27.20   \n",
       "9131  2012-12-31  72.85  36.85  55.21  64.44  79.94  65.91  56.08  70.45   \n",
       "\n",
       "         08   ...       14     15     16     17      18      19     20     21  \\\n",
       "0     57.40   ...    73.60  87.00  88.00  81.30   73.60   69.80  62.10  65.00   \n",
       "1     49.70   ...    73.60  68.80  65.00  64.10   64.10   62.10  57.40  59.30   \n",
       "2     36.30   ...    73.60  89.90  83.20  92.70  110.90  107.10  92.70  69.80   \n",
       "...     ...   ...      ...    ...    ...    ...     ...     ...    ...    ...   \n",
       "9129  60.00   ...    23.96  24.87  24.15  29.82   34.30   29.41  23.40  20.23   \n",
       "9130  24.45   ...    27.46  32.66  49.23  40.48   42.89   55.48  65.81  58.58   \n",
       "9131  63.66   ...    58.23  54.99  48.62  50.35   52.87   61.90  64.80  74.46   \n",
       "\n",
       "         22      23  \n",
       "0     59.30   61.20  \n",
       "1     58.30   59.30  \n",
       "2     76.50  109.00  \n",
       "...     ...     ...  \n",
       "9129  19.90   20.06  \n",
       "9130  66.37   74.20  \n",
       "9131  66.60   60.85  \n",
       "\n",
       "[9132 rows x 25 columns]"
      ]
     },
     "execution_count": 51,
     "metadata": {},
     "output_type": "execute_result"
    }
   ],
   "source": [
    "df = df.drop('flag', axis=1)\n",
    "df"
   ]
  },
  {
   "cell_type": "code",
   "execution_count": 52,
   "metadata": {
    "collapsed": false,
    "slideshow": {
     "slide_type": "skip"
    }
   },
   "outputs": [
    {
     "data": {
      "text/html": [
       "<div>\n",
       "<table border=\"1\" class=\"dataframe\">\n",
       "  <thead>\n",
       "    <tr style=\"text-align: right;\">\n",
       "      <th></th>\n",
       "      <th>00</th>\n",
       "      <th>01</th>\n",
       "      <th>02</th>\n",
       "      <th>03</th>\n",
       "      <th>04</th>\n",
       "      <th>05</th>\n",
       "      <th>06</th>\n",
       "      <th>07</th>\n",
       "      <th>08</th>\n",
       "      <th>09</th>\n",
       "      <th>...</th>\n",
       "      <th>14</th>\n",
       "      <th>15</th>\n",
       "      <th>16</th>\n",
       "      <th>17</th>\n",
       "      <th>18</th>\n",
       "      <th>19</th>\n",
       "      <th>20</th>\n",
       "      <th>21</th>\n",
       "      <th>22</th>\n",
       "      <th>23</th>\n",
       "    </tr>\n",
       "    <tr>\n",
       "      <th>date</th>\n",
       "      <th></th>\n",
       "      <th></th>\n",
       "      <th></th>\n",
       "      <th></th>\n",
       "      <th></th>\n",
       "      <th></th>\n",
       "      <th></th>\n",
       "      <th></th>\n",
       "      <th></th>\n",
       "      <th></th>\n",
       "      <th></th>\n",
       "      <th></th>\n",
       "      <th></th>\n",
       "      <th></th>\n",
       "      <th></th>\n",
       "      <th></th>\n",
       "      <th></th>\n",
       "      <th></th>\n",
       "      <th></th>\n",
       "      <th></th>\n",
       "      <th></th>\n",
       "    </tr>\n",
       "  </thead>\n",
       "  <tbody>\n",
       "    <tr>\n",
       "      <th>1988-01-01</th>\n",
       "      <td>0.00</td>\n",
       "      <td>48.80</td>\n",
       "      <td>66.00</td>\n",
       "      <td>66.00</td>\n",
       "      <td>57.40</td>\n",
       "      <td>71.70</td>\n",
       "      <td>63.10</td>\n",
       "      <td>63.10</td>\n",
       "      <td>57.40</td>\n",
       "      <td>59.30</td>\n",
       "      <td>...</td>\n",
       "      <td>73.60</td>\n",
       "      <td>87.00</td>\n",
       "      <td>88.00</td>\n",
       "      <td>81.30</td>\n",
       "      <td>73.60</td>\n",
       "      <td>69.80</td>\n",
       "      <td>62.10</td>\n",
       "      <td>65.00</td>\n",
       "      <td>59.30</td>\n",
       "      <td>61.20</td>\n",
       "    </tr>\n",
       "    <tr>\n",
       "      <th>1988-01-02</th>\n",
       "      <td>70.80</td>\n",
       "      <td>61.20</td>\n",
       "      <td>53.50</td>\n",
       "      <td>53.50</td>\n",
       "      <td>46.90</td>\n",
       "      <td>47.80</td>\n",
       "      <td>44.00</td>\n",
       "      <td>44.90</td>\n",
       "      <td>49.70</td>\n",
       "      <td>55.50</td>\n",
       "      <td>...</td>\n",
       "      <td>73.60</td>\n",
       "      <td>68.80</td>\n",
       "      <td>65.00</td>\n",
       "      <td>64.10</td>\n",
       "      <td>64.10</td>\n",
       "      <td>62.10</td>\n",
       "      <td>57.40</td>\n",
       "      <td>59.30</td>\n",
       "      <td>58.30</td>\n",
       "      <td>59.30</td>\n",
       "    </tr>\n",
       "    <tr>\n",
       "      <th>1988-01-03</th>\n",
       "      <td>54.50</td>\n",
       "      <td>50.70</td>\n",
       "      <td>44.00</td>\n",
       "      <td>47.80</td>\n",
       "      <td>42.10</td>\n",
       "      <td>45.90</td>\n",
       "      <td>54.50</td>\n",
       "      <td>44.90</td>\n",
       "      <td>36.30</td>\n",
       "      <td>66.00</td>\n",
       "      <td>...</td>\n",
       "      <td>73.60</td>\n",
       "      <td>89.90</td>\n",
       "      <td>83.20</td>\n",
       "      <td>92.70</td>\n",
       "      <td>110.90</td>\n",
       "      <td>107.10</td>\n",
       "      <td>92.70</td>\n",
       "      <td>69.80</td>\n",
       "      <td>76.50</td>\n",
       "      <td>109.00</td>\n",
       "    </tr>\n",
       "    <tr>\n",
       "      <th>...</th>\n",
       "      <td>...</td>\n",
       "      <td>...</td>\n",
       "      <td>...</td>\n",
       "      <td>...</td>\n",
       "      <td>...</td>\n",
       "      <td>...</td>\n",
       "      <td>...</td>\n",
       "      <td>...</td>\n",
       "      <td>...</td>\n",
       "      <td>...</td>\n",
       "      <td>...</td>\n",
       "      <td>...</td>\n",
       "      <td>...</td>\n",
       "      <td>...</td>\n",
       "      <td>...</td>\n",
       "      <td>...</td>\n",
       "      <td>...</td>\n",
       "      <td>...</td>\n",
       "      <td>...</td>\n",
       "      <td>...</td>\n",
       "      <td>...</td>\n",
       "    </tr>\n",
       "    <tr>\n",
       "      <th>2012-12-29</th>\n",
       "      <td>33.22</td>\n",
       "      <td>42.98</td>\n",
       "      <td>34.26</td>\n",
       "      <td>28.61</td>\n",
       "      <td>51.91</td>\n",
       "      <td>51.18</td>\n",
       "      <td>34.00</td>\n",
       "      <td>43.24</td>\n",
       "      <td>60.00</td>\n",
       "      <td>61.15</td>\n",
       "      <td>...</td>\n",
       "      <td>23.96</td>\n",
       "      <td>24.87</td>\n",
       "      <td>24.15</td>\n",
       "      <td>29.82</td>\n",
       "      <td>34.30</td>\n",
       "      <td>29.41</td>\n",
       "      <td>23.40</td>\n",
       "      <td>20.23</td>\n",
       "      <td>19.90</td>\n",
       "      <td>20.06</td>\n",
       "    </tr>\n",
       "    <tr>\n",
       "      <th>2012-12-30</th>\n",
       "      <td>20.18</td>\n",
       "      <td>15.29</td>\n",
       "      <td>13.60</td>\n",
       "      <td>14.46</td>\n",
       "      <td>14.32</td>\n",
       "      <td>15.20</td>\n",
       "      <td>29.88</td>\n",
       "      <td>27.20</td>\n",
       "      <td>24.45</td>\n",
       "      <td>23.51</td>\n",
       "      <td>...</td>\n",
       "      <td>27.46</td>\n",
       "      <td>32.66</td>\n",
       "      <td>49.23</td>\n",
       "      <td>40.48</td>\n",
       "      <td>42.89</td>\n",
       "      <td>55.48</td>\n",
       "      <td>65.81</td>\n",
       "      <td>58.58</td>\n",
       "      <td>66.37</td>\n",
       "      <td>74.20</td>\n",
       "    </tr>\n",
       "    <tr>\n",
       "      <th>2012-12-31</th>\n",
       "      <td>72.85</td>\n",
       "      <td>36.85</td>\n",
       "      <td>55.21</td>\n",
       "      <td>64.44</td>\n",
       "      <td>79.94</td>\n",
       "      <td>65.91</td>\n",
       "      <td>56.08</td>\n",
       "      <td>70.45</td>\n",
       "      <td>63.66</td>\n",
       "      <td>76.37</td>\n",
       "      <td>...</td>\n",
       "      <td>58.23</td>\n",
       "      <td>54.99</td>\n",
       "      <td>48.62</td>\n",
       "      <td>50.35</td>\n",
       "      <td>52.87</td>\n",
       "      <td>61.90</td>\n",
       "      <td>64.80</td>\n",
       "      <td>74.46</td>\n",
       "      <td>66.60</td>\n",
       "      <td>60.85</td>\n",
       "    </tr>\n",
       "  </tbody>\n",
       "</table>\n",
       "<p>9132 rows × 24 columns</p>\n",
       "</div>"
      ],
      "text/plain": [
       "               00     01     02     03     04     05     06     07     08  \\\n",
       "date                                                                        \n",
       "1988-01-01   0.00  48.80  66.00  66.00  57.40  71.70  63.10  63.10  57.40   \n",
       "1988-01-02  70.80  61.20  53.50  53.50  46.90  47.80  44.00  44.90  49.70   \n",
       "1988-01-03  54.50  50.70  44.00  47.80  42.10  45.90  54.50  44.90  36.30   \n",
       "...           ...    ...    ...    ...    ...    ...    ...    ...    ...   \n",
       "2012-12-29  33.22  42.98  34.26  28.61  51.91  51.18  34.00  43.24  60.00   \n",
       "2012-12-30  20.18  15.29  13.60  14.46  14.32  15.20  29.88  27.20  24.45   \n",
       "2012-12-31  72.85  36.85  55.21  64.44  79.94  65.91  56.08  70.45  63.66   \n",
       "\n",
       "               09   ...       14     15     16     17      18      19     20  \\\n",
       "date                ...                                                        \n",
       "1988-01-01  59.30   ...    73.60  87.00  88.00  81.30   73.60   69.80  62.10   \n",
       "1988-01-02  55.50   ...    73.60  68.80  65.00  64.10   64.10   62.10  57.40   \n",
       "1988-01-03  66.00   ...    73.60  89.90  83.20  92.70  110.90  107.10  92.70   \n",
       "...           ...   ...      ...    ...    ...    ...     ...     ...    ...   \n",
       "2012-12-29  61.15   ...    23.96  24.87  24.15  29.82   34.30   29.41  23.40   \n",
       "2012-12-30  23.51   ...    27.46  32.66  49.23  40.48   42.89   55.48  65.81   \n",
       "2012-12-31  76.37   ...    58.23  54.99  48.62  50.35   52.87   61.90  64.80   \n",
       "\n",
       "               21     22      23  \n",
       "date                              \n",
       "1988-01-01  65.00  59.30   61.20  \n",
       "1988-01-02  59.30  58.30   59.30  \n",
       "1988-01-03  69.80  76.50  109.00  \n",
       "...           ...    ...     ...  \n",
       "2012-12-29  20.23  19.90   20.06  \n",
       "2012-12-30  58.58  66.37   74.20  \n",
       "2012-12-31  74.46  66.60   60.85  \n",
       "\n",
       "[9132 rows x 24 columns]"
      ]
     },
     "execution_count": 52,
     "metadata": {},
     "output_type": "execute_result"
    }
   ],
   "source": [
    "df = df.set_index('date')\n",
    "df"
   ]
  },
  {
   "cell_type": "code",
   "execution_count": 53,
   "metadata": {
    "collapsed": false,
    "slideshow": {
     "slide_type": "skip"
    }
   },
   "outputs": [
    {
     "data": {
      "text/plain": [
       "date          \n",
       "1988-01-01  00     0.00\n",
       "            01    48.80\n",
       "            02    66.00\n",
       "                  ...  \n",
       "2012-12-31  21    74.46\n",
       "            22    66.60\n",
       "            23    60.85\n",
       "dtype: float64"
      ]
     },
     "execution_count": 53,
     "metadata": {},
     "output_type": "execute_result"
    }
   ],
   "source": [
    "df_stacked = df.stack()\n",
    "df_stacked"
   ]
  },
  {
   "cell_type": "code",
   "execution_count": 54,
   "metadata": {
    "collapsed": false,
    "slideshow": {
     "slide_type": "skip"
    }
   },
   "outputs": [
    {
     "data": {
      "text/html": [
       "<div>\n",
       "<table border=\"1\" class=\"dataframe\">\n",
       "  <thead>\n",
       "    <tr style=\"text-align: right;\">\n",
       "      <th></th>\n",
       "      <th>date</th>\n",
       "      <th>level_1</th>\n",
       "      <th>bla</th>\n",
       "    </tr>\n",
       "  </thead>\n",
       "  <tbody>\n",
       "    <tr>\n",
       "      <th>0</th>\n",
       "      <td>1988-01-01</td>\n",
       "      <td>00</td>\n",
       "      <td>0.00</td>\n",
       "    </tr>\n",
       "    <tr>\n",
       "      <th>1</th>\n",
       "      <td>1988-01-01</td>\n",
       "      <td>01</td>\n",
       "      <td>48.80</td>\n",
       "    </tr>\n",
       "    <tr>\n",
       "      <th>2</th>\n",
       "      <td>1988-01-01</td>\n",
       "      <td>02</td>\n",
       "      <td>66.00</td>\n",
       "    </tr>\n",
       "    <tr>\n",
       "      <th>...</th>\n",
       "      <td>...</td>\n",
       "      <td>...</td>\n",
       "      <td>...</td>\n",
       "    </tr>\n",
       "    <tr>\n",
       "      <th>219165</th>\n",
       "      <td>2012-12-31</td>\n",
       "      <td>21</td>\n",
       "      <td>74.46</td>\n",
       "    </tr>\n",
       "    <tr>\n",
       "      <th>219166</th>\n",
       "      <td>2012-12-31</td>\n",
       "      <td>22</td>\n",
       "      <td>66.60</td>\n",
       "    </tr>\n",
       "    <tr>\n",
       "      <th>219167</th>\n",
       "      <td>2012-12-31</td>\n",
       "      <td>23</td>\n",
       "      <td>60.85</td>\n",
       "    </tr>\n",
       "  </tbody>\n",
       "</table>\n",
       "<p>219168 rows × 3 columns</p>\n",
       "</div>"
      ],
      "text/plain": [
       "              date level_1    bla\n",
       "0       1988-01-01      00   0.00\n",
       "1       1988-01-01      01  48.80\n",
       "2       1988-01-01      02  66.00\n",
       "...            ...     ...    ...\n",
       "219165  2012-12-31      21  74.46\n",
       "219166  2012-12-31      22  66.60\n",
       "219167  2012-12-31      23  60.85\n",
       "\n",
       "[219168 rows x 3 columns]"
      ]
     },
     "execution_count": 54,
     "metadata": {},
     "output_type": "execute_result"
    }
   ],
   "source": [
    "df_stacked = df_stacked.reset_index(name='no2')\n",
    "df_stacked"
   ]
  },
  {
   "cell_type": "code",
   "execution_count": 55,
   "metadata": {
    "collapsed": false,
    "slideshow": {
     "slide_type": "skip"
    }
   },
   "outputs": [
    {
     "data": {
      "text/html": [
       "<div>\n",
       "<table border=\"1\" class=\"dataframe\">\n",
       "  <thead>\n",
       "    <tr style=\"text-align: right;\">\n",
       "      <th></th>\n",
       "      <th>bla</th>\n",
       "    </tr>\n",
       "  </thead>\n",
       "  <tbody>\n",
       "    <tr>\n",
       "      <th>1988-01-01 00:00:00</th>\n",
       "      <td>0.00</td>\n",
       "    </tr>\n",
       "    <tr>\n",
       "      <th>1988-01-01 01:00:00</th>\n",
       "      <td>48.80</td>\n",
       "    </tr>\n",
       "    <tr>\n",
       "      <th>1988-01-01 02:00:00</th>\n",
       "      <td>66.00</td>\n",
       "    </tr>\n",
       "    <tr>\n",
       "      <th>...</th>\n",
       "      <td>...</td>\n",
       "    </tr>\n",
       "    <tr>\n",
       "      <th>2012-12-31 21:00:00</th>\n",
       "      <td>74.46</td>\n",
       "    </tr>\n",
       "    <tr>\n",
       "      <th>2012-12-31 22:00:00</th>\n",
       "      <td>66.60</td>\n",
       "    </tr>\n",
       "    <tr>\n",
       "      <th>2012-12-31 23:00:00</th>\n",
       "      <td>60.85</td>\n",
       "    </tr>\n",
       "  </tbody>\n",
       "</table>\n",
       "<p>219168 rows × 1 columns</p>\n",
       "</div>"
      ],
      "text/plain": [
       "                       bla\n",
       "1988-01-01 00:00:00   0.00\n",
       "1988-01-01 01:00:00  48.80\n",
       "1988-01-01 02:00:00  66.00\n",
       "...                    ...\n",
       "2012-12-31 21:00:00  74.46\n",
       "2012-12-31 22:00:00  66.60\n",
       "2012-12-31 23:00:00  60.85\n",
       "\n",
       "[219168 rows x 1 columns]"
      ]
     },
     "execution_count": 55,
     "metadata": {},
     "output_type": "execute_result"
    }
   ],
   "source": [
    "df_stacked.index = pd.to_datetime(df_stacked['date'] + df_stacked['level_1'], format=\"%Y-%m-%d%H\")\n",
    "df_stacked = df_stacked.drop(['date', 'level_1'], axis=1)\n",
    "\n",
    "df_stacked"
   ]
  },
  {
   "cell_type": "code",
   "execution_count": 56,
   "metadata": {
    "collapsed": false,
    "slideshow": {
     "slide_type": "skip"
    }
   },
   "outputs": [
    {
     "name": "stdout",
     "output_type": "stream",
     "text": [
      "<class 'pandas.core.frame.DataFrame'>\n",
      "DatetimeIndex: 219168 entries, 1988-01-01 00:00:00 to 2012-12-31 23:00:00\n",
      "Data columns (total 1 columns):\n",
      "bla    219168 non-null float64\n",
      "dtypes: float64(1)\n",
      "memory usage: 3.3 MB\n"
     ]
    }
   ],
   "source": [
    "df_stacked.info()"
   ]
  },
  {
   "cell_type": "code",
   "execution_count": 57,
   "metadata": {
    "collapsed": false,
    "slideshow": {
     "slide_type": "skip"
    }
   },
   "outputs": [
    {
     "ename": "NameError",
     "evalue": "name 'data_stacked' is not defined",
     "output_type": "error",
     "traceback": [
      "\u001b[1;31m---------------------------------------------------------------------------\u001b[0m",
      "\u001b[1;31mNameError\u001b[0m                                 Traceback (most recent call last)",
      "\u001b[1;32m<ipython-input-57-a191dff51a2f>\u001b[0m in \u001b[0;36m<module>\u001b[1;34m()\u001b[0m\n\u001b[0;32m      1\u001b[0m \u001b[1;31m# Partial string indexing\u001b[0m\u001b[1;33m\u001b[0m\u001b[1;33m\u001b[0m\u001b[0m\n\u001b[1;32m----> 2\u001b[1;33m \u001b[0mdata_stacked\u001b[0m\u001b[1;33m[\u001b[0m\u001b[1;34m'2012-01'\u001b[0m\u001b[1;33m:\u001b[0m\u001b[1;34m'2012-03'\u001b[0m\u001b[1;33m]\u001b[0m\u001b[1;33m\u001b[0m\u001b[0m\n\u001b[0m",
      "\u001b[1;31mNameError\u001b[0m: name 'data_stacked' is not defined"
     ]
    }
   ],
   "source": [
    "# Partial string indexing\n",
    "df_stacked['2012-01':'2012-03']"
   ]
  },
  {
   "cell_type": "code",
   "execution_count": 58,
   "metadata": {
    "collapsed": false,
    "slideshow": {
     "slide_type": "skip"
    }
   },
   "outputs": [
    {
     "data": {
      "text/html": [
       "<div>\n",
       "<table border=\"1\" class=\"dataframe\">\n",
       "  <thead>\n",
       "    <tr style=\"text-align: right;\">\n",
       "      <th></th>\n",
       "      <th>bla</th>\n",
       "    </tr>\n",
       "  </thead>\n",
       "  <tbody>\n",
       "    <tr>\n",
       "      <th>1988-01-01</th>\n",
       "      <td>63.670833</td>\n",
       "    </tr>\n",
       "    <tr>\n",
       "      <th>1988-01-02</th>\n",
       "      <td>60.595833</td>\n",
       "    </tr>\n",
       "    <tr>\n",
       "      <th>1988-01-03</th>\n",
       "      <td>69.795833</td>\n",
       "    </tr>\n",
       "    <tr>\n",
       "      <th>1988-01-04</th>\n",
       "      <td>102.741667</td>\n",
       "    </tr>\n",
       "    <tr>\n",
       "      <th>1988-01-05</th>\n",
       "      <td>95.062500</td>\n",
       "    </tr>\n",
       "  </tbody>\n",
       "</table>\n",
       "</div>"
      ],
      "text/plain": [
       "                   bla\n",
       "1988-01-01   63.670833\n",
       "1988-01-02   60.595833\n",
       "1988-01-03   69.795833\n",
       "1988-01-04  102.741667\n",
       "1988-01-05   95.062500"
      ]
     },
     "execution_count": 58,
     "metadata": {},
     "output_type": "execute_result"
    }
   ],
   "source": [
    "# Pandas power - resampling\n",
    "df_stacked.resample('D').head()"
   ]
  },
  {
   "cell_type": "code",
   "execution_count": 59,
   "metadata": {
    "collapsed": false,
    "slideshow": {
     "slide_type": "skip"
    }
   },
   "outputs": [
    {
     "data": {
      "text/plain": [
       "<matplotlib.axes._subplots.AxesSubplot at 0x7f2899d1c710>"
      ]
     },
     "execution_count": 59,
     "metadata": {},
     "output_type": "execute_result"
    },
    {
     "data": {
      "image/png": "[encoded data removed]",
      "text/plain": [
       "<matplotlib.figure.Figure at 0x7f28996400b8>"
      ]
     },
     "metadata": {},
     "output_type": "display_data"
    }
   ],
   "source": [
    "df_stacked.resample('D')['bla']['2005':'2006'].plot.line()"
   ]
  },
  {
   "cell_type": "code",
   "execution_count": 60,
   "metadata": {
    "collapsed": false,
    "slideshow": {
     "slide_type": "skip"
    }
   },
   "outputs": [
    {
     "data": {
      "text/plain": [
       "array([4, 4, 4, ..., 0, 0, 0], dtype=int32)"
      ]
     },
     "execution_count": 60,
     "metadata": {},
     "output_type": "execute_result"
    }
   ],
   "source": [
    "df_stacked.index.weekday"
   ]
  },
  {
   "cell_type": "code",
   "execution_count": 61,
   "metadata": {
    "collapsed": false,
    "slideshow": {
     "slide_type": "skip"
    }
   },
   "outputs": [
    {
     "data": {
      "text/html": [
       "<div>\n",
       "<table border=\"1\" class=\"dataframe\">\n",
       "  <thead>\n",
       "    <tr style=\"text-align: right;\">\n",
       "      <th></th>\n",
       "      <th>bla</th>\n",
       "      <th>weekday</th>\n",
       "      <th>hour</th>\n",
       "    </tr>\n",
       "  </thead>\n",
       "  <tbody>\n",
       "    <tr>\n",
       "      <th>1988-01-01 00:00:00</th>\n",
       "      <td>0.00</td>\n",
       "      <td>4</td>\n",
       "      <td>0</td>\n",
       "    </tr>\n",
       "    <tr>\n",
       "      <th>1988-01-01 01:00:00</th>\n",
       "      <td>48.80</td>\n",
       "      <td>4</td>\n",
       "      <td>1</td>\n",
       "    </tr>\n",
       "    <tr>\n",
       "      <th>1988-01-01 02:00:00</th>\n",
       "      <td>66.00</td>\n",
       "      <td>4</td>\n",
       "      <td>2</td>\n",
       "    </tr>\n",
       "    <tr>\n",
       "      <th>...</th>\n",
       "      <td>...</td>\n",
       "      <td>...</td>\n",
       "      <td>...</td>\n",
       "    </tr>\n",
       "    <tr>\n",
       "      <th>2012-12-31 21:00:00</th>\n",
       "      <td>74.46</td>\n",
       "      <td>0</td>\n",
       "      <td>21</td>\n",
       "    </tr>\n",
       "    <tr>\n",
       "      <th>2012-12-31 22:00:00</th>\n",
       "      <td>66.60</td>\n",
       "      <td>0</td>\n",
       "      <td>22</td>\n",
       "    </tr>\n",
       "    <tr>\n",
       "      <th>2012-12-31 23:00:00</th>\n",
       "      <td>60.85</td>\n",
       "      <td>0</td>\n",
       "      <td>23</td>\n",
       "    </tr>\n",
       "  </tbody>\n",
       "</table>\n",
       "<p>219168 rows × 3 columns</p>\n",
       "</div>"
      ],
      "text/plain": [
       "                       bla  weekday  hour\n",
       "1988-01-01 00:00:00   0.00        4     0\n",
       "1988-01-01 01:00:00  48.80        4     1\n",
       "1988-01-01 02:00:00  66.00        4     2\n",
       "...                    ...      ...   ...\n",
       "2012-12-31 21:00:00  74.46        0    21\n",
       "2012-12-31 22:00:00  66.60        0    22\n",
       "2012-12-31 23:00:00  60.85        0    23\n",
       "\n",
       "[219168 rows x 3 columns]"
      ]
     },
     "execution_count": 61,
     "metadata": {},
     "output_type": "execute_result"
    }
   ],
   "source": [
    "df_stacked['weekday'] = df_stacked.index.weekday\n",
    "df_stacked['hour'] = df_stacked.index.hour\n",
    "df_stacked"
   ]
  },
  {
   "cell_type": "code",
   "execution_count": 62,
   "metadata": {
    "collapsed": false,
    "slideshow": {
     "slide_type": "skip"
    }
   },
   "outputs": [
    {
     "data": {
      "text/html": [
       "<div>\n",
       "<table border=\"1\" class=\"dataframe\">\n",
       "  <thead>\n",
       "    <tr style=\"text-align: right;\">\n",
       "      <th></th>\n",
       "      <th>bla</th>\n",
       "      <th>weekday</th>\n",
       "      <th>hour</th>\n",
       "      <th>is_weekend</th>\n",
       "    </tr>\n",
       "  </thead>\n",
       "  <tbody>\n",
       "    <tr>\n",
       "      <th>1988-01-01 00:00:00</th>\n",
       "      <td>0.00</td>\n",
       "      <td>4</td>\n",
       "      <td>0</td>\n",
       "      <td>False</td>\n",
       "    </tr>\n",
       "    <tr>\n",
       "      <th>1988-01-01 01:00:00</th>\n",
       "      <td>48.80</td>\n",
       "      <td>4</td>\n",
       "      <td>1</td>\n",
       "      <td>False</td>\n",
       "    </tr>\n",
       "    <tr>\n",
       "      <th>1988-01-01 02:00:00</th>\n",
       "      <td>66.00</td>\n",
       "      <td>4</td>\n",
       "      <td>2</td>\n",
       "      <td>False</td>\n",
       "    </tr>\n",
       "    <tr>\n",
       "      <th>...</th>\n",
       "      <td>...</td>\n",
       "      <td>...</td>\n",
       "      <td>...</td>\n",
       "      <td>...</td>\n",
       "    </tr>\n",
       "    <tr>\n",
       "      <th>2012-12-31 21:00:00</th>\n",
       "      <td>74.46</td>\n",
       "      <td>0</td>\n",
       "      <td>21</td>\n",
       "      <td>False</td>\n",
       "    </tr>\n",
       "    <tr>\n",
       "      <th>2012-12-31 22:00:00</th>\n",
       "      <td>66.60</td>\n",
       "      <td>0</td>\n",
       "      <td>22</td>\n",
       "      <td>False</td>\n",
       "    </tr>\n",
       "    <tr>\n",
       "      <th>2012-12-31 23:00:00</th>\n",
       "      <td>60.85</td>\n",
       "      <td>0</td>\n",
       "      <td>23</td>\n",
       "      <td>False</td>\n",
       "    </tr>\n",
       "  </tbody>\n",
       "</table>\n",
       "<p>219168 rows × 4 columns</p>\n",
       "</div>"
      ],
      "text/plain": [
       "                       bla  weekday  hour is_weekend\n",
       "1988-01-01 00:00:00   0.00        4     0      False\n",
       "1988-01-01 01:00:00  48.80        4     1      False\n",
       "1988-01-01 02:00:00  66.00        4     2      False\n",
       "...                    ...      ...   ...        ...\n",
       "2012-12-31 21:00:00  74.46        0    21      False\n",
       "2012-12-31 22:00:00  66.60        0    22      False\n",
       "2012-12-31 23:00:00  60.85        0    23      False\n",
       "\n",
       "[219168 rows x 4 columns]"
      ]
     },
     "execution_count": 62,
     "metadata": {},
     "output_type": "execute_result"
    }
   ],
   "source": [
    "df_stacked['is_weekend'] = df_stacked['weekday'].isin([5, 6])\n",
    "df_stacked"
   ]
  },
  {
   "cell_type": "code",
   "execution_count": 63,
   "metadata": {
    "collapsed": false,
    "slideshow": {
     "slide_type": "skip"
    }
   },
   "outputs": [
    {
     "data": {
      "text/html": [
       "<div>\n",
       "<table border=\"1\" class=\"dataframe\">\n",
       "  <thead>\n",
       "    <tr style=\"text-align: right;\">\n",
       "      <th></th>\n",
       "      <th>is_weekend</th>\n",
       "      <th>hour</th>\n",
       "      <th>bla</th>\n",
       "      <th>weekday</th>\n",
       "    </tr>\n",
       "  </thead>\n",
       "  <tbody>\n",
       "    <tr>\n",
       "      <th>0</th>\n",
       "      <td>False</td>\n",
       "      <td>0</td>\n",
       "      <td>26.43</td>\n",
       "      <td>2.0</td>\n",
       "    </tr>\n",
       "    <tr>\n",
       "      <th>1</th>\n",
       "      <td>False</td>\n",
       "      <td>1</td>\n",
       "      <td>23.00</td>\n",
       "      <td>2.0</td>\n",
       "    </tr>\n",
       "    <tr>\n",
       "      <th>2</th>\n",
       "      <td>False</td>\n",
       "      <td>2</td>\n",
       "      <td>20.00</td>\n",
       "      <td>2.0</td>\n",
       "    </tr>\n",
       "    <tr>\n",
       "      <th>...</th>\n",
       "      <td>...</td>\n",
       "      <td>...</td>\n",
       "      <td>...</td>\n",
       "      <td>...</td>\n",
       "    </tr>\n",
       "    <tr>\n",
       "      <th>45</th>\n",
       "      <td>True</td>\n",
       "      <td>21</td>\n",
       "      <td>32.00</td>\n",
       "      <td>5.5</td>\n",
       "    </tr>\n",
       "    <tr>\n",
       "      <th>46</th>\n",
       "      <td>True</td>\n",
       "      <td>22</td>\n",
       "      <td>31.00</td>\n",
       "      <td>5.5</td>\n",
       "    </tr>\n",
       "    <tr>\n",
       "      <th>47</th>\n",
       "      <td>True</td>\n",
       "      <td>23</td>\n",
       "      <td>29.00</td>\n",
       "      <td>5.5</td>\n",
       "    </tr>\n",
       "  </tbody>\n",
       "</table>\n",
       "<p>48 rows × 4 columns</p>\n",
       "</div>"
      ],
      "text/plain": [
       "   is_weekend  hour    bla  weekday\n",
       "0       False     0  26.43      2.0\n",
       "1       False     1  23.00      2.0\n",
       "2       False     2  20.00      2.0\n",
       "..        ...   ...    ...      ...\n",
       "45       True    21  32.00      5.5\n",
       "46       True    22  31.00      5.5\n",
       "47       True    23  29.00      5.5\n",
       "\n",
       "[48 rows x 4 columns]"
      ]
     },
     "execution_count": 63,
     "metadata": {},
     "output_type": "execute_result"
    }
   ],
   "source": [
    "df_agg = df_stacked.groupby(['is_weekend', 'hour'], as_index=False).agg(np.median)\n",
    "df_agg"
   ]
  },
  {
   "cell_type": "code",
   "execution_count": 65,
   "metadata": {
    "collapsed": false,
    "slideshow": {
     "slide_type": "skip"
    }
   },
   "outputs": [
    {
     "data": {
      "text/plain": [
       "<matplotlib.axes._subplots.AxesSubplot at 0x7f28995aa9e8>"
      ]
     },
     "execution_count": 65,
     "metadata": {},
     "output_type": "execute_result"
    },
    {
     "data": {
      "image/png": "[encoded data removed]",
      "text/plain": [
       "<matplotlib.figure.Figure at 0x7f289953ca58>"
      ]
     },
     "metadata": {},
     "output_type": "display_data"
    }
   ],
   "source": [
    "fig, ax = plt.subplots()\n",
    "df_agg[df_agg['is_weekend'] == True].plot.line(x='hour', y='bla', ax=ax, label='weekend')\n",
    "df_agg[df_agg['is_weekend'] == False].plot.line(x='hour', y='bla', ax=ax, label='not weekend')"
   ]
  },
  {
   "cell_type": "code",
   "execution_count": null,
   "metadata": {
    "collapsed": true
   },
   "outputs": [],
   "source": []
  }
 ],
 "metadata": {
  "celltoolbar": "Slideshow",
  "kernelspec": {
   "display_name": "Python 3",
   "language": "python",
   "name": "python3"
  },
  "language_info": {
   "codemirror_mode": {
    "name": "ipython",
    "version": 3
   },
   "file_extension": ".py",
   "mimetype": "text/x-python",
   "name": "python",
   "nbconvert_exporter": "python",
   "pygments_lexer": "ipython3",
   "version": "3.5.1"
  }
 },
 "nbformat": 4,
 "nbformat_minor": 0
}
