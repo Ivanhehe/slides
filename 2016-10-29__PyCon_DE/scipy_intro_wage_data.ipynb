{
 "cells": [
  {
   "cell_type": "markdown",
   "metadata": {},
   "source": [
    "## Data Exploration and Visualization\n",
    "We explore the data given in `data/wage.csv.gz` using\n",
    "- [pandas](http://pandas.pydata.org/) and\n",
    "- [seaborn](http://stanford.edu/~mwaskom/software/seaborn/) (hence [matplotlib](http://matplotlib.org/)).\n",
    "\n",
    "#### Question(s):\n",
    "- How does wage depend on age?\n",
    "- Does the educational background influence the income?\n",
    "- What about ethnicity?\n",
    "\n",
    "#### Method(s):\n",
    "- Scatter plot for income over age and data aggregation.\n",
    "- Categorical plots splitting data into different subgroups.\n",
    "\n",
    "#### Conclusion(s):\n",
    "- This is your part.\n"
   ]
  },
  {
   "cell_type": "code",
   "execution_count": null,
   "metadata": {
    "collapsed": true
   },
   "outputs": [],
   "source": [
    "# some imports\n",
    "%matplotlib inline\n",
    "import matplotlib.pyplot as plt\n",
    "import numpy as np\n",
    "import pandas as pd\n",
    "import seaborn as sns\n",
    "import warnings\n",
    "sns.set_style('whitegrid')\n",
    "warnings.filterwarnings('ignore')"
   ]
  },
  {
   "cell_type": "code",
   "execution_count": null,
   "metadata": {
    "collapsed": false
   },
   "outputs": [],
   "source": [
    "# read data in (notice that we only supply the path)\n",
    "df = pd.read_csv('data/wage.csv.gz') # data borrowed from https://cran.r-project.org/web/packages/ISLR/index.html"
   ]
  },
  {
   "cell_type": "code",
   "execution_count": null,
   "metadata": {
    "collapsed": false
   },
   "outputs": [],
   "source": [
    "# what does this DataFrame look like?\n",
    "df.head(3)"
   ]
  },
  {
   "cell_type": "code",
   "execution_count": null,
   "metadata": {
    "collapsed": false
   },
   "outputs": [],
   "source": [
    "# for better overview, just the columns\n",
    "df.columns"
   ]
  },
  {
   "cell_type": "code",
   "execution_count": null,
   "metadata": {
    "collapsed": false
   },
   "outputs": [],
   "source": [
    "# regarding age and wage, here are some raw numbers\n",
    "df.describe()[['age', 'wage']]"
   ]
  },
  {
   "cell_type": "code",
   "execution_count": null,
   "metadata": {
    "collapsed": false
   },
   "outputs": [],
   "source": [
    "# let's see how age involves over age\n",
    "fig, ax = plt.subplots(figsize=(8, 4))\n",
    "df.plot.scatter(x='age', y='wage', title='wage ~ age', ax=ax)"
   ]
  },
  {
   "cell_type": "code",
   "execution_count": null,
   "metadata": {
    "collapsed": false
   },
   "outputs": [],
   "source": [
    "# that is interesting but it is a bit hard to see where e.g. the median values lie\n",
    "# we could group by age, compute the median and see how this looks like\n",
    "median_wage = df.groupby('age')[['wage']].agg(np.median)\n",
    "median_wage.head()"
   ]
  },
  {
   "cell_type": "code",
   "execution_count": null,
   "metadata": {
    "collapsed": false
   },
   "outputs": [],
   "source": [
    "# well, a picture is often nicer\n",
    "fig, ax = plt.subplots(figsize=(8, 4))\n",
    "df.plot.scatter(x='age', y='wage', title='wage ~ age', label='data', ax=ax)\n",
    "median_wage.plot.line(label='median', linewidth=4, color='r', ax=ax)\n",
    "ax.legend()"
   ]
  },
  {
   "cell_type": "code",
   "execution_count": null,
   "metadata": {
    "collapsed": false
   },
   "outputs": [],
   "source": [
    "# what about education? let's draw some boxplots\n",
    "fig, ax = plt.subplots(figsize=(8, 4))\n",
    "sns.boxplot(y='wage', x='education', data=df, ax=ax)"
   ]
  },
  {
   "cell_type": "code",
   "execution_count": null,
   "metadata": {
    "collapsed": false
   },
   "outputs": [],
   "source": [
    "# the order does not seem to be correct - let's fix that\n",
    "order = sorted(df['education'].unique(), key=lambda x: int(x[0]))\n",
    "order"
   ]
  },
  {
   "cell_type": "code",
   "execution_count": null,
   "metadata": {
    "collapsed": false
   },
   "outputs": [],
   "source": [
    "# replot the thing\n",
    "fig, ax = plt.subplots(figsize=(8, 4))\n",
    "sns.boxplot(y='wage', x='education', data=df, \n",
    "            order=order, ax=ax)"
   ]
  },
  {
   "cell_type": "code",
   "execution_count": null,
   "metadata": {
    "collapsed": false,
    "scrolled": true
   },
   "outputs": [],
   "source": [
    "# would be nice if we could now split over the race variable\n",
    "# well, let's do that! (and fix the order on the way)\n",
    "hue_order = sorted(df['race'].unique(), key=lambda x: int(x[0]))\n",
    "fig, ax = plt.subplots(figsize=(8, 4))\n",
    "sns.boxplot(y='wage', x='education', hue='race', data=df, \n",
    "            order=order, hue_order=hue_order, ax=ax)"
   ]
  },
  {
   "cell_type": "code",
   "execution_count": null,
   "metadata": {
    "collapsed": false
   },
   "outputs": [],
   "source": [
    "# if you do not like the styling, you can do\n",
    "sns.set(style=\"ticks\")\n",
    "fig, ax = plt.subplots(figsize=(8, 4))\n",
    "sns.boxplot(y='wage', x='education', hue='race', data=df, \n",
    "            order=order, hue_order=hue_order, ax=ax)\n",
    "sns.despine(offset=10, trim=True)"
   ]
  },
  {
   "cell_type": "code",
   "execution_count": null,
   "metadata": {
    "collapsed": false
   },
   "outputs": [],
   "source": [
    "# what you have seen in the plot is of course also possible directly\n",
    "# this is called split-apply-combine\n",
    "# first we split the data via group by\n",
    "# then we apply some aggregation function\n",
    "# and then combine the result to obtain an aggerated data set\n",
    "df.groupby(['education', 'race'])[['wage']].agg(np.median)  # very readable in my opinion"
   ]
  }
 ],
 "metadata": {
  "anaconda-cloud": {},
  "kernelspec": {
   "display_name": "Python [default]",
   "language": "python",
   "name": "python3"
  },
  "language_info": {
   "codemirror_mode": {
    "name": "ipython",
    "version": 3
   },
   "file_extension": ".py",
   "mimetype": "text/x-python",
   "name": "python",
   "nbconvert_exporter": "python",
   "pygments_lexer": "ipython3",
   "version": "3.5.2"
  }
 },
 "nbformat": 4,
 "nbformat_minor": 0
}
