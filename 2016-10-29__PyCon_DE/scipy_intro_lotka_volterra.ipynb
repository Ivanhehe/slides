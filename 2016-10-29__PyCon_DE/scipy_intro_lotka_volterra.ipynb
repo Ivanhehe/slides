{
 "cells": [
  {
   "cell_type": "markdown",
   "metadata": {},
   "source": [
    "## Solve and explore [Lotka-Volterra](https://en.wikipedia.org/wiki/Lotka%E2%80%93Volterra_equation) equations\n",
    "The Lotka-Volterra or predator-prey equations can be used to model the dynamics of a biological system.\n",
    "We solve and explore a simple model using\n",
    "- [NumPy](http://numpy.org/) and \n",
    "- [SciPy](http://scipy.org/scipylib/index.html) and\n",
    "- [ipywidgets](https://github.com/ipython/ipywidgets).\n",
    "\n",
    "#### Question(s):\n",
    "- Lotka-what?\n",
    "- In a world with 1000 foxes and 1 single rabbit - which species dies out first?\n",
    "\n",
    "#### Method(s):\n",
    "- Apply an ODE-solver.\n",
    "- Visualize the obtained solution.\n",
    "- Use widgets for interactivity.\n",
    "\n",
    "#### Conclusion(s):\n",
    "- This is your part.\n"
   ]
  },
  {
   "cell_type": "markdown",
   "metadata": {
    "slideshow": {
     "slide_type": "slide"
    }
   },
   "source": [
    "# [Lotka–Volterra equation](https://en.wikipedia.org/wiki/Lotka%E2%80%93Volterra_equations)\n",
    "\n",
    "$$\\begin{align} \\frac{dx}{dt} = \\alpha x - \\beta x y \\\\ \\frac{dy}{dt} = \\delta x y - \\gamma y \\end{align} $$\n",
    "\n",
    "where\n",
    "\n",
    "- $x$ is the number of prey (for example, rabbits);\n",
    "    \n",
    "- $y$ is the number of some predator (for example, foxes);\n",
    "    \n",
    "- $\\tfrac{dy}{dt}$ and $\\tfrac{dx}{dt}$ represent the growth rates of the two populations over time;\n",
    "    \n",
    "- $t$ represents time; \n",
    "    \n",
    "- and $α$, $β$, $γ$, $δ$ are positive real parameters describing the interaction of the two species."
   ]
  },
  {
   "cell_type": "code",
   "execution_count": null,
   "metadata": {
    "collapsed": true,
    "slideshow": {
     "slide_type": "slide"
    }
   },
   "outputs": [],
   "source": [
    "# some imports\n",
    "%matplotlib inline\n",
    "from collections import namedtuple\n",
    "from ipywidgets import interactive\n",
    "from IPython.display import display\n",
    "\n",
    "import matplotlib.pyplot as plt\n",
    "import numpy as np\n",
    "from scipy.integrate import odeint\n",
    "import seaborn as sns  # just for the styling"
   ]
  },
  {
   "cell_type": "code",
   "execution_count": null,
   "metadata": {
    "collapsed": false
   },
   "outputs": [],
   "source": [
    "# some parameters we will need\n",
    "x0 = 10  # initial number of prey (rabbits)\n",
    "y0 = 10  # initial number of predators (foxes)\n",
    "alpha = 1\n",
    "beta = 0.1\n",
    "delta = 0.075\n",
    "gamma = 1.5\n",
    "Coeffs = namedtuple('coeffs', ['alpha', 'beta', 'delta', 'gamma'])\n",
    "coeffs = Coeffs(alpha=alpha, beta=beta, delta=delta, gamma=gamma)"
   ]
  },
  {
   "cell_type": "code",
   "execution_count": null,
   "metadata": {
    "collapsed": false,
    "slideshow": {
     "slide_type": "slide"
    }
   },
   "outputs": [],
   "source": [
    "# how can we solve this thing?\n",
    "odeint?"
   ]
  },
  {
   "cell_type": "code",
   "execution_count": null,
   "metadata": {
    "collapsed": true,
    "slideshow": {
     "slide_type": "fragment"
    }
   },
   "outputs": [],
   "source": [
    "# it seems that we need a function representing the right hand side of the equation\n",
    "def dX_dt(X, t, coeffs):\n",
    "    \n",
    "    alpha, beta, delta, gamma = coeffs\n",
    "    x, y = X\n",
    "    dx_dt = alpha * x - beta * x * y\n",
    "    dy_dt = delta * x * y - gamma * y\n",
    "    \n",
    "    return np.array([dx_dt, dy_dt])"
   ]
  },
  {
   "cell_type": "code",
   "execution_count": null,
   "metadata": {
    "collapsed": false
   },
   "outputs": [],
   "source": [
    "# then we need initial conditions and time (we always need time ;))\n",
    "X0 = np.array([x0, y0])\n",
    "t = np.linspace(0, 15, 200)"
   ]
  },
  {
   "cell_type": "code",
   "execution_count": null,
   "metadata": {
    "collapsed": false
   },
   "outputs": [],
   "source": [
    "# let's solve it\n",
    "X = odeint(dX_dt, X0, t, args=(coeffs,))"
   ]
  },
  {
   "cell_type": "code",
   "execution_count": null,
   "metadata": {
    "collapsed": false
   },
   "outputs": [],
   "source": [
    "# what does the result look like?\n",
    "X"
   ]
  },
  {
   "cell_type": "code",
   "execution_count": null,
   "metadata": {
    "collapsed": false
   },
   "outputs": [],
   "source": [
    "# mhmm, hard to say...\n",
    "x, y = X.T\n",
    "print(t[:3], x[:3], y[:3])"
   ]
  },
  {
   "cell_type": "code",
   "execution_count": null,
   "metadata": {
    "collapsed": false
   },
   "outputs": [],
   "source": [
    "# often a picture is worth a thousand words\n",
    "fig, ax = plt.subplots(figsize=(8, 4))\n",
    "ax.plot(t, x, color='green', label='x (prey, rabbits)')\n",
    "ax.plot(t, y, color='blue', label='y (predator, foxes)')\n",
    "ax.set_xlabel('t (time)')\n",
    "ax.set_ylabel('X (population)')\n",
    "ax.legend()"
   ]
  },
  {
   "cell_type": "code",
   "execution_count": null,
   "metadata": {
    "collapsed": true,
    "slideshow": {
     "slide_type": "slide"
    }
   },
   "outputs": [],
   "source": [
    "# let's pretend we develop a GUI\n",
    "# put the solve-plot-part in a function...\n",
    "def solve_fox_rabbit(x0=10, y0=1/2, \n",
    "                     alpha=1, beta=0.1, delta=0.075, gamma=1.5):\n",
    "\n",
    "    coeffs = Coeffs(alpha=alpha, beta=beta, delta=delta, gamma=gamma)\n",
    "\n",
    "    X0 = np.array([x0, y0])\n",
    "    t = np.linspace(0, 15, 300)\n",
    "    X = odeint(dX_dt, X0, t, args=(coeffs, ))\n",
    "    x, y = X.T\n",
    "\n",
    "    fig, ax = plt.subplots(figsize=(8, 4))\n",
    "    ax.plot(t, x, color='green', label='x (prey, rabbits)')\n",
    "    ax.plot(t, y, color='blue', label='y (predator, foxes)')\n",
    "    ax.set_ylim([0, 50])\n",
    "    ax.set_xlabel('t (time)')\n",
    "    ax.set_ylabel('X (population)')\n",
    "    ax.legend()\n"
   ]
  },
  {
   "cell_type": "code",
   "execution_count": null,
   "metadata": {
    "collapsed": false
   },
   "outputs": [],
   "source": [
    "# ...to obtain an interactive plot\n",
    "w = interactive(solve_fox_rabbit, \n",
    "                x0=(0.1, 20), y0=(0.1, 3), \n",
    "                alpha=(0., 5), beta=(0.01, 2), \n",
    "                delta=(0.01, 1), gamma=(0.1, 2))\n",
    "display(w)"
   ]
  },
  {
   "cell_type": "markdown",
   "metadata": {},
   "source": [
    "#### Final remarks\n",
    "- See also the [Lotka-Volterra-Tutorial](https://scipy.github.io/old-wiki/pages/Cookbook/LoktaVolterraTutorial)."
   ]
  },
  {
   "cell_type": "code",
   "execution_count": null,
   "metadata": {
    "collapsed": true
   },
   "outputs": [],
   "source": []
  }
 ],
 "metadata": {
  "anaconda-cloud": {},
  "kernelspec": {
   "display_name": "Python [default]",
   "language": "python",
   "name": "python3"
  },
  "language_info": {
   "codemirror_mode": {
    "name": "ipython",
    "version": 3
   },
   "file_extension": ".py",
   "mimetype": "text/x-python",
   "name": "python",
   "nbconvert_exporter": "python",
   "pygments_lexer": "ipython3",
   "version": "3.5.2"
  },
  "widgets": {
   "state": {
    "7c01e53e45cc4e36a87819633cf10af9": {
     "views": [
      {
       "cell_index": 12
      }
     ]
    }
   },
   "version": "1.2.0"
  }
 },
 "nbformat": 4,
 "nbformat_minor": 0
}
