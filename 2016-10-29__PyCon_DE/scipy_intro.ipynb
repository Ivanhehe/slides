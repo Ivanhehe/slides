{
 "cells": [
  {
   "cell_type": "markdown",
   "metadata": {
    "slideshow": {
     "slide_type": "skip"
    }
   },
   "source": [
    "`jupyter nbconvert scipy_intro.ipynb --to slides --post serve`"
   ]
  },
  {
   "cell_type": "markdown",
   "metadata": {
    "slideshow": {
     "slide_type": "slide"
    }
   },
   "source": [
    "<center>\n",
    "  <header>\n",
    "    <h1>Python for Mathematics, Science and Engineering</h1>\n",
    "    <h3>An Introduction to Python's Scientific Stack</h3>\n",
    "  </header>\n",
    "<br>\n",
    "<br>\n",
    "PyCon DE, 2016.10.29\n",
    "<br>\n",
    "claus.aichinger@gmail.com\n",
    "<br>\n",
    "</center>\n",
    "\n",
    "#### Setup:\n",
    "- https://github.com/caichinger/slides (<-- please clone/download)\n",
    "    - go to `2016-10-29__PyCon_DE` and follow instructions in `README.md`\n",
    "    \n",
    "- https://www.continuum.io/downloads download latest Python 3 version\n",
    "    - then:\n",
    "\n",
    "```\n",
    "conda create --name scipy_workshop python=3.5 numpy scipy matplotlib pandas seaborn scikit-learn spyder jupyter ipywidgets\n",
    "source activate scipy_workshop  # (Linux, Mac)\n",
    "activate scipy_workshop  # (Windows)\n",
    "# that's it; to deactivate this environment, use:\n",
    "source deactivate scipy_workshop  # (Linux, Mac)\n",
    "deactivate scipy_workshop  # (Windows)\n",
    "```"
   ]
  },
  {
   "cell_type": "markdown",
   "metadata": {
    "slideshow": {
     "slide_type": "slide"
    }
   },
   "source": [
    "#### Claus Aichinger\n",
    "- Research Engineer / Data Scientist @ [Austrian Institute of Technology](http://www.ait.ac.at/)\n",
    "    - Side Projects / Freelancing\n",
    "- Scientific Computing with Python\n",
    "    - (Statistical) Modeling\n",
    "    - Numerical Algorithms\n",
    "    - Data Analysis &  Visualization"
   ]
  },
  {
   "cell_type": "markdown",
   "metadata": {
    "slideshow": {
     "slide_type": "fragment"
    }
   },
   "source": [
    "#### This workshop...\n",
    "- is for beginners and newcomers \n",
    "- gives an introduction to Python's Scientific Stack\n",
    "- tries to bring *Web Dev, System Admin* and *Science, Data* together"
   ]
  },
  {
   "cell_type": "markdown",
   "metadata": {
    "slideshow": {
     "slide_type": "slide"
    }
   },
   "source": [
    "#### Outline\n",
    "- Set up Scientific Python on your systems\n",
    "- General introduction to Scientific Python\n",
    "- Example 1: Explore and visualize data using [pandas](http://pandas.pydata.org/), \n",
    "[matplotlib](http://matplotlib.org/) and [seaborn](https://seaborn.github.io/)\n",
    "- Example 2: Solve and interpret an [ODE](https://en.wikipedia.org/wiki/Lotka%E2%80%93Volterra_equations) using  [SciPy](http://scipy.org/scipylib/index.html) and [ipywidgets](https://github.com/ipython/ipywidgets)\n",
    "- Example 3: Grow a decision tree using [scikit-learn](http://scikit-learn.org/) to assess feature importance\n",
    "- Q&A"
   ]
  },
  {
   "cell_type": "markdown",
   "metadata": {
    "slideshow": {
     "slide_type": "fragment"
    }
   },
   "source": [
    "#### Notes\n",
    "- *For ease of explanation things are presented in a\n",
    "simplified manner.*\n",
    "- *This is an introductory workshop and not a in depth introduction to any of these topics.*"
   ]
  },
  {
   "cell_type": "markdown",
   "metadata": {
    "slideshow": {
     "slide_type": "slide"
    }
   },
   "source": [
    "#### Setup:\n",
    "- https://github.com/caichinger/slides (<-- please clone/download)\n",
    "    - go to `2016-10-29__PyCon_DE` and follow instructions in `README.md`\n",
    "    \n",
    "- https://www.continuum.io/downloads download latest Python 3 version\n",
    "    - then:\n",
    "\n",
    "```\n",
    "conda create --name scipy_workshop python=3.5 numpy scipy matplotlib pandas seaborn scikit-learn spyder jupyter ipywidgets\n",
    "source activate scipy_workshop  # (Linux, Mac)\n",
    "activate scipy_workshop  # (Windows)\n",
    "# that's it; to deactivate this environment, use:\n",
    "source deactivate scipy_workshop  # (Linux, Mac)\n",
    "deactivate scipy_workshop  # (Windows)\n",
    "```\n",
    "\n",
    "*If something does not work, do not worry, all notebooks are on github!*"
   ]
  },
  {
   "cell_type": "markdown",
   "metadata": {
    "slideshow": {
     "slide_type": "slide"
    }
   },
   "source": [
    "#### SciPy - Scientific Python - Python's Scientific Stack...\n",
    "\n",
    "\n",
    "- Why use it?\n",
    "\n",
    "- What is it?\n",
    "\n",
    "- How can I use it?\n",
    "\n",
    "- Who else is using it?"
   ]
  },
  {
   "cell_type": "markdown",
   "metadata": {
    "slideshow": {
     "slide_type": "slide"
    }
   },
   "source": [
    "#### Why use SciPy?\n",
    "\n",
    "- open source, cross-platform\n",
    "\n",
    "- mature and extensive libraries for a lot of applications\n",
    "\n",
    "- rapid prototyping and scripting\n",
    "\n",
    "- tools/conventions aiding software development (pep8, pylint, pytest, tox, sphinx, ...)\n",
    "\n",
    "- Possible alternative to [MATLAB](https://de.mathworks.com/products/matlab/) or [R](http://www.r-project.org/)\n",
    "\n",
    "- Python **is** a general-purpose programming language\n",
    "\n",
    "> (Matlab) is a wonderful language for a wide range numerical analyses; however, it is a terrible language in which to do anything else. [Jim Hugunin, creater of Numeric (NumPy ancestor) and Jython]\n",
    "\n",
    "> ***\"the right tool for the job\"***"
   ]
  },
  {
   "cell_type": "markdown",
   "metadata": {
    "slideshow": {
     "slide_type": "slide"
    }
   },
   "source": [
    "#### What is SciPy?\n",
    "\n",
    "> *SciPy (pronounced “Sigh Pie”) is a Python-based ecosystem of open-source software for mathematics, science, and engineering.*"
   ]
  },
  {
   "cell_type": "markdown",
   "metadata": {
    "slideshow": {
     "slide_type": "fragment"
    }
   },
   "source": [
    "<img src=\"images/0_NumPy.png\" alt=\"0_NumPy\" align=\"middle\" width=\"700\">"
   ]
  },
  {
   "cell_type": "markdown",
   "metadata": {
    "slideshow": {
     "slide_type": "fragment"
    }
   },
   "source": [
    "<img src=\"images/1_SciPy_matplotlib.png\" alt=\"2_SciPy_matplotlib\" align=\"middle\" width=\"700\">"
   ]
  },
  {
   "cell_type": "markdown",
   "metadata": {
    "slideshow": {
     "slide_type": "fragment"
    }
   },
   "source": [
    "<img src=\"images/2_pandas_SymPy_IPython.png\" alt=\"2_pandas_SymPy_IPython\" align=\"middle\" width=\"700\">"
   ]
  },
  {
   "cell_type": "markdown",
   "metadata": {
    "slideshow": {
     "slide_type": "slide"
    }
   },
   "source": [
    "#### And then there are scikits and other packages..."
   ]
  },
  {
   "cell_type": "markdown",
   "metadata": {
    "slideshow": {
     "slide_type": "fragment"
    }
   },
   "source": [
    "<img src=\"images/statsmodels_hybi_banner.png\" alt=\"StatsModels-logo\" align=\"right\" width=\"280\">"
   ]
  },
  {
   "cell_type": "markdown",
   "metadata": {
    "slideshow": {
     "slide_type": "fragment"
    }
   },
   "source": [
    "<img src=\"images/scikit-learn-logo-small.png\" alt=\"scikit-learn-logo\" align=\"left\" width=\"230\">"
   ]
  },
  {
   "cell_type": "markdown",
   "metadata": {
    "slideshow": {
     "slide_type": "fragment"
    }
   },
   "source": [
    "<img src=\"images/scikit_image.png\" alt=\"scikit-image-logo\" align=\"right\" width=\"280\">"
   ]
  },
  {
   "cell_type": "markdown",
   "metadata": {
    "slideshow": {
     "slide_type": "fragment"
    }
   },
   "source": [
    "<h2>Natural Language Toolkit</h2>"
   ]
  },
  {
   "cell_type": "markdown",
   "metadata": {
    "slideshow": {
     "slide_type": "fragment"
    }
   },
   "source": [
    "<div align=\"right\">\n",
    "  <h4>... and many more!</h4>\n",
    "</div>"
   ]
  },
  {
   "cell_type": "markdown",
   "metadata": {
    "slideshow": {
     "slide_type": "slide"
    }
   },
   "source": [
    "#### How to get started with SciPy?\n",
    "\n",
    "The easy way - use a scientific distribution, e.g.\n",
    "\n",
    "<div>\n",
    "  <img src=\"images/logo-anaconda.svg\" alt=\"anaconda-logo\" style=\"float:left;\" width=\"150\">\n",
    "  <img src=\"images/winpython_title.png\" alt=\"winpython-logo\" style=\"float:left;\" width=\"150\">\n",
    "</div>\n"
   ]
  },
  {
   "cell_type": "markdown",
   "metadata": {
    "slideshow": {
     "slide_type": "fragment"
    }
   },
   "source": [
    "They offer:\n",
    "- extensive packages (sane default)\n",
    "- package (and environment) management\n",
    "- [IPython](http://ipython.org/) (Interactive Python)\n",
    "- [Spyder](http://pythonhosted.org/spyder/) (IDE similar to Matlab or RStudio)\n",
    "- [Jupyter Notebook](http://jupyter.org/) (browser-based interactive development)\n",
    "\n",
    "> run Python, Spyder with SciPy and friends out of the box "
   ]
  },
  {
   "cell_type": "markdown",
   "metadata": {
    "slideshow": {
     "slide_type": "slide"
    }
   },
   "source": [
    "#### Who uses SciPy?\n",
    "\n",
    "<img src=\"images/who.png\" alt=\"who\" align=\"middle\" width=\"700\">"
   ]
  },
  {
   "cell_type": "markdown",
   "metadata": {
    "collapsed": true,
    "slideshow": {
     "slide_type": "slide"
    }
   },
   "source": [
    "#### Let's try SciPy!\n",
    "Demo time... \n",
    "\n",
    "*If - in the end - you liked the workshop, please consider 'liking' it in the app as well. Thank you!*"
   ]
  }
 ],
 "metadata": {
  "anaconda-cloud": {},
  "celltoolbar": "Slideshow",
  "kernelspec": {
   "display_name": "Python [default]",
   "language": "python",
   "name": "python3"
  },
  "language_info": {
   "codemirror_mode": {
    "name": "ipython",
    "version": 3
   },
   "file_extension": ".py",
   "mimetype": "text/x-python",
   "name": "python",
   "nbconvert_exporter": "python",
   "pygments_lexer": "ipython3",
   "version": "3.5.2"
  }
 },
 "nbformat": 4,
 "nbformat_minor": 0
}
