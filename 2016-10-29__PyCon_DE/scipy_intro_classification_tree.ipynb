{
 "cells": [
  {
   "cell_type": "markdown",
   "metadata": {
    "hide_input": false,
    "nbpresent": {
     "id": "a61db521-0796-4086-b39b-e524fdcfc0bf"
    },
    "slideshow": {
     "slide_type": "slide"
    }
   },
   "source": [
    "\n",
    "##     Classification\n",
    "Build a classification tree based on the data given in `data/heart.csv.gz` using\n",
    "- [scikit-learn](http://scikit-learn.org/).\n",
    "\n",
    "#### Question(s):\n",
    "- What are the most important indicators for a heart disease?\n",
    "\n",
    "#### Method(s):\n",
    "- Train and visualize a classification tree to find the variables on which the first splits are performed.\n",
    "\n",
    "#### Conclusion(s):\n",
    "- This is your part.\n"
   ]
  },
  {
   "cell_type": "code",
   "execution_count": null,
   "metadata": {
    "collapsed": true,
    "hide_input": false,
    "nbpresent": {
     "id": "479ff982-c3d2-4839-9031-cde149f93fb1"
    },
    "slideshow": {
     "slide_type": "slide"
    }
   },
   "outputs": [],
   "source": [
    "# some imports\n",
    "from IPython.display import Image\n",
    "from pprint import pprint\n",
    "import subprocess\n",
    "\n",
    "import matplotlib.pyplot as plt\n",
    "import numpy as np\n",
    "import pandas as pd\n",
    "import seaborn as sns  # just for the styling\n",
    "from sklearn.tree import DecisionTreeClassifier, export_graphviz\n",
    "from sklearn.ensemble import RandomForestClassifier\n",
    "%matplotlib inline"
   ]
  },
  {
   "cell_type": "code",
   "execution_count": null,
   "metadata": {
    "collapsed": true,
    "hide_input": false,
    "nbpresent": {
     "id": "c8218dee-fbc5-4735-83aa-cc041e7c01fe"
    },
    "slideshow": {
     "slide_type": "slide"
    }
   },
   "outputs": [],
   "source": [
    "# we have a few categorical variables, so we specify the dtype\n",
    "categoricals = ['ChestPain', 'Thal', 'AHD']\n",
    "df = pd.read_csv('data/heart.csv.gz', index_col=0,\n",
    "                 dtype={name: 'category' for name in categoricals})\n",
    "\n",
    "target_name = 'AHD'  # this is our target variable\n",
    "feature_names = [name for name in df if name != target_name]"
   ]
  },
  {
   "cell_type": "code",
   "execution_count": null,
   "metadata": {
    "collapsed": false,
    "hide_input": true,
    "nbpresent": {
     "id": "fd45e529-f564-469c-b1e5-486cc9569412"
    },
    "scrolled": false,
    "slideshow": {
     "slide_type": "subslide"
    }
   },
   "outputs": [],
   "source": [
    "# let's see what we have\n",
    "df.head(3)"
   ]
  },
  {
   "cell_type": "code",
   "execution_count": null,
   "metadata": {
    "collapsed": false,
    "hide_input": false,
    "nbpresent": {
     "id": "5514e86f-1892-467e-a398-4f2e87e060c7"
    },
    "slideshow": {
     "slide_type": "fragment"
    }
   },
   "outputs": [],
   "source": [
    "# and the dtypes\n",
    "df.dtypes"
   ]
  },
  {
   "cell_type": "code",
   "execution_count": null,
   "metadata": {
    "collapsed": false,
    "hide_input": false,
    "nbpresent": {
     "id": "7a6eeb36-2e0d-4b55-a40a-39d44555cd8a"
    },
    "slideshow": {
     "slide_type": "subslide"
    }
   },
   "outputs": [],
   "source": [
    "# do we have missing values?\n",
    "df.isnull().head() # .sum(0)"
   ]
  },
  {
   "cell_type": "code",
   "execution_count": null,
   "metadata": {
    "collapsed": true,
    "hide_input": false,
    "nbpresent": {
     "id": "51c1dc6c-c048-4c53-a183-c4ac37a45170"
    },
    "slideshow": {
     "slide_type": "fragment"
    }
   },
   "outputs": [],
   "source": [
    "# let's get rid off them\n",
    "df = df.dropna()"
   ]
  },
  {
   "cell_type": "code",
   "execution_count": null,
   "metadata": {
    "collapsed": true,
    "hide_input": false,
    "nbpresent": {
     "id": "6f2d5672-e0f2-4c77-97e7-9059f0ac3ef5"
    },
    "slideshow": {
     "slide_type": "subslide"
    }
   },
   "outputs": [],
   "source": [
    "# construct a mapping that assign each categorical value it's code\n",
    "categorical_codes = {}\n",
    "for categorical in categoricals:\n",
    "    categories = df[categorical].cat.categories\n",
    "    categorical_codes[categorical] = {'names': categories, 'codes': list(range(len(categories)))}"
   ]
  },
  {
   "cell_type": "code",
   "execution_count": null,
   "metadata": {
    "collapsed": false,
    "hide_input": false,
    "nbpresent": {
     "id": "685a0ab5-083c-4d6d-b45c-12ed57382bfe"
    },
    "slideshow": {
     "slide_type": "fragment"
    }
   },
   "outputs": [],
   "source": [
    "pprint(categorical_codes)"
   ]
  },
  {
   "cell_type": "code",
   "execution_count": null,
   "metadata": {
    "collapsed": false,
    "hide_input": false,
    "nbpresent": {
     "id": "48e11569-d530-43f2-b4f5-21d6a09f928d"
    },
    "slideshow": {
     "slide_type": "fragment"
    }
   },
   "outputs": [],
   "source": [
    "# for later use we save the class names\n",
    "class_names = categorical_codes[target_name]['names']\n",
    "class_names"
   ]
  },
  {
   "cell_type": "code",
   "execution_count": null,
   "metadata": {
    "collapsed": false,
    "hide_input": false,
    "nbpresent": {
     "id": "f29ec22a-41cb-44ff-9033-3817278e27b4"
    },
    "slideshow": {
     "slide_type": "slide"
    }
   },
   "outputs": [],
   "source": [
    "# the classifier needs numbers, so we replace the categorical values by their code\n",
    "# copy all non-categorical columns\n",
    "df_new = df[[name for name in df if name not in categoricals]]\n",
    "# from the categorical ones we keep the code-representation\n",
    "for categorical in categoricals:\n",
    "    df_new[categorical] = df[categorical].cat.codes"
   ]
  },
  {
   "cell_type": "code",
   "execution_count": null,
   "metadata": {
    "collapsed": false,
    "hide_input": false,
    "nbpresent": {
     "id": "666c7a10-d313-4cb2-822c-4fbd09452a59"
    },
    "slideshow": {
     "slide_type": "fragment"
    }
   },
   "outputs": [],
   "source": [
    "# now it looks like this\n",
    "df_new.head(3)"
   ]
  },
  {
   "cell_type": "code",
   "execution_count": null,
   "metadata": {
    "collapsed": false,
    "hide_input": false,
    "nbpresent": {
     "id": "59a12165-4b55-48f9-903b-b4014302c47d"
    },
    "slideshow": {
     "slide_type": "fragment"
    }
   },
   "outputs": [],
   "source": [
    "df_new.dtypes\n"
   ]
  },
  {
   "cell_type": "code",
   "execution_count": null,
   "metadata": {
    "collapsed": true,
    "hide_input": false,
    "nbpresent": {
     "id": "d52a517c-fb57-438c-b007-870e6f405cdd"
    },
    "slideshow": {
     "slide_type": "slide"
    }
   },
   "outputs": [],
   "source": [
    "# our predictor variables / feature matrix / ...\n",
    "X = df_new[feature_names].values\n",
    "# our target variable\n",
    "y = df_new[target_name].values"
   ]
  },
  {
   "cell_type": "code",
   "execution_count": null,
   "metadata": {
    "collapsed": false,
    "hide_input": false,
    "nbpresent": {
     "id": "ec05bc97-1ae7-449c-96d2-313bbf1331c1"
    },
    "slideshow": {
     "slide_type": "fragment"
    }
   },
   "outputs": [],
   "source": [
    "# our classifier - that's it! ;)\n",
    "clf = DecisionTreeClassifier()  # max_depth=2\n",
    "clf = clf.fit(X, y)"
   ]
  },
  {
   "cell_type": "code",
   "execution_count": null,
   "metadata": {
    "collapsed": false,
    "hide_input": false,
    "nbpresent": {
     "id": "e0c872df-881c-42fd-8c96-7e2b9a8062e4"
    },
    "slideshow": {
     "slide_type": "fragment"
    }
   },
   "outputs": [],
   "source": [
    "clf"
   ]
  },
  {
   "cell_type": "code",
   "execution_count": null,
   "metadata": {
    "collapsed": true,
    "hide_input": false,
    "nbpresent": {
     "id": "aff9cfd9-38b0-4ef3-bfa0-a0925523de25"
    },
    "slideshow": {
     "slide_type": "slide"
    }
   },
   "outputs": [],
   "source": [
    "# since it is a tree, it would be nice to plot it\n",
    "# forturnately, we can export a dot file which we can then render as png using graphviz like so"
   ]
  },
  {
   "cell_type": "code",
   "execution_count": null,
   "metadata": {
    "collapsed": false,
    "hide_input": false,
    "nbpresent": {
     "id": "6bee47da-8544-43a1-a8c9-8b20a5ff209c"
    },
    "slideshow": {
     "slide_type": "fragment"
    }
   },
   "outputs": [],
   "source": [
    "dot_file_name = 'heart.dot'\n",
    "png_file_name = 'heart.png'\n",
    "\n",
    "with open(dot_file_name, 'w') as dot_data_file:\n",
    "    dot_data_file = export_graphviz(clf,\n",
    "                                    out_file=dot_data_file,\n",
    "                                    feature_names=feature_names,\n",
    "                                    class_names=class_names,\n",
    "                                    filled=True)   \n",
    "subprocess.check_call(['dot', '-Tpng', dot_file_name, '-o', png_file_name])"
   ]
  },
  {
   "cell_type": "code",
   "execution_count": null,
   "metadata": {
    "collapsed": false,
    "hide_input": false,
    "nbpresent": {
     "id": "b382bc74-1044-4aca-a56c-78e4d1415cfa"
    },
    "slideshow": {
     "slide_type": "subslide"
    }
   },
   "outputs": [],
   "source": [
    "# let's see...\n",
    "Image(filename=png_file_name)"
   ]
  },
  {
   "cell_type": "code",
   "execution_count": null,
   "metadata": {
    "collapsed": true,
    "hide_input": false,
    "nbpresent": {
     "id": "60f1802b-bb5b-493d-90cf-c13ce2fabec3"
    }
   },
   "outputs": [],
   "source": [
    "# do not trust all these splits! we are overfitting..."
   ]
  },
  {
   "cell_type": "markdown",
   "metadata": {
    "nbpresent": {
     "id": "2b0fb539-2a7b-4ae8-ac21-2d3b0ef5b2fe"
    }
   },
   "source": [
    "#### Final remarks\n",
    "- See e.g. http://scikit-learn.org/stable/modules/tree.html#tree and vary tree size to understand the problem of overfitting.\n",
    "- Try http://scikit-learn.org/stable/modules/generated/sklearn.ensemble.RandomForestClassifier.html on the data and take a look at the field `variable_importance_`.\n",
    "- Results differ from the ones discussed [here](http://www-bcf.usc.edu/~gareth/ISL/) - details matter!"
   ]
  },
  {
   "cell_type": "code",
   "execution_count": null,
   "metadata": {
    "collapsed": true,
    "hide_input": true,
    "nbpresent": {
     "id": "30b24b52-1b32-40d0-8827-34024cf0716a"
    }
   },
   "outputs": [],
   "source": []
  }
 ],
 "metadata": {
  "anaconda-cloud": {},
  "hide_input": false,
  "kernelspec": {
   "display_name": "Python [default]",
   "language": "python",
   "name": "python3"
  },
  "language_info": {
   "codemirror_mode": {
    "name": "ipython",
    "version": 3
   },
   "file_extension": ".py",
   "mimetype": "text/x-python",
   "name": "python",
   "nbconvert_exporter": "python",
   "pygments_lexer": "ipython3",
   "version": "3.5.2"
  }
 },
 "nbformat": 4,
 "nbformat_minor": 0
}
