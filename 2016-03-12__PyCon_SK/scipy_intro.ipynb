{
 "cells": [
  {
   "cell_type": "markdown",
   "metadata": {
    "slideshow": {
     "slide_type": "skip"
    }
   },
   "source": [
    "`jupyter nbconvert scipy_intro.ipynb --to slides --post serve`"
   ]
  },
  {
   "cell_type": "markdown",
   "metadata": {
    "slideshow": {
     "slide_type": "slide"
    }
   },
   "source": [
    "<center>\n",
    "  <header>\n",
    "    <h1>Scientific Computing with Python</h1>\n",
    "    <h3>An Introduction to Python's Scientific Stack</h3>\n",
    "  </header>\n",
    "\n",
    "<br>\n",
    "<br>\n",
    "claus.aichinger@gmail.com\n",
    "<br>\n",
    "PyCon SK, 2016.03.12\n",
    "</center>"
   ]
  },
  {
   "cell_type": "markdown",
   "metadata": {
    "slideshow": {
     "slide_type": "slide"
    }
   },
   "source": [
    "#### Claus Aichinger\n",
    "- Scientific Computing with Python\n",
    "    - (Statistical) Modeling\n",
    "    - Numerical Algorithms\n",
    "    - Data Analysis &  Visualization\n",
    "- [Austrian Institute of Technology](http://www.ait.ac.at/)"
   ]
  },
  {
   "cell_type": "markdown",
   "metadata": {
    "slideshow": {
     "slide_type": "fragment"
    }
   },
   "source": [
    "#### This talk is\n",
    "- aimed at newcomers\n",
    "- gives an introduction to Python's Scientific Stack"
   ]
  },
  {
   "cell_type": "markdown",
   "metadata": {
    "slideshow": {
     "slide_type": "slide"
    }
   },
   "source": [
    "#### SciPy - Scientific Python - Python's Scientific Stack...\n"
   ]
  },
  {
   "cell_type": "markdown",
   "metadata": {
    "slideshow": {
     "slide_type": "fragment"
    }
   },
   "source": [
    "- Why use it?"
   ]
  },
  {
   "cell_type": "markdown",
   "metadata": {
    "slideshow": {
     "slide_type": "fragment"
    }
   },
   "source": [
    "- What is it?"
   ]
  },
  {
   "cell_type": "markdown",
   "metadata": {
    "slideshow": {
     "slide_type": "fragment"
    }
   },
   "source": [
    "- How can I use it?"
   ]
  },
  {
   "cell_type": "markdown",
   "metadata": {
    "slideshow": {
     "slide_type": "fragment"
    }
   },
   "source": [
    "- Who else is using it?"
   ]
  },
  {
   "cell_type": "markdown",
   "metadata": {
    "slideshow": {
     "slide_type": "fragment"
    }
   },
   "source": [
    "- Some examples please!"
   ]
  },
  {
   "cell_type": "markdown",
   "metadata": {
    "slideshow": {
     "slide_type": "slide"
    }
   },
   "source": [
    "#### Why use SciPy?"
   ]
  },
  {
   "cell_type": "markdown",
   "metadata": {
    "slideshow": {
     "slide_type": "fragment"
    }
   },
   "source": [
    "- open source, cross-platform"
   ]
  },
  {
   "cell_type": "markdown",
   "metadata": {
    "slideshow": {
     "slide_type": "fragment"
    }
   },
   "source": [
    "- mature and extensive libraries for a lot of applications"
   ]
  },
  {
   "cell_type": "markdown",
   "metadata": {
    "slideshow": {
     "slide_type": "fragment"
    }
   },
   "source": [
    "- rapid prototyping and scripting"
   ]
  },
  {
   "cell_type": "markdown",
   "metadata": {
    "slideshow": {
     "slide_type": "fragment"
    }
   },
   "source": [
    "- tools/conventions aiding software development (pep8, pylint, pytest, tox, sphinx, ...)"
   ]
  },
  {
   "cell_type": "markdown",
   "metadata": {
    "slideshow": {
     "slide_type": "fragment"
    }
   },
   "source": [
    "---\n",
    "\n",
    "> ***\"the right tool for the job\"***"
   ]
  },
  {
   "cell_type": "markdown",
   "metadata": {
    "slideshow": {
     "slide_type": "fragment"
    }
   },
   "source": [
    "- Possible alternative to [MATLAB](https://de.mathworks.com/products/matlab/) or [R](http://www.r-project.org/)"
   ]
  },
  {
   "cell_type": "markdown",
   "metadata": {
    "slideshow": {
     "slide_type": "slide"
    }
   },
   "source": [
    "#### What is SciPy?\n",
    "\n",
    "> *SciPy (pronounced “Sigh Pie”) is a Python-based ecosystem of open-source software for mathematics, science, and engineering.*"
   ]
  },
  {
   "cell_type": "markdown",
   "metadata": {
    "slideshow": {
     "slide_type": "fragment"
    }
   },
   "source": [
    "<img src=\"images/0_NumPy.png\" alt=\"0_NumPy\" align=\"middle\" width=\"700\">"
   ]
  },
  {
   "cell_type": "markdown",
   "metadata": {
    "slideshow": {
     "slide_type": "fragment"
    }
   },
   "source": [
    "<img src=\"images/1_SciPy_matplotlib.png\" alt=\"2_SciPy_matplotlib\" align=\"middle\" width=\"700\">"
   ]
  },
  {
   "cell_type": "markdown",
   "metadata": {
    "slideshow": {
     "slide_type": "fragment"
    }
   },
   "source": [
    "<img src=\"images/2_pandas_SymPy_IPython.png\" alt=\"2_pandas_SymPy_IPython\" align=\"middle\" width=\"700\">"
   ]
  },
  {
   "cell_type": "markdown",
   "metadata": {
    "slideshow": {
     "slide_type": "slide"
    }
   },
   "source": [
    "#### And then there are scikits and other packages..."
   ]
  },
  {
   "cell_type": "markdown",
   "metadata": {
    "slideshow": {
     "slide_type": "fragment"
    }
   },
   "source": [
    "<img src=\"images/statsmodels_hybi_banner.png\" alt=\"StatsModels-logo\" align=\"right\" width=\"280\">"
   ]
  },
  {
   "cell_type": "markdown",
   "metadata": {
    "slideshow": {
     "slide_type": "fragment"
    }
   },
   "source": [
    "<img src=\"images/scikit-learn-logo-small.png\" alt=\"scikit-learn-logo\" align=\"left\" width=\"230\">"
   ]
  },
  {
   "cell_type": "markdown",
   "metadata": {
    "slideshow": {
     "slide_type": "fragment"
    }
   },
   "source": [
    "<img src=\"images/scikit_image.png\" alt=\"scikit-image-logo\" align=\"right\" width=\"280\">"
   ]
  },
  {
   "cell_type": "markdown",
   "metadata": {
    "slideshow": {
     "slide_type": "fragment"
    }
   },
   "source": [
    "<h2>Natural Language Toolkit</h2>"
   ]
  },
  {
   "cell_type": "markdown",
   "metadata": {
    "slideshow": {
     "slide_type": "fragment"
    }
   },
   "source": [
    "<div align=\"right\">\n",
    "  <h4>... and many more!</h4>\n",
    "</div>"
   ]
  },
  {
   "cell_type": "markdown",
   "metadata": {
    "slideshow": {
     "slide_type": "slide"
    }
   },
   "source": [
    "#### How can I get started with SciPy?"
   ]
  },
  {
   "cell_type": "markdown",
   "metadata": {
    "slideshow": {
     "slide_type": "fragment"
    }
   },
   "source": [
    "The easy way - use a scientific distribution, e.g.\n",
    "<div>\n",
    "  <img src=\"images/logo-anaconda.svg\" alt=\"anaconda-logo\" style=\"float:left;\" width=\"150\">\n",
    "  <img src=\"images/winpython_title.png\" alt=\"winpython-logo\" style=\"float:left;\" width=\"150\">\n",
    "</div>"
   ]
  },
  {
   "cell_type": "markdown",
   "metadata": {
    "slideshow": {
     "slide_type": "fragment"
    }
   },
   "source": [
    "They offer:\n",
    "- extensive packages (sane default)\n",
    "- package (and environment) management\n",
    "- [IPython](http://ipython.org/), [Spyder](http://pythonhosted.org/spyder/)\n",
    "\n",
    "> run Python, Spyder with SciPy and friends out of the box "
   ]
  },
  {
   "cell_type": "markdown",
   "metadata": {
    "slideshow": {
     "slide_type": "slide"
    }
   },
   "source": [
    "#### Who uses SciPy?"
   ]
  },
  {
   "cell_type": "markdown",
   "metadata": {
    "slideshow": {
     "slide_type": "fragment"
    }
   },
   "source": [
    "<img src=\"images/who.png\" alt=\"who\" align=\"middle\" width=\"700\">"
   ]
  },
  {
   "cell_type": "markdown",
   "metadata": {
    "collapsed": true,
    "slideshow": {
     "slide_type": "slide"
    }
   },
   "source": [
    "#### Let's try SciPy!\n",
    "\n",
    "- Solve [Lotka-Volterra](https://en.wikipedia.org/wiki/Lotka%E2%80%93Volterra_equation) equation using\n",
    "    - [NumPy](http://numpy.org/)\n",
    "    - [SciPy](http://scipy.org/scipylib/index.html)\n",
    "    - [matplotlib](http://matplotlib.org/)"
   ]
  },
  {
   "cell_type": "markdown",
   "metadata": {
    "collapsed": true,
    "slideshow": {
     "slide_type": "fragment"
    }
   },
   "source": [
    "- Explore a data set using\n",
    "    - [pandas](http://pandas.pydata.org/)\n",
    "    - [seaborn](http://stanford.edu/~mwaskom/software/seaborn/)\n",
    "    \n",
    "In both cases we use an [IPython](http://ipython.org/)/[Jupyter](http://jupyter.org/) notebook."
   ]
  },
  {
   "cell_type": "markdown",
   "metadata": {
    "slideshow": {
     "slide_type": "slide"
    }
   },
   "source": [
    "Some of the questions that were asked via [slido](https://www.sli.do/home):\n",
    "\n",
    "> 3/12/16 10:40 AM | anonymous | score: 10   Archived\n",
    "Is there some good 3D interactive visualization tool?\n",
    "\n",
    "As one person from the audience pointed out, there is [Mayavi](http://docs.enthought.com/mayavi/mayavi/). [VisPy](http://vispy.org/) could also be of interest.\n",
    "\n",
    "> 3/12/16 10:40 AM | anonymous | score: 8   Archived\n",
    "Many thanks for excellent presentation!\n",
    "\n",
    "Thank you very much! I am happy to hear you liked it! :)\n",
    "\n",
    "> 3/12/16 10:16 AM | anonymous | score: 7   Archived\n",
    "can you show us an example of a problem you solved using python?\n",
    "\n",
    "At work, we have used Python for a lot of different tasks, e.g. travel time prediction on a road network, computation of failure probabilities of enigneering structures, classification of driving manoeuvres from kinematic data, computation of dynamic wheel loads of vehicles. Or more generally: data analysis, (statistical) modeling, machine learning, signal processing, simulations, ...\n",
    "\n",
    "> 3/12/16 10:23 AM | anonymous | score: 6   Archived\n",
    "Of what should newcomer in SciPy beware most?\n",
    "\n",
    "Difficult question. Some thoughts: understanding broadcasting and vectorization is really important, read the documentation carefully, the [Zen of Python](https://www.python.org/dev/peps/pep-0020/) also holds in the SciPy world (scientific code is software and building software is craftmanship), make pep8, pylint, pytest, git (or similar), etc. your friends, MATLAB users might take a look at this [comparison](https://docs.scipy.org/doc/numpy-dev/user/numpy-for-matlab-users.html). \n",
    "\n",
    "> 3/12/16 10:03 AM | anonymous | score: 6   Archived\n",
    "It is possible to use python instead of labview for control lab devices?\n",
    "\n",
    "From the talk [Automated measurements using Python](https://pycon.sk/en/schedule-saturday.html) I would say yes.\n"
   ]
  }
 ],
 "metadata": {
  "celltoolbar": "Slideshow",
  "kernelspec": {
   "display_name": "Python 3",
   "language": "python",
   "name": "python3"
  },
  "language_info": {
   "codemirror_mode": {
    "name": "ipython",
    "version": 3
   },
   "file_extension": ".py",
   "mimetype": "text/x-python",
   "name": "python",
   "nbconvert_exporter": "python",
   "pygments_lexer": "ipython3",
   "version": "3.5.1"
  }
 },
 "nbformat": 4,
 "nbformat_minor": 0
}
